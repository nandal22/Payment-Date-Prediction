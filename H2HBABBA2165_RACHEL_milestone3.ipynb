{
 "cells": [
  {
   "cell_type": "markdown",
   "id": "fc224d63",
   "metadata": {},
   "source": [
    "# Payment Day Prediction (MACHINE LEARNING): SACHIN H2HBABBA2165"
   ]
  },
  {
   "cell_type": "markdown",
   "id": "053c2b05",
   "metadata": {},
   "source": [
    "Importing the needed libraries"
   ]
  },
  {
   "cell_type": "code",
   "execution_count": 1,
   "id": "b97bad47",
   "metadata": {},
   "outputs": [],
   "source": [
    "import pandas as pd\n",
    "import numpy as np\n",
    "import seaborn as sns\n",
    "from sklearn.model_selection import train_test_split\n",
    "from sklearn.feature_selection import VarianceThreshold\n",
    "import warnings\n",
    "warnings.filterwarnings(\"ignore\")"
   ]
  },
  {
   "cell_type": "code",
   "execution_count": 2,
   "id": "3048df85",
   "metadata": {},
   "outputs": [],
   "source": [
    "data=pd.read_csv('nandal.csv')  #Reading the given csv data file"
   ]
  },
  {
   "cell_type": "code",
   "execution_count": 3,
   "id": "5da320de",
   "metadata": {},
   "outputs": [
    {
     "data": {
      "text/plain": [
       "(50000, 19)"
      ]
     },
     "execution_count": 3,
     "metadata": {},
     "output_type": "execute_result"
    }
   ],
   "source": [
    "data.shape #checking the shape of the data"
   ]
  },
  {
   "cell_type": "markdown",
   "id": "eb3fb5ce",
   "metadata": {},
   "source": [
    "# PIPELINE  (Pre_processing->Splitting->EDA->Feature engg.->Selection           ->Modelling->Prediction)\n",
    "1.Understanding the problem                                                                                                     \n",
    "2.Data Reading                                                                                                                 \n",
    "3.Filtering on whole Data                                                                                                       \n",
    "4.Removing the datapoints where the target value is null(real_test)                                                             \n",
    "5.Preprocess the data                                                                                                           \n",
    "6.Train,validation and test split                                                                                               \n",
    "7.EDA                                                                                                                           \n",
    "8.Feature Engineering                                                                                                           \n",
    "9.Feture Selection                                                                                                             \n",
    "10.Modelling                                                                                                                   \n",
    "11.Payment day prediction on real_test                                                                                         "
   ]
  },
  {
   "cell_type": "code",
   "execution_count": 4,
   "id": "eeff11e3",
   "metadata": {},
   "outputs": [
    {
     "data": {
      "text/html": [
       "<div>\n",
       "<style scoped>\n",
       "    .dataframe tbody tr th:only-of-type {\n",
       "        vertical-align: middle;\n",
       "    }\n",
       "\n",
       "    .dataframe tbody tr th {\n",
       "        vertical-align: top;\n",
       "    }\n",
       "\n",
       "    .dataframe thead th {\n",
       "        text-align: right;\n",
       "    }\n",
       "</style>\n",
       "<table border=\"1\" class=\"dataframe\">\n",
       "  <thead>\n",
       "    <tr style=\"text-align: right;\">\n",
       "      <th></th>\n",
       "      <th>business_code</th>\n",
       "      <th>cust_number</th>\n",
       "      <th>name_customer</th>\n",
       "      <th>clear_date</th>\n",
       "      <th>buisness_year</th>\n",
       "      <th>doc_id</th>\n",
       "      <th>posting_date</th>\n",
       "      <th>document_create_date</th>\n",
       "      <th>document_create_date.1</th>\n",
       "      <th>due_in_date</th>\n",
       "      <th>invoice_currency</th>\n",
       "      <th>document type</th>\n",
       "      <th>posting_id</th>\n",
       "      <th>area_business</th>\n",
       "      <th>total_open_amount</th>\n",
       "      <th>baseline_create_date</th>\n",
       "      <th>cust_payment_terms</th>\n",
       "      <th>invoice_id</th>\n",
       "      <th>isOpen</th>\n",
       "    </tr>\n",
       "  </thead>\n",
       "  <tbody>\n",
       "    <tr>\n",
       "      <th>0</th>\n",
       "      <td>U001</td>\n",
       "      <td>0200466603</td>\n",
       "      <td>SMITH'S llc</td>\n",
       "      <td>2019-01-28 00:00:00</td>\n",
       "      <td>2019.0</td>\n",
       "      <td>1.928606e+09</td>\n",
       "      <td>2019-01-11</td>\n",
       "      <td>20190110</td>\n",
       "      <td>20190111</td>\n",
       "      <td>20190126.0</td>\n",
       "      <td>USD</td>\n",
       "      <td>RV</td>\n",
       "      <td>1.0</td>\n",
       "      <td>NaN</td>\n",
       "      <td>47014.98</td>\n",
       "      <td>20190111.0</td>\n",
       "      <td>NAA8</td>\n",
       "      <td>1.928606e+09</td>\n",
       "      <td>0</td>\n",
       "    </tr>\n",
       "    <tr>\n",
       "      <th>1</th>\n",
       "      <td>U001</td>\n",
       "      <td>0200779051</td>\n",
       "      <td>AFFILI associates</td>\n",
       "      <td>2019-01-23 00:00:00</td>\n",
       "      <td>2019.0</td>\n",
       "      <td>1.928599e+09</td>\n",
       "      <td>2019-01-09</td>\n",
       "      <td>20190110</td>\n",
       "      <td>20190109</td>\n",
       "      <td>20190124.0</td>\n",
       "      <td>USD</td>\n",
       "      <td>RV</td>\n",
       "      <td>1.0</td>\n",
       "      <td>NaN</td>\n",
       "      <td>120017.47</td>\n",
       "      <td>20190109.0</td>\n",
       "      <td>NAA8</td>\n",
       "      <td>1.928599e+09</td>\n",
       "      <td>0</td>\n",
       "    </tr>\n",
       "    <tr>\n",
       "      <th>2</th>\n",
       "      <td>U001</td>\n",
       "      <td>0200769623</td>\n",
       "      <td>WAL-MAR systems</td>\n",
       "      <td>NaN</td>\n",
       "      <td>2020.0</td>\n",
       "      <td>1.930676e+09</td>\n",
       "      <td>2020-03-21</td>\n",
       "      <td>20200320</td>\n",
       "      <td>20200321</td>\n",
       "      <td>20200405.0</td>\n",
       "      <td>USD</td>\n",
       "      <td>RV</td>\n",
       "      <td>1.0</td>\n",
       "      <td>NaN</td>\n",
       "      <td>16497.30</td>\n",
       "      <td>20200321.0</td>\n",
       "      <td>NAH4</td>\n",
       "      <td>1.930676e+09</td>\n",
       "      <td>1</td>\n",
       "    </tr>\n",
       "    <tr>\n",
       "      <th>3</th>\n",
       "      <td>U001</td>\n",
       "      <td>0200769623</td>\n",
       "      <td>WAL-MAR corporation</td>\n",
       "      <td>2019-01-16 00:00:00</td>\n",
       "      <td>2019.0</td>\n",
       "      <td>1.928567e+09</td>\n",
       "      <td>2019-01-05</td>\n",
       "      <td>20190104</td>\n",
       "      <td>20190105</td>\n",
       "      <td>20190120.0</td>\n",
       "      <td>USD</td>\n",
       "      <td>RV</td>\n",
       "      <td>1.0</td>\n",
       "      <td>NaN</td>\n",
       "      <td>13478.29</td>\n",
       "      <td>20190105.0</td>\n",
       "      <td>NAH4</td>\n",
       "      <td>1.928567e+09</td>\n",
       "      <td>0</td>\n",
       "    </tr>\n",
       "    <tr>\n",
       "      <th>4</th>\n",
       "      <td>U001</td>\n",
       "      <td>0200759878</td>\n",
       "      <td>SA foundation</td>\n",
       "      <td>2020-02-03 00:00:00</td>\n",
       "      <td>2020.0</td>\n",
       "      <td>1.930396e+09</td>\n",
       "      <td>2020-01-17</td>\n",
       "      <td>20200114</td>\n",
       "      <td>20200117</td>\n",
       "      <td>20200201.0</td>\n",
       "      <td>USD</td>\n",
       "      <td>RV</td>\n",
       "      <td>1.0</td>\n",
       "      <td>NaN</td>\n",
       "      <td>19474.56</td>\n",
       "      <td>20200117.0</td>\n",
       "      <td>NAH4</td>\n",
       "      <td>1.930396e+09</td>\n",
       "      <td>0</td>\n",
       "    </tr>\n",
       "  </tbody>\n",
       "</table>\n",
       "</div>"
      ],
      "text/plain": [
       "  business_code cust_number        name_customer           clear_date  \\\n",
       "0          U001  0200466603          SMITH'S llc  2019-01-28 00:00:00   \n",
       "1          U001  0200779051    AFFILI associates  2019-01-23 00:00:00   \n",
       "2          U001  0200769623      WAL-MAR systems                  NaN   \n",
       "3          U001  0200769623  WAL-MAR corporation  2019-01-16 00:00:00   \n",
       "4          U001  0200759878        SA foundation  2020-02-03 00:00:00   \n",
       "\n",
       "   buisness_year        doc_id posting_date  document_create_date  \\\n",
       "0         2019.0  1.928606e+09   2019-01-11              20190110   \n",
       "1         2019.0  1.928599e+09   2019-01-09              20190110   \n",
       "2         2020.0  1.930676e+09   2020-03-21              20200320   \n",
       "3         2019.0  1.928567e+09   2019-01-05              20190104   \n",
       "4         2020.0  1.930396e+09   2020-01-17              20200114   \n",
       "\n",
       "   document_create_date.1  due_in_date invoice_currency document type  \\\n",
       "0                20190111   20190126.0              USD            RV   \n",
       "1                20190109   20190124.0              USD            RV   \n",
       "2                20200321   20200405.0              USD            RV   \n",
       "3                20190105   20190120.0              USD            RV   \n",
       "4                20200117   20200201.0              USD            RV   \n",
       "\n",
       "   posting_id  area_business  total_open_amount  baseline_create_date  \\\n",
       "0         1.0            NaN           47014.98            20190111.0   \n",
       "1         1.0            NaN          120017.47            20190109.0   \n",
       "2         1.0            NaN           16497.30            20200321.0   \n",
       "3         1.0            NaN           13478.29            20190105.0   \n",
       "4         1.0            NaN           19474.56            20200117.0   \n",
       "\n",
       "  cust_payment_terms    invoice_id  isOpen  \n",
       "0               NAA8  1.928606e+09       0  \n",
       "1               NAA8  1.928599e+09       0  \n",
       "2               NAH4  1.930676e+09       1  \n",
       "3               NAH4  1.928567e+09       0  \n",
       "4               NAH4  1.930396e+09       0  "
      ]
     },
     "execution_count": 4,
     "metadata": {},
     "output_type": "execute_result"
    }
   ],
   "source": [
    "data.head() #checking the first five rows of data"
   ]
  },
  {
   "cell_type": "code",
   "execution_count": 5,
   "id": "4ec04e12",
   "metadata": {},
   "outputs": [
    {
     "data": {
      "text/html": [
       "<div>\n",
       "<style scoped>\n",
       "    .dataframe tbody tr th:only-of-type {\n",
       "        vertical-align: middle;\n",
       "    }\n",
       "\n",
       "    .dataframe tbody tr th {\n",
       "        vertical-align: top;\n",
       "    }\n",
       "\n",
       "    .dataframe thead th {\n",
       "        text-align: right;\n",
       "    }\n",
       "</style>\n",
       "<table border=\"1\" class=\"dataframe\">\n",
       "  <thead>\n",
       "    <tr style=\"text-align: right;\">\n",
       "      <th></th>\n",
       "      <th>business_code</th>\n",
       "      <th>cust_number</th>\n",
       "      <th>name_customer</th>\n",
       "      <th>clear_date</th>\n",
       "      <th>buisness_year</th>\n",
       "      <th>doc_id</th>\n",
       "      <th>posting_date</th>\n",
       "      <th>document_create_date</th>\n",
       "      <th>document_create_date.1</th>\n",
       "      <th>due_in_date</th>\n",
       "      <th>invoice_currency</th>\n",
       "      <th>document type</th>\n",
       "      <th>posting_id</th>\n",
       "      <th>area_business</th>\n",
       "      <th>total_open_amount</th>\n",
       "      <th>baseline_create_date</th>\n",
       "      <th>cust_payment_terms</th>\n",
       "      <th>invoice_id</th>\n",
       "      <th>isOpen</th>\n",
       "    </tr>\n",
       "  </thead>\n",
       "  <tbody>\n",
       "    <tr>\n",
       "      <th>49995</th>\n",
       "      <td>U001</td>\n",
       "      <td>0200762301</td>\n",
       "      <td>C&amp;S WH systems</td>\n",
       "      <td>2019-02-01 00:00:00</td>\n",
       "      <td>2019.0</td>\n",
       "      <td>1.928637e+09</td>\n",
       "      <td>2019-01-17</td>\n",
       "      <td>20190117</td>\n",
       "      <td>20190117</td>\n",
       "      <td>20190201.0</td>\n",
       "      <td>USD</td>\n",
       "      <td>RV</td>\n",
       "      <td>1.0</td>\n",
       "      <td>NaN</td>\n",
       "      <td>2112.63</td>\n",
       "      <td>20190117.0</td>\n",
       "      <td>NAC6</td>\n",
       "      <td>1.928637e+09</td>\n",
       "      <td>0</td>\n",
       "    </tr>\n",
       "    <tr>\n",
       "      <th>49996</th>\n",
       "      <td>U001</td>\n",
       "      <td>0200759878</td>\n",
       "      <td>SA corporation</td>\n",
       "      <td>2019-11-26 00:00:00</td>\n",
       "      <td>2019.0</td>\n",
       "      <td>1.930133e+09</td>\n",
       "      <td>2019-11-10</td>\n",
       "      <td>20191109</td>\n",
       "      <td>20191110</td>\n",
       "      <td>20191125.0</td>\n",
       "      <td>USD</td>\n",
       "      <td>RV</td>\n",
       "      <td>1.0</td>\n",
       "      <td>NaN</td>\n",
       "      <td>98621.05</td>\n",
       "      <td>20191110.0</td>\n",
       "      <td>NAH4</td>\n",
       "      <td>1.930133e+09</td>\n",
       "      <td>0</td>\n",
       "    </tr>\n",
       "    <tr>\n",
       "      <th>49997</th>\n",
       "      <td>U001</td>\n",
       "      <td>0200418007</td>\n",
       "      <td>AM systems</td>\n",
       "      <td>2019-05-01 00:00:00</td>\n",
       "      <td>2019.0</td>\n",
       "      <td>1.929158e+09</td>\n",
       "      <td>2019-04-16</td>\n",
       "      <td>20190417</td>\n",
       "      <td>20190416</td>\n",
       "      <td>20190620.0</td>\n",
       "      <td>USD</td>\n",
       "      <td>RV</td>\n",
       "      <td>1.0</td>\n",
       "      <td>NaN</td>\n",
       "      <td>888.84</td>\n",
       "      <td>20190416.0</td>\n",
       "      <td>NAGD</td>\n",
       "      <td>1.929158e+09</td>\n",
       "      <td>0</td>\n",
       "    </tr>\n",
       "    <tr>\n",
       "      <th>49998</th>\n",
       "      <td>U001</td>\n",
       "      <td>0200769623</td>\n",
       "      <td>WAL-MAR systems</td>\n",
       "      <td>2019-07-12 00:00:00</td>\n",
       "      <td>2019.0</td>\n",
       "      <td>1.929559e+09</td>\n",
       "      <td>2019-06-29</td>\n",
       "      <td>20190629</td>\n",
       "      <td>20190629</td>\n",
       "      <td>20190714.0</td>\n",
       "      <td>USD</td>\n",
       "      <td>RV</td>\n",
       "      <td>1.0</td>\n",
       "      <td>NaN</td>\n",
       "      <td>65217.16</td>\n",
       "      <td>20190629.0</td>\n",
       "      <td>NAH4</td>\n",
       "      <td>1.929559e+09</td>\n",
       "      <td>0</td>\n",
       "    </tr>\n",
       "    <tr>\n",
       "      <th>49999</th>\n",
       "      <td>CA02</td>\n",
       "      <td>0140104429</td>\n",
       "      <td>COSTCO corporation</td>\n",
       "      <td>2019-03-13 00:00:00</td>\n",
       "      <td>2019.0</td>\n",
       "      <td>2.960530e+09</td>\n",
       "      <td>2019-02-19</td>\n",
       "      <td>20190219</td>\n",
       "      <td>20190219</td>\n",
       "      <td>20190309.0</td>\n",
       "      <td>CAD</td>\n",
       "      <td>RV</td>\n",
       "      <td>1.0</td>\n",
       "      <td>NaN</td>\n",
       "      <td>13915.52</td>\n",
       "      <td>20190227.0</td>\n",
       "      <td>CA10</td>\n",
       "      <td>2.960530e+09</td>\n",
       "      <td>0</td>\n",
       "    </tr>\n",
       "  </tbody>\n",
       "</table>\n",
       "</div>"
      ],
      "text/plain": [
       "      business_code cust_number       name_customer           clear_date  \\\n",
       "49995          U001  0200762301      C&S WH systems  2019-02-01 00:00:00   \n",
       "49996          U001  0200759878      SA corporation  2019-11-26 00:00:00   \n",
       "49997          U001  0200418007          AM systems  2019-05-01 00:00:00   \n",
       "49998          U001  0200769623     WAL-MAR systems  2019-07-12 00:00:00   \n",
       "49999          CA02  0140104429  COSTCO corporation  2019-03-13 00:00:00   \n",
       "\n",
       "       buisness_year        doc_id posting_date  document_create_date  \\\n",
       "49995         2019.0  1.928637e+09   2019-01-17              20190117   \n",
       "49996         2019.0  1.930133e+09   2019-11-10              20191109   \n",
       "49997         2019.0  1.929158e+09   2019-04-16              20190417   \n",
       "49998         2019.0  1.929559e+09   2019-06-29              20190629   \n",
       "49999         2019.0  2.960530e+09   2019-02-19              20190219   \n",
       "\n",
       "       document_create_date.1  due_in_date invoice_currency document type  \\\n",
       "49995                20190117   20190201.0              USD            RV   \n",
       "49996                20191110   20191125.0              USD            RV   \n",
       "49997                20190416   20190620.0              USD            RV   \n",
       "49998                20190629   20190714.0              USD            RV   \n",
       "49999                20190219   20190309.0              CAD            RV   \n",
       "\n",
       "       posting_id  area_business  total_open_amount  baseline_create_date  \\\n",
       "49995         1.0            NaN            2112.63            20190117.0   \n",
       "49996         1.0            NaN           98621.05            20191110.0   \n",
       "49997         1.0            NaN             888.84            20190416.0   \n",
       "49998         1.0            NaN           65217.16            20190629.0   \n",
       "49999         1.0            NaN           13915.52            20190227.0   \n",
       "\n",
       "      cust_payment_terms    invoice_id  isOpen  \n",
       "49995               NAC6  1.928637e+09       0  \n",
       "49996               NAH4  1.930133e+09       0  \n",
       "49997               NAGD  1.929158e+09       0  \n",
       "49998               NAH4  1.929559e+09       0  \n",
       "49999               CA10  2.960530e+09       0  "
      ]
     },
     "execution_count": 5,
     "metadata": {},
     "output_type": "execute_result"
    }
   ],
   "source": [
    "data.tail() #checking the last 5 rows of data"
   ]
  },
  {
   "cell_type": "markdown",
   "id": "0b580dfe",
   "metadata": {},
   "source": [
    "# Filtering on whole Data"
   ]
  },
  {
   "cell_type": "code",
   "execution_count": 6,
   "id": "28825166",
   "metadata": {},
   "outputs": [
    {
     "data": {
      "text/plain": [
       "business_code                 0\n",
       "cust_number                   0\n",
       "name_customer                 0\n",
       "clear_date                10000\n",
       "buisness_year                 0\n",
       "doc_id                        0\n",
       "posting_date                  0\n",
       "document_create_date          0\n",
       "document_create_date.1        0\n",
       "due_in_date                   0\n",
       "invoice_currency              0\n",
       "document type                 0\n",
       "posting_id                    0\n",
       "area_business             50000\n",
       "total_open_amount             0\n",
       "baseline_create_date          0\n",
       "cust_payment_terms            0\n",
       "invoice_id                    3\n",
       "isOpen                        0\n",
       "dtype: int64"
      ]
     },
     "execution_count": 6,
     "metadata": {},
     "output_type": "execute_result"
    }
   ],
   "source": [
    "data.isnull().sum() #checking the NULL values in data"
   ]
  },
  {
   "cell_type": "code",
   "execution_count": 7,
   "id": "a3565779",
   "metadata": {},
   "outputs": [
    {
     "name": "stdout",
     "output_type": "stream",
     "text": [
      "<class 'pandas.core.frame.DataFrame'>\n",
      "RangeIndex: 50000 entries, 0 to 49999\n",
      "Data columns (total 19 columns):\n",
      " #   Column                  Non-Null Count  Dtype  \n",
      "---  ------                  --------------  -----  \n",
      " 0   business_code           50000 non-null  object \n",
      " 1   cust_number             50000 non-null  object \n",
      " 2   name_customer           50000 non-null  object \n",
      " 3   clear_date              40000 non-null  object \n",
      " 4   buisness_year           50000 non-null  float64\n",
      " 5   doc_id                  50000 non-null  float64\n",
      " 6   posting_date            50000 non-null  object \n",
      " 7   document_create_date    50000 non-null  int64  \n",
      " 8   document_create_date.1  50000 non-null  int64  \n",
      " 9   due_in_date             50000 non-null  float64\n",
      " 10  invoice_currency        50000 non-null  object \n",
      " 11  document type           50000 non-null  object \n",
      " 12  posting_id              50000 non-null  float64\n",
      " 13  area_business           0 non-null      float64\n",
      " 14  total_open_amount       50000 non-null  float64\n",
      " 15  baseline_create_date    50000 non-null  float64\n",
      " 16  cust_payment_terms      50000 non-null  object \n",
      " 17  invoice_id              49997 non-null  float64\n",
      " 18  isOpen                  50000 non-null  int64  \n",
      "dtypes: float64(8), int64(3), object(8)\n",
      "memory usage: 7.2+ MB\n"
     ]
    }
   ],
   "source": [
    "data.info()                   #Checking the info "
   ]
  },
  {
   "cell_type": "code",
   "execution_count": 8,
   "id": "7d7003d2",
   "metadata": {},
   "outputs": [],
   "source": [
    "vs_constant = VarianceThreshold(threshold=0)                 #Checking for the constant feature using Variance threshold"
   ]
  },
  {
   "cell_type": "code",
   "execution_count": 9,
   "id": "4e2d88ce",
   "metadata": {},
   "outputs": [],
   "source": [
    "numerical = data[data.select_dtypes([np.number]).columns]    #Only taking numerical column for variance threshold"
   ]
  },
  {
   "cell_type": "code",
   "execution_count": 10,
   "id": "9a18e22d",
   "metadata": {},
   "outputs": [
    {
     "data": {
      "text/plain": [
       "VarianceThreshold(threshold=0)"
      ]
     },
     "execution_count": 10,
     "metadata": {},
     "output_type": "execute_result"
    }
   ],
   "source": [
    "vs_constant.fit(numerical)                                   # fitting the numerical columns\n"
   ]
  },
  {
   "cell_type": "code",
   "execution_count": 11,
   "id": "f147a2f8",
   "metadata": {},
   "outputs": [],
   "source": [
    "constant_columns = [column for column in numerical.columns                                   #for constant column\n",
    "                    if column not in numerical.columns[vs_constant.get_support()]]\n"
   ]
  },
  {
   "cell_type": "code",
   "execution_count": 12,
   "id": "1be40241",
   "metadata": {},
   "outputs": [
    {
     "data": {
      "text/plain": [
       "(50000, 19)"
      ]
     },
     "execution_count": 12,
     "metadata": {},
     "output_type": "execute_result"
    }
   ],
   "source": [
    "data.shape"
   ]
  },
  {
   "cell_type": "code",
   "execution_count": 13,
   "id": "101de2b1",
   "metadata": {},
   "outputs": [
    {
     "data": {
      "text/html": [
       "<div>\n",
       "<style scoped>\n",
       "    .dataframe tbody tr th:only-of-type {\n",
       "        vertical-align: middle;\n",
       "    }\n",
       "\n",
       "    .dataframe tbody tr th {\n",
       "        vertical-align: top;\n",
       "    }\n",
       "\n",
       "    .dataframe thead th {\n",
       "        text-align: right;\n",
       "    }\n",
       "</style>\n",
       "<table border=\"1\" class=\"dataframe\">\n",
       "  <thead>\n",
       "    <tr style=\"text-align: right;\">\n",
       "      <th></th>\n",
       "      <th>business_code</th>\n",
       "      <th>cust_number</th>\n",
       "      <th>name_customer</th>\n",
       "      <th>clear_date</th>\n",
       "      <th>buisness_year</th>\n",
       "      <th>doc_id</th>\n",
       "      <th>posting_date</th>\n",
       "      <th>document_create_date</th>\n",
       "      <th>document_create_date.1</th>\n",
       "      <th>due_in_date</th>\n",
       "      <th>invoice_currency</th>\n",
       "      <th>document type</th>\n",
       "      <th>posting_id</th>\n",
       "      <th>area_business</th>\n",
       "      <th>total_open_amount</th>\n",
       "      <th>baseline_create_date</th>\n",
       "      <th>cust_payment_terms</th>\n",
       "      <th>invoice_id</th>\n",
       "      <th>isOpen</th>\n",
       "    </tr>\n",
       "  </thead>\n",
       "  <tbody>\n",
       "    <tr>\n",
       "      <th>0</th>\n",
       "      <td>U001</td>\n",
       "      <td>0200466603</td>\n",
       "      <td>SMITH'S llc</td>\n",
       "      <td>2019-01-28 00:00:00</td>\n",
       "      <td>2019.0</td>\n",
       "      <td>1.928606e+09</td>\n",
       "      <td>2019-01-11</td>\n",
       "      <td>20190110</td>\n",
       "      <td>20190111</td>\n",
       "      <td>20190126.0</td>\n",
       "      <td>USD</td>\n",
       "      <td>RV</td>\n",
       "      <td>1.0</td>\n",
       "      <td>NaN</td>\n",
       "      <td>47014.98</td>\n",
       "      <td>20190111.0</td>\n",
       "      <td>NAA8</td>\n",
       "      <td>1.928606e+09</td>\n",
       "      <td>0</td>\n",
       "    </tr>\n",
       "    <tr>\n",
       "      <th>1</th>\n",
       "      <td>U001</td>\n",
       "      <td>0200779051</td>\n",
       "      <td>AFFILI associates</td>\n",
       "      <td>2019-01-23 00:00:00</td>\n",
       "      <td>2019.0</td>\n",
       "      <td>1.928599e+09</td>\n",
       "      <td>2019-01-09</td>\n",
       "      <td>20190110</td>\n",
       "      <td>20190109</td>\n",
       "      <td>20190124.0</td>\n",
       "      <td>USD</td>\n",
       "      <td>RV</td>\n",
       "      <td>1.0</td>\n",
       "      <td>NaN</td>\n",
       "      <td>120017.47</td>\n",
       "      <td>20190109.0</td>\n",
       "      <td>NAA8</td>\n",
       "      <td>1.928599e+09</td>\n",
       "      <td>0</td>\n",
       "    </tr>\n",
       "    <tr>\n",
       "      <th>2</th>\n",
       "      <td>U001</td>\n",
       "      <td>0200769623</td>\n",
       "      <td>WAL-MAR systems</td>\n",
       "      <td>NaN</td>\n",
       "      <td>2020.0</td>\n",
       "      <td>1.930676e+09</td>\n",
       "      <td>2020-03-21</td>\n",
       "      <td>20200320</td>\n",
       "      <td>20200321</td>\n",
       "      <td>20200405.0</td>\n",
       "      <td>USD</td>\n",
       "      <td>RV</td>\n",
       "      <td>1.0</td>\n",
       "      <td>NaN</td>\n",
       "      <td>16497.30</td>\n",
       "      <td>20200321.0</td>\n",
       "      <td>NAH4</td>\n",
       "      <td>1.930676e+09</td>\n",
       "      <td>1</td>\n",
       "    </tr>\n",
       "    <tr>\n",
       "      <th>3</th>\n",
       "      <td>U001</td>\n",
       "      <td>0200769623</td>\n",
       "      <td>WAL-MAR corporation</td>\n",
       "      <td>2019-01-16 00:00:00</td>\n",
       "      <td>2019.0</td>\n",
       "      <td>1.928567e+09</td>\n",
       "      <td>2019-01-05</td>\n",
       "      <td>20190104</td>\n",
       "      <td>20190105</td>\n",
       "      <td>20190120.0</td>\n",
       "      <td>USD</td>\n",
       "      <td>RV</td>\n",
       "      <td>1.0</td>\n",
       "      <td>NaN</td>\n",
       "      <td>13478.29</td>\n",
       "      <td>20190105.0</td>\n",
       "      <td>NAH4</td>\n",
       "      <td>1.928567e+09</td>\n",
       "      <td>0</td>\n",
       "    </tr>\n",
       "    <tr>\n",
       "      <th>4</th>\n",
       "      <td>U001</td>\n",
       "      <td>0200759878</td>\n",
       "      <td>SA foundation</td>\n",
       "      <td>2020-02-03 00:00:00</td>\n",
       "      <td>2020.0</td>\n",
       "      <td>1.930396e+09</td>\n",
       "      <td>2020-01-17</td>\n",
       "      <td>20200114</td>\n",
       "      <td>20200117</td>\n",
       "      <td>20200201.0</td>\n",
       "      <td>USD</td>\n",
       "      <td>RV</td>\n",
       "      <td>1.0</td>\n",
       "      <td>NaN</td>\n",
       "      <td>19474.56</td>\n",
       "      <td>20200117.0</td>\n",
       "      <td>NAH4</td>\n",
       "      <td>1.930396e+09</td>\n",
       "      <td>0</td>\n",
       "    </tr>\n",
       "  </tbody>\n",
       "</table>\n",
       "</div>"
      ],
      "text/plain": [
       "  business_code cust_number        name_customer           clear_date  \\\n",
       "0          U001  0200466603          SMITH'S llc  2019-01-28 00:00:00   \n",
       "1          U001  0200779051    AFFILI associates  2019-01-23 00:00:00   \n",
       "2          U001  0200769623      WAL-MAR systems                  NaN   \n",
       "3          U001  0200769623  WAL-MAR corporation  2019-01-16 00:00:00   \n",
       "4          U001  0200759878        SA foundation  2020-02-03 00:00:00   \n",
       "\n",
       "   buisness_year        doc_id posting_date  document_create_date  \\\n",
       "0         2019.0  1.928606e+09   2019-01-11              20190110   \n",
       "1         2019.0  1.928599e+09   2019-01-09              20190110   \n",
       "2         2020.0  1.930676e+09   2020-03-21              20200320   \n",
       "3         2019.0  1.928567e+09   2019-01-05              20190104   \n",
       "4         2020.0  1.930396e+09   2020-01-17              20200114   \n",
       "\n",
       "   document_create_date.1  due_in_date invoice_currency document type  \\\n",
       "0                20190111   20190126.0              USD            RV   \n",
       "1                20190109   20190124.0              USD            RV   \n",
       "2                20200321   20200405.0              USD            RV   \n",
       "3                20190105   20190120.0              USD            RV   \n",
       "4                20200117   20200201.0              USD            RV   \n",
       "\n",
       "   posting_id  area_business  total_open_amount  baseline_create_date  \\\n",
       "0         1.0            NaN           47014.98            20190111.0   \n",
       "1         1.0            NaN          120017.47            20190109.0   \n",
       "2         1.0            NaN           16497.30            20200321.0   \n",
       "3         1.0            NaN           13478.29            20190105.0   \n",
       "4         1.0            NaN           19474.56            20200117.0   \n",
       "\n",
       "  cust_payment_terms    invoice_id  isOpen  \n",
       "0               NAA8  1.928606e+09       0  \n",
       "1               NAA8  1.928599e+09       0  \n",
       "2               NAH4  1.930676e+09       1  \n",
       "3               NAH4  1.928567e+09       0  \n",
       "4               NAH4  1.930396e+09       0  "
      ]
     },
     "execution_count": 13,
     "metadata": {},
     "output_type": "execute_result"
    }
   ],
   "source": [
    "data.head()"
   ]
  },
  {
   "cell_type": "code",
   "execution_count": 14,
   "id": "d3146eeb",
   "metadata": {},
   "outputs": [],
   "source": [
    "data.drop(labels=constant_columns, axis=1, inplace=True)   #dropping all constant features"
   ]
  },
  {
   "cell_type": "code",
   "execution_count": 15,
   "id": "58b461c3",
   "metadata": {},
   "outputs": [
    {
     "data": {
      "text/plain": [
       "(50000, 17)"
      ]
     },
     "execution_count": 15,
     "metadata": {},
     "output_type": "execute_result"
    }
   ],
   "source": [
    "data.shape    #we have dropped 2 constant columns"
   ]
  },
  {
   "cell_type": "code",
   "execution_count": 16,
   "id": "95b5d11f",
   "metadata": {},
   "outputs": [],
   "source": [
    "# make a threshold for quasi constant.\n",
    "threshold = 0.98\n",
    "\n",
    "# create empty list\n",
    "quasi_constant_feature = []"
   ]
  },
  {
   "cell_type": "code",
   "execution_count": 17,
   "id": "125b4d77",
   "metadata": {},
   "outputs": [
    {
     "name": "stdout",
     "output_type": "stream",
     "text": [
      "['document type']\n"
     ]
    }
   ],
   "source": [
    "for feature in data.columns:\n",
    "\n",
    "    # calculate the ratio.\n",
    "    predominant = (data[feature].value_counts() / np.float(len(data))).sort_values(ascending=False).values[0]\n",
    "    \n",
    "    # append the column name if it is bigger than the threshold\n",
    "    if predominant >= threshold:\n",
    "        quasi_constant_feature.append(feature)   \n",
    "        \n",
    "print(quasi_constant_feature)"
   ]
  },
  {
   "cell_type": "code",
   "execution_count": 18,
   "id": "6d23c40b",
   "metadata": {},
   "outputs": [],
   "source": [
    "data.drop(labels=quasi_constant_feature, axis=1, inplace=True)  #dropping quasi_constant feature"
   ]
  },
  {
   "cell_type": "code",
   "execution_count": 19,
   "id": "0954e5f0",
   "metadata": {},
   "outputs": [
    {
     "data": {
      "text/plain": [
       "business_code              object\n",
       "cust_number                object\n",
       "name_customer              object\n",
       "clear_date                 object\n",
       "buisness_year             float64\n",
       "doc_id                    float64\n",
       "posting_date               object\n",
       "document_create_date        int64\n",
       "document_create_date.1      int64\n",
       "due_in_date               float64\n",
       "invoice_currency           object\n",
       "total_open_amount         float64\n",
       "baseline_create_date      float64\n",
       "cust_payment_terms         object\n",
       "invoice_id                float64\n",
       "isOpen                      int64\n",
       "dtype: object"
      ]
     },
     "execution_count": 19,
     "metadata": {},
     "output_type": "execute_result"
    }
   ],
   "source": [
    "data.dtypes"
   ]
  },
  {
   "cell_type": "markdown",
   "id": "976930a5",
   "metadata": {},
   "source": [
    "## Changing the datetime columns in their correct format"
   ]
  },
  {
   "cell_type": "code",
   "execution_count": 20,
   "id": "750d7688",
   "metadata": {},
   "outputs": [],
   "source": [
    "data['document_create_date.1']=pd.to_datetime(data['document_create_date.1'],format='%Y%m%d')\n",
    "data['due_in_date']=pd.to_datetime(data['due_in_date'],format='%Y%m%d')\n",
    "data['baseline_create_date']=pd.to_datetime(data['baseline_create_date'],format='%Y%m%d')\n",
    "data['clear_date']=pd.to_datetime(data['clear_date'])"
   ]
  },
  {
   "cell_type": "code",
   "execution_count": 21,
   "id": "0262c30c",
   "metadata": {},
   "outputs": [
    {
     "data": {
      "text/plain": [
       "business_code                     object\n",
       "cust_number                       object\n",
       "name_customer                     object\n",
       "clear_date                datetime64[ns]\n",
       "buisness_year                    float64\n",
       "doc_id                           float64\n",
       "posting_date                      object\n",
       "document_create_date               int64\n",
       "document_create_date.1    datetime64[ns]\n",
       "due_in_date               datetime64[ns]\n",
       "invoice_currency                  object\n",
       "total_open_amount                float64\n",
       "baseline_create_date      datetime64[ns]\n",
       "cust_payment_terms                object\n",
       "invoice_id                       float64\n",
       "isOpen                             int64\n",
       "dtype: object"
      ]
     },
     "execution_count": 21,
     "metadata": {},
     "output_type": "execute_result"
    }
   ],
   "source": [
    "data.dtypes"
   ]
  },
  {
   "cell_type": "markdown",
   "id": "a4c7d7c3",
   "metadata": {},
   "source": [
    "Dropping document_create_date : Because we have similar other column document_create_date.1"
   ]
  },
  {
   "cell_type": "code",
   "execution_count": 22,
   "id": "a60e1f9b",
   "metadata": {},
   "outputs": [],
   "source": [
    "data=data.drop(['document_create_date'],axis=1)  "
   ]
  },
  {
   "cell_type": "markdown",
   "id": "7ff8ca0a",
   "metadata": {},
   "source": [
    "## Removing the datapoints where the target value is null(real_test)"
   ]
  },
  {
   "cell_type": "code",
   "execution_count": 23,
   "id": "b37d1c37",
   "metadata": {},
   "outputs": [
    {
     "data": {
      "text/plain": [
       "((40000, 15), (10000, 15))"
      ]
     },
     "execution_count": 23,
     "metadata": {},
     "output_type": "execute_result"
    }
   ],
   "source": [
    "split_data=data['clear_date'].notnull()  #spliting data in two parts to add NULL values from clear_date into real_test\n",
    "d2165=data[split_data]         #making a dataet with no null values : d2165\n",
    "real_test=data[~split_data]    #making the dataset that contains NULL values : real_test\n",
    "d2165.shape,real_test.shape    #checking the shape of the data"
   ]
  },
  {
   "cell_type": "markdown",
   "id": "0b7b43c1",
   "metadata": {},
   "source": [
    "## Preprocessing the data"
   ]
  },
  {
   "cell_type": "code",
   "execution_count": 24,
   "id": "fcf18c14",
   "metadata": {},
   "outputs": [
    {
     "data": {
      "text/plain": [
       "['invoice_id']"
      ]
     },
     "execution_count": 24,
     "metadata": {},
     "output_type": "execute_result"
    }
   ],
   "source": [
    "[col for col in d2165.columns if d2165[col].isnull().sum() > 0]  #Checking if there any NULL values "
   ]
  },
  {
   "cell_type": "code",
   "execution_count": 25,
   "id": "57a643b9",
   "metadata": {},
   "outputs": [
    {
     "data": {
      "text/plain": [
       "business_code             0\n",
       "cust_number               0\n",
       "name_customer             0\n",
       "clear_date                0\n",
       "buisness_year             0\n",
       "doc_id                    0\n",
       "posting_date              0\n",
       "document_create_date.1    0\n",
       "due_in_date               0\n",
       "invoice_currency          0\n",
       "total_open_amount         0\n",
       "baseline_create_date      0\n",
       "cust_payment_terms        0\n",
       "invoice_id                0\n",
       "isOpen                    0\n",
       "dtype: int64"
      ]
     },
     "execution_count": 25,
     "metadata": {},
     "output_type": "execute_result"
    }
   ],
   "source": [
    "d_meadian=d2165['invoice_id']\n",
    "d2165=d2165.fillna(d_meadian.median())     #Replacing the null values with the median of the column\n",
    "d2165.isnull().sum()"
   ]
  },
  {
   "cell_type": "markdown",
   "id": "15f85cca",
   "metadata": {},
   "source": [
    "## Deriving the target column as delay_days from due_date and clear_date"
   ]
  },
  {
   "cell_type": "code",
   "execution_count": 26,
   "id": "0f657cdb",
   "metadata": {},
   "outputs": [
    {
     "data": {
      "text/plain": [
       "0        -2\n",
       "1         1\n",
       "3         4\n",
       "4        -2\n",
       "5         8\n",
       "         ..\n",
       "49995     0\n",
       "49996    -1\n",
       "49997    50\n",
       "49998     2\n",
       "49999    -4\n",
       "Name: delay_days, Length: 40000, dtype: int64"
      ]
     },
     "execution_count": 26,
     "metadata": {},
     "output_type": "execute_result"
    }
   ],
   "source": [
    "a=d2165['clear_date']\n",
    "b=d2165['due_in_date']\n",
    "d2165['delay_days']=(b-a).dt.days\n",
    "d2165['delay_days']"
   ]
  },
  {
   "cell_type": "code",
   "execution_count": 27,
   "id": "246968f6",
   "metadata": {},
   "outputs": [
    {
     "data": {
      "text/plain": [
       "(40000, 16)"
      ]
     },
     "execution_count": 27,
     "metadata": {},
     "output_type": "execute_result"
    }
   ],
   "source": [
    "d2165.shape"
   ]
  },
  {
   "cell_type": "code",
   "execution_count": 28,
   "id": "91bfb312",
   "metadata": {},
   "outputs": [
    {
     "data": {
      "text/plain": [
       "(38319, 16)"
      ]
     },
     "execution_count": 28,
     "metadata": {},
     "output_type": "execute_result"
    }
   ],
   "source": [
    "d2165.drop_duplicates(keep=False,inplace=True)\n",
    "d2165.shape #After dropping duplicates values"
   ]
  },
  {
   "cell_type": "code",
   "execution_count": 29,
   "id": "7863f373",
   "metadata": {},
   "outputs": [
    {
     "data": {
      "text/html": [
       "<div>\n",
       "<style scoped>\n",
       "    .dataframe tbody tr th:only-of-type {\n",
       "        vertical-align: middle;\n",
       "    }\n",
       "\n",
       "    .dataframe tbody tr th {\n",
       "        vertical-align: top;\n",
       "    }\n",
       "\n",
       "    .dataframe thead th {\n",
       "        text-align: right;\n",
       "    }\n",
       "</style>\n",
       "<table border=\"1\" class=\"dataframe\">\n",
       "  <thead>\n",
       "    <tr style=\"text-align: right;\">\n",
       "      <th></th>\n",
       "      <th>business_code</th>\n",
       "      <th>cust_number</th>\n",
       "      <th>name_customer</th>\n",
       "      <th>clear_date</th>\n",
       "      <th>buisness_year</th>\n",
       "      <th>doc_id</th>\n",
       "      <th>posting_date</th>\n",
       "      <th>document_create_date.1</th>\n",
       "      <th>due_in_date</th>\n",
       "      <th>invoice_currency</th>\n",
       "      <th>total_open_amount</th>\n",
       "      <th>baseline_create_date</th>\n",
       "      <th>cust_payment_terms</th>\n",
       "      <th>invoice_id</th>\n",
       "      <th>isOpen</th>\n",
       "    </tr>\n",
       "  </thead>\n",
       "  <tbody>\n",
       "    <tr>\n",
       "      <th>0</th>\n",
       "      <td>U001</td>\n",
       "      <td>0200466603</td>\n",
       "      <td>SMITH'S llc</td>\n",
       "      <td>2019-01-28</td>\n",
       "      <td>2019.0</td>\n",
       "      <td>1.928606e+09</td>\n",
       "      <td>2019-01-11</td>\n",
       "      <td>2019-01-11</td>\n",
       "      <td>2019-01-26</td>\n",
       "      <td>USD</td>\n",
       "      <td>47014.98</td>\n",
       "      <td>2019-01-11</td>\n",
       "      <td>NAA8</td>\n",
       "      <td>1.928606e+09</td>\n",
       "      <td>0</td>\n",
       "    </tr>\n",
       "    <tr>\n",
       "      <th>1</th>\n",
       "      <td>U001</td>\n",
       "      <td>0200779051</td>\n",
       "      <td>AFFILI associates</td>\n",
       "      <td>2019-01-23</td>\n",
       "      <td>2019.0</td>\n",
       "      <td>1.928599e+09</td>\n",
       "      <td>2019-01-09</td>\n",
       "      <td>2019-01-09</td>\n",
       "      <td>2019-01-24</td>\n",
       "      <td>USD</td>\n",
       "      <td>120017.47</td>\n",
       "      <td>2019-01-09</td>\n",
       "      <td>NAA8</td>\n",
       "      <td>1.928599e+09</td>\n",
       "      <td>0</td>\n",
       "    </tr>\n",
       "    <tr>\n",
       "      <th>2</th>\n",
       "      <td>U001</td>\n",
       "      <td>0200769623</td>\n",
       "      <td>WAL-MAR systems</td>\n",
       "      <td>NaT</td>\n",
       "      <td>2020.0</td>\n",
       "      <td>1.930676e+09</td>\n",
       "      <td>2020-03-21</td>\n",
       "      <td>2020-03-21</td>\n",
       "      <td>2020-04-05</td>\n",
       "      <td>USD</td>\n",
       "      <td>16497.30</td>\n",
       "      <td>2020-03-21</td>\n",
       "      <td>NAH4</td>\n",
       "      <td>1.930676e+09</td>\n",
       "      <td>1</td>\n",
       "    </tr>\n",
       "    <tr>\n",
       "      <th>3</th>\n",
       "      <td>U001</td>\n",
       "      <td>0200769623</td>\n",
       "      <td>WAL-MAR corporation</td>\n",
       "      <td>2019-01-16</td>\n",
       "      <td>2019.0</td>\n",
       "      <td>1.928567e+09</td>\n",
       "      <td>2019-01-05</td>\n",
       "      <td>2019-01-05</td>\n",
       "      <td>2019-01-20</td>\n",
       "      <td>USD</td>\n",
       "      <td>13478.29</td>\n",
       "      <td>2019-01-05</td>\n",
       "      <td>NAH4</td>\n",
       "      <td>1.928567e+09</td>\n",
       "      <td>0</td>\n",
       "    </tr>\n",
       "    <tr>\n",
       "      <th>4</th>\n",
       "      <td>U001</td>\n",
       "      <td>0200759878</td>\n",
       "      <td>SA foundation</td>\n",
       "      <td>2020-02-03</td>\n",
       "      <td>2020.0</td>\n",
       "      <td>1.930396e+09</td>\n",
       "      <td>2020-01-17</td>\n",
       "      <td>2020-01-17</td>\n",
       "      <td>2020-02-01</td>\n",
       "      <td>USD</td>\n",
       "      <td>19474.56</td>\n",
       "      <td>2020-01-17</td>\n",
       "      <td>NAH4</td>\n",
       "      <td>1.930396e+09</td>\n",
       "      <td>0</td>\n",
       "    </tr>\n",
       "  </tbody>\n",
       "</table>\n",
       "</div>"
      ],
      "text/plain": [
       "  business_code cust_number        name_customer clear_date  buisness_year  \\\n",
       "0          U001  0200466603          SMITH'S llc 2019-01-28         2019.0   \n",
       "1          U001  0200779051    AFFILI associates 2019-01-23         2019.0   \n",
       "2          U001  0200769623      WAL-MAR systems        NaT         2020.0   \n",
       "3          U001  0200769623  WAL-MAR corporation 2019-01-16         2019.0   \n",
       "4          U001  0200759878        SA foundation 2020-02-03         2020.0   \n",
       "\n",
       "         doc_id posting_date document_create_date.1 due_in_date  \\\n",
       "0  1.928606e+09   2019-01-11             2019-01-11  2019-01-26   \n",
       "1  1.928599e+09   2019-01-09             2019-01-09  2019-01-24   \n",
       "2  1.930676e+09   2020-03-21             2020-03-21  2020-04-05   \n",
       "3  1.928567e+09   2019-01-05             2019-01-05  2019-01-20   \n",
       "4  1.930396e+09   2020-01-17             2020-01-17  2020-02-01   \n",
       "\n",
       "  invoice_currency  total_open_amount baseline_create_date cust_payment_terms  \\\n",
       "0              USD           47014.98           2019-01-11               NAA8   \n",
       "1              USD          120017.47           2019-01-09               NAA8   \n",
       "2              USD           16497.30           2020-03-21               NAH4   \n",
       "3              USD           13478.29           2019-01-05               NAH4   \n",
       "4              USD           19474.56           2020-01-17               NAH4   \n",
       "\n",
       "     invoice_id  isOpen  \n",
       "0  1.928606e+09       0  \n",
       "1  1.928599e+09       0  \n",
       "2  1.930676e+09       1  \n",
       "3  1.928567e+09       0  \n",
       "4  1.930396e+09       0  "
      ]
     },
     "execution_count": 29,
     "metadata": {},
     "output_type": "execute_result"
    }
   ],
   "source": [
    "data.head()"
   ]
  },
  {
   "cell_type": "code",
   "execution_count": 30,
   "id": "d7210a55",
   "metadata": {},
   "outputs": [],
   "source": [
    "d2165=d2165.drop(['isOpen','buisness_year'],axis=1) #dropping isOpen and buisness_year column "
   ]
  },
  {
   "cell_type": "code",
   "execution_count": 31,
   "id": "73e94cd5",
   "metadata": {},
   "outputs": [
    {
     "data": {
      "text/plain": [
       "(38319, 14)"
      ]
     },
     "execution_count": 31,
     "metadata": {},
     "output_type": "execute_result"
    }
   ],
   "source": [
    "d2165.shape"
   ]
  },
  {
   "cell_type": "code",
   "execution_count": 32,
   "id": "01bbabab",
   "metadata": {},
   "outputs": [],
   "source": [
    "d2165 = d2165.sort_values(by=\"posting_date\",ignore_index=True)  #Sorting the data in ascending order based on the posting Date column. "
   ]
  },
  {
   "cell_type": "markdown",
   "id": "68e5d012",
   "metadata": {},
   "source": [
    "# Splitting the data into train(70%),validation(15%) and test(15%) set"
   ]
  },
  {
   "cell_type": "code",
   "execution_count": 33,
   "id": "16ba7904",
   "metadata": {},
   "outputs": [],
   "source": [
    "X=d2165.drop(['delay_days'],axis=1)\n",
    "Y=d2165['delay_days']\n",
    "\n",
    "x_train,X_test,y_train,Y_test=train_test_split(X,Y,test_size=0.3,random_state=0,shuffle=False)\n",
    "x_val,x_test,y_val,y_test=train_test_split(X_test,Y_test,test_size=0.5,random_state=0.5,shuffle=False)\n"
   ]
  },
  {
   "cell_type": "code",
   "execution_count": 34,
   "id": "f826ce4c",
   "metadata": {},
   "outputs": [
    {
     "data": {
      "text/plain": [
       "((26823, 13), (5748, 13), (5748, 13))"
      ]
     },
     "execution_count": 34,
     "metadata": {},
     "output_type": "execute_result"
    }
   ],
   "source": [
    "x_train.shape,x_val.shape,x_test.shape #checking the shape of the dataset"
   ]
  },
  {
   "cell_type": "code",
   "execution_count": 35,
   "id": "327d1936",
   "metadata": {},
   "outputs": [
    {
     "data": {
      "text/plain": [
       "((26823,), (5748,), (5748,))"
      ]
     },
     "execution_count": 35,
     "metadata": {},
     "output_type": "execute_result"
    }
   ],
   "source": [
    "y_train.shape,y_val.shape,y_test.shape"
   ]
  },
  {
   "cell_type": "markdown",
   "id": "d9940c70",
   "metadata": {},
   "source": [
    "# EDA"
   ]
  },
  {
   "cell_type": "code",
   "execution_count": 36,
   "id": "5407e07f",
   "metadata": {},
   "outputs": [
    {
     "data": {
      "text/plain": [
       "<AxesSubplot:xlabel='delay_days', ylabel='Density'>"
      ]
     },
     "execution_count": 36,
     "metadata": {},
     "output_type": "execute_result"
    },
    {
     "data": {
      "image/png": "[encoded data removed]",
      "text/plain": [
       "<Figure size 432x288 with 1 Axes>"
      ]
     },
     "metadata": {
      "needs_background": "light"
     },
     "output_type": "display_data"
    }
   ],
   "source": [
    "sns.distplot(y_train)       #plot the graph of delay_days to see distribution"
   ]
  },
  {
   "cell_type": "code",
   "execution_count": 37,
   "id": "bedbf49a",
   "metadata": {},
   "outputs": [],
   "source": [
    "#y_train=pd.Series(y_train)"
   ]
  },
  {
   "cell_type": "code",
   "execution_count": 38,
   "id": "b64de9f9",
   "metadata": {},
   "outputs": [
    {
     "data": {
      "text/html": [
       "<div>\n",
       "<style scoped>\n",
       "    .dataframe tbody tr th:only-of-type {\n",
       "        vertical-align: middle;\n",
       "    }\n",
       "\n",
       "    .dataframe tbody tr th {\n",
       "        vertical-align: top;\n",
       "    }\n",
       "\n",
       "    .dataframe thead th {\n",
       "        text-align: right;\n",
       "    }\n",
       "</style>\n",
       "<table border=\"1\" class=\"dataframe\">\n",
       "  <thead>\n",
       "    <tr style=\"text-align: right;\">\n",
       "      <th></th>\n",
       "      <th>key_0</th>\n",
       "      <th>business_code</th>\n",
       "      <th>cust_number</th>\n",
       "      <th>name_customer</th>\n",
       "      <th>clear_date</th>\n",
       "      <th>doc_id</th>\n",
       "      <th>posting_date</th>\n",
       "      <th>document_create_date.1</th>\n",
       "      <th>due_in_date</th>\n",
       "      <th>invoice_currency</th>\n",
       "      <th>total_open_amount</th>\n",
       "      <th>baseline_create_date</th>\n",
       "      <th>cust_payment_terms</th>\n",
       "      <th>invoice_id</th>\n",
       "      <th>delay_days</th>\n",
       "    </tr>\n",
       "  </thead>\n",
       "  <tbody>\n",
       "    <tr>\n",
       "      <th>0</th>\n",
       "      <td>0</td>\n",
       "      <td>U001</td>\n",
       "      <td>0200769623</td>\n",
       "      <td>WAL-MAR in</td>\n",
       "      <td>2019-01-15</td>\n",
       "      <td>1.928539e+09</td>\n",
       "      <td>2018-12-30</td>\n",
       "      <td>2018-12-30</td>\n",
       "      <td>2019-01-14</td>\n",
       "      <td>USD</td>\n",
       "      <td>14139.49</td>\n",
       "      <td>2018-12-30</td>\n",
       "      <td>NAH4</td>\n",
       "      <td>1.928539e+09</td>\n",
       "      <td>-1</td>\n",
       "    </tr>\n",
       "    <tr>\n",
       "      <th>1</th>\n",
       "      <td>1</td>\n",
       "      <td>U001</td>\n",
       "      <td>0200769623</td>\n",
       "      <td>WAL-MAR trust</td>\n",
       "      <td>2019-01-09</td>\n",
       "      <td>1.928537e+09</td>\n",
       "      <td>2018-12-30</td>\n",
       "      <td>2018-12-30</td>\n",
       "      <td>2019-01-14</td>\n",
       "      <td>USD</td>\n",
       "      <td>985.41</td>\n",
       "      <td>2018-12-30</td>\n",
       "      <td>NAH4</td>\n",
       "      <td>1.928537e+09</td>\n",
       "      <td>5</td>\n",
       "    </tr>\n",
       "    <tr>\n",
       "      <th>2</th>\n",
       "      <td>2</td>\n",
       "      <td>U001</td>\n",
       "      <td>0200726979</td>\n",
       "      <td>BJ'S  systems</td>\n",
       "      <td>2019-01-15</td>\n",
       "      <td>1.928537e+09</td>\n",
       "      <td>2018-12-30</td>\n",
       "      <td>2018-12-30</td>\n",
       "      <td>2019-01-14</td>\n",
       "      <td>USD</td>\n",
       "      <td>63.46</td>\n",
       "      <td>2018-12-30</td>\n",
       "      <td>NAA8</td>\n",
       "      <td>1.928537e+09</td>\n",
       "      <td>-1</td>\n",
       "    </tr>\n",
       "    <tr>\n",
       "      <th>3</th>\n",
       "      <td>3</td>\n",
       "      <td>U001</td>\n",
       "      <td>0200769623</td>\n",
       "      <td>WAL-MAR co</td>\n",
       "      <td>2019-01-09</td>\n",
       "      <td>1.928542e+09</td>\n",
       "      <td>2018-12-30</td>\n",
       "      <td>2018-12-30</td>\n",
       "      <td>2019-01-14</td>\n",
       "      <td>USD</td>\n",
       "      <td>28485.61</td>\n",
       "      <td>2018-12-30</td>\n",
       "      <td>NAH4</td>\n",
       "      <td>1.928542e+09</td>\n",
       "      <td>5</td>\n",
       "    </tr>\n",
       "    <tr>\n",
       "      <th>4</th>\n",
       "      <td>4</td>\n",
       "      <td>U001</td>\n",
       "      <td>0200769623</td>\n",
       "      <td>WAL-MAR in</td>\n",
       "      <td>2019-01-09</td>\n",
       "      <td>1.928541e+09</td>\n",
       "      <td>2018-12-30</td>\n",
       "      <td>2018-12-30</td>\n",
       "      <td>2019-01-14</td>\n",
       "      <td>USD</td>\n",
       "      <td>3840.51</td>\n",
       "      <td>2018-12-30</td>\n",
       "      <td>NAH4</td>\n",
       "      <td>1.928541e+09</td>\n",
       "      <td>5</td>\n",
       "    </tr>\n",
       "    <tr>\n",
       "      <th>...</th>\n",
       "      <td>...</td>\n",
       "      <td>...</td>\n",
       "      <td>...</td>\n",
       "      <td>...</td>\n",
       "      <td>...</td>\n",
       "      <td>...</td>\n",
       "      <td>...</td>\n",
       "      <td>...</td>\n",
       "      <td>...</td>\n",
       "      <td>...</td>\n",
       "      <td>...</td>\n",
       "      <td>...</td>\n",
       "      <td>...</td>\n",
       "      <td>...</td>\n",
       "      <td>...</td>\n",
       "    </tr>\n",
       "    <tr>\n",
       "      <th>26818</th>\n",
       "      <td>26818</td>\n",
       "      <td>U001</td>\n",
       "      <td>0200794332</td>\n",
       "      <td>COST trust</td>\n",
       "      <td>2019-10-23</td>\n",
       "      <td>1.929989e+09</td>\n",
       "      <td>2019-10-09</td>\n",
       "      <td>2019-10-09</td>\n",
       "      <td>2019-10-24</td>\n",
       "      <td>USD</td>\n",
       "      <td>1878.24</td>\n",
       "      <td>2019-10-09</td>\n",
       "      <td>NAAX</td>\n",
       "      <td>1.929989e+09</td>\n",
       "      <td>1</td>\n",
       "    </tr>\n",
       "    <tr>\n",
       "      <th>26819</th>\n",
       "      <td>26819</td>\n",
       "      <td>U001</td>\n",
       "      <td>0200707822</td>\n",
       "      <td>PUBLI associates</td>\n",
       "      <td>2019-11-18</td>\n",
       "      <td>1.929990e+09</td>\n",
       "      <td>2019-10-09</td>\n",
       "      <td>2019-10-09</td>\n",
       "      <td>2019-11-18</td>\n",
       "      <td>USD</td>\n",
       "      <td>11649.87</td>\n",
       "      <td>2019-10-09</td>\n",
       "      <td>NAWU</td>\n",
       "      <td>1.929990e+09</td>\n",
       "      <td>0</td>\n",
       "    </tr>\n",
       "    <tr>\n",
       "      <th>26820</th>\n",
       "      <td>26820</td>\n",
       "      <td>U001</td>\n",
       "      <td>0200713007</td>\n",
       "      <td>KEEFE  associates</td>\n",
       "      <td>2019-10-18</td>\n",
       "      <td>1.929976e+09</td>\n",
       "      <td>2019-10-09</td>\n",
       "      <td>2019-10-09</td>\n",
       "      <td>2019-10-24</td>\n",
       "      <td>USD</td>\n",
       "      <td>14529.68</td>\n",
       "      <td>2019-10-09</td>\n",
       "      <td>NAA8</td>\n",
       "      <td>1.929976e+09</td>\n",
       "      <td>6</td>\n",
       "    </tr>\n",
       "    <tr>\n",
       "      <th>26821</th>\n",
       "      <td>26821</td>\n",
       "      <td>U001</td>\n",
       "      <td>0200782001</td>\n",
       "      <td>GORDO systems</td>\n",
       "      <td>2019-10-22</td>\n",
       "      <td>1.929991e+09</td>\n",
       "      <td>2019-10-09</td>\n",
       "      <td>2019-10-09</td>\n",
       "      <td>2019-10-24</td>\n",
       "      <td>USD</td>\n",
       "      <td>21489.00</td>\n",
       "      <td>2019-10-09</td>\n",
       "      <td>NAA8</td>\n",
       "      <td>1.929991e+09</td>\n",
       "      <td>2</td>\n",
       "    </tr>\n",
       "    <tr>\n",
       "      <th>26822</th>\n",
       "      <td>26822</td>\n",
       "      <td>U001</td>\n",
       "      <td>0200769623</td>\n",
       "      <td>WAL-MAR corp</td>\n",
       "      <td>2019-10-21</td>\n",
       "      <td>1.929989e+09</td>\n",
       "      <td>2019-10-09</td>\n",
       "      <td>2019-10-09</td>\n",
       "      <td>2019-10-24</td>\n",
       "      <td>USD</td>\n",
       "      <td>1167.48</td>\n",
       "      <td>2019-10-09</td>\n",
       "      <td>NAH4</td>\n",
       "      <td>1.929989e+09</td>\n",
       "      <td>3</td>\n",
       "    </tr>\n",
       "  </tbody>\n",
       "</table>\n",
       "<p>26823 rows × 15 columns</p>\n",
       "</div>"
      ],
      "text/plain": [
       "       key_0 business_code cust_number      name_customer clear_date  \\\n",
       "0          0          U001  0200769623         WAL-MAR in 2019-01-15   \n",
       "1          1          U001  0200769623      WAL-MAR trust 2019-01-09   \n",
       "2          2          U001  0200726979      BJ'S  systems 2019-01-15   \n",
       "3          3          U001  0200769623         WAL-MAR co 2019-01-09   \n",
       "4          4          U001  0200769623         WAL-MAR in 2019-01-09   \n",
       "...      ...           ...         ...                ...        ...   \n",
       "26818  26818          U001  0200794332         COST trust 2019-10-23   \n",
       "26819  26819          U001  0200707822   PUBLI associates 2019-11-18   \n",
       "26820  26820          U001  0200713007  KEEFE  associates 2019-10-18   \n",
       "26821  26821          U001  0200782001      GORDO systems 2019-10-22   \n",
       "26822  26822          U001  0200769623       WAL-MAR corp 2019-10-21   \n",
       "\n",
       "             doc_id posting_date document_create_date.1 due_in_date  \\\n",
       "0      1.928539e+09   2018-12-30             2018-12-30  2019-01-14   \n",
       "1      1.928537e+09   2018-12-30             2018-12-30  2019-01-14   \n",
       "2      1.928537e+09   2018-12-30             2018-12-30  2019-01-14   \n",
       "3      1.928542e+09   2018-12-30             2018-12-30  2019-01-14   \n",
       "4      1.928541e+09   2018-12-30             2018-12-30  2019-01-14   \n",
       "...             ...          ...                    ...         ...   \n",
       "26818  1.929989e+09   2019-10-09             2019-10-09  2019-10-24   \n",
       "26819  1.929990e+09   2019-10-09             2019-10-09  2019-11-18   \n",
       "26820  1.929976e+09   2019-10-09             2019-10-09  2019-10-24   \n",
       "26821  1.929991e+09   2019-10-09             2019-10-09  2019-10-24   \n",
       "26822  1.929989e+09   2019-10-09             2019-10-09  2019-10-24   \n",
       "\n",
       "      invoice_currency  total_open_amount baseline_create_date  \\\n",
       "0                  USD           14139.49           2018-12-30   \n",
       "1                  USD             985.41           2018-12-30   \n",
       "2                  USD              63.46           2018-12-30   \n",
       "3                  USD           28485.61           2018-12-30   \n",
       "4                  USD            3840.51           2018-12-30   \n",
       "...                ...                ...                  ...   \n",
       "26818              USD            1878.24           2019-10-09   \n",
       "26819              USD           11649.87           2019-10-09   \n",
       "26820              USD           14529.68           2019-10-09   \n",
       "26821              USD           21489.00           2019-10-09   \n",
       "26822              USD            1167.48           2019-10-09   \n",
       "\n",
       "      cust_payment_terms    invoice_id  delay_days  \n",
       "0                   NAH4  1.928539e+09          -1  \n",
       "1                   NAH4  1.928537e+09           5  \n",
       "2                   NAA8  1.928537e+09          -1  \n",
       "3                   NAH4  1.928542e+09           5  \n",
       "4                   NAH4  1.928541e+09           5  \n",
       "...                  ...           ...         ...  \n",
       "26818               NAAX  1.929989e+09           1  \n",
       "26819               NAWU  1.929990e+09           0  \n",
       "26820               NAA8  1.929976e+09           6  \n",
       "26821               NAA8  1.929991e+09           2  \n",
       "26822               NAH4  1.929989e+09           3  \n",
       "\n",
       "[26823 rows x 15 columns]"
      ]
     },
     "execution_count": 38,
     "metadata": {},
     "output_type": "execute_result"
    }
   ],
   "source": [
    "x_train.merge(y_train,on = x_train.index) #checking the data with merging the y_train also"
   ]
  },
  {
   "cell_type": "code",
   "execution_count": 40,
   "id": "91f9f4ed",
   "metadata": {},
   "outputs": [
    {
     "data": {
      "text/plain": [
       "<AxesSubplot:xlabel='delay_days', ylabel='total_open_amount'>"
      ]
     },
     "execution_count": 40,
     "metadata": {},
     "output_type": "execute_result"
    },
    {
     "data": {
      "image/png": "[encoded data removed]",
      "text/plain": [
       "<Figure size 432x288 with 1 Axes>"
      ]
     },
     "metadata": {
      "needs_background": "light"
     },
     "output_type": "display_data"
    }
   ],
   "source": [
    "d=x_train.merge(y_train,on = x_train.index)\n",
    "sns.scatterplot(data=x_train.merge(y_train,on = x_train.index), x=\"delay_days\", y=\"total_open_amount\")\n",
    "# Scatterplot graph between delay_days and total_open_amount"
   ]
  },
  {
   "cell_type": "code",
   "execution_count": 42,
   "id": "ba0b8672",
   "metadata": {},
   "outputs": [
    {
     "name": "stdout",
     "output_type": "stream",
     "text": [
      "<class 'pandas.core.frame.DataFrame'>\n",
      "Int64Index: 26823 entries, 0 to 26822\n",
      "Data columns (total 13 columns):\n",
      " #   Column                  Non-Null Count  Dtype         \n",
      "---  ------                  --------------  -----         \n",
      " 0   business_code           26823 non-null  object        \n",
      " 1   cust_number             26823 non-null  object        \n",
      " 2   name_customer           26823 non-null  object        \n",
      " 3   clear_date              26823 non-null  datetime64[ns]\n",
      " 4   doc_id                  26823 non-null  float64       \n",
      " 5   posting_date            26823 non-null  object        \n",
      " 6   document_create_date.1  26823 non-null  datetime64[ns]\n",
      " 7   due_in_date             26823 non-null  datetime64[ns]\n",
      " 8   invoice_currency        26823 non-null  object        \n",
      " 9   total_open_amount       26823 non-null  float64       \n",
      " 10  baseline_create_date    26823 non-null  datetime64[ns]\n",
      " 11  cust_payment_terms      26823 non-null  object        \n",
      " 12  invoice_id              26823 non-null  float64       \n",
      "dtypes: datetime64[ns](4), float64(3), object(6)\n",
      "memory usage: 2.9+ MB\n"
     ]
    }
   ],
   "source": [
    "x_train.info()"
   ]
  },
  {
   "cell_type": "code",
   "execution_count": 43,
   "id": "be020eff",
   "metadata": {},
   "outputs": [
    {
     "data": {
      "text/html": [
       "<div>\n",
       "<style scoped>\n",
       "    .dataframe tbody tr th:only-of-type {\n",
       "        vertical-align: middle;\n",
       "    }\n",
       "\n",
       "    .dataframe tbody tr th {\n",
       "        vertical-align: top;\n",
       "    }\n",
       "\n",
       "    .dataframe thead th {\n",
       "        text-align: right;\n",
       "    }\n",
       "</style>\n",
       "<table border=\"1\" class=\"dataframe\">\n",
       "  <thead>\n",
       "    <tr style=\"text-align: right;\">\n",
       "      <th></th>\n",
       "      <th>doc_id</th>\n",
       "      <th>total_open_amount</th>\n",
       "      <th>invoice_id</th>\n",
       "    </tr>\n",
       "  </thead>\n",
       "  <tbody>\n",
       "    <tr>\n",
       "      <th>doc_id</th>\n",
       "      <td>1.000000</td>\n",
       "      <td>0.188032</td>\n",
       "      <td>0.962071</td>\n",
       "    </tr>\n",
       "    <tr>\n",
       "      <th>total_open_amount</th>\n",
       "      <td>0.188032</td>\n",
       "      <td>1.000000</td>\n",
       "      <td>0.197182</td>\n",
       "    </tr>\n",
       "    <tr>\n",
       "      <th>invoice_id</th>\n",
       "      <td>0.962071</td>\n",
       "      <td>0.197182</td>\n",
       "      <td>1.000000</td>\n",
       "    </tr>\n",
       "  </tbody>\n",
       "</table>\n",
       "</div>"
      ],
      "text/plain": [
       "                     doc_id  total_open_amount  invoice_id\n",
       "doc_id             1.000000           0.188032    0.962071\n",
       "total_open_amount  0.188032           1.000000    0.197182\n",
       "invoice_id         0.962071           0.197182    1.000000"
      ]
     },
     "execution_count": 43,
     "metadata": {},
     "output_type": "execute_result"
    }
   ],
   "source": [
    "x_train.corr()  #checking the correlation in train_set"
   ]
  },
  {
   "cell_type": "code",
   "execution_count": 44,
   "id": "7b0f6462",
   "metadata": {},
   "outputs": [
    {
     "data": {
      "text/html": [
       "<div>\n",
       "<style scoped>\n",
       "    .dataframe tbody tr th:only-of-type {\n",
       "        vertical-align: middle;\n",
       "    }\n",
       "\n",
       "    .dataframe tbody tr th {\n",
       "        vertical-align: top;\n",
       "    }\n",
       "\n",
       "    .dataframe thead th {\n",
       "        text-align: right;\n",
       "    }\n",
       "</style>\n",
       "<table border=\"1\" class=\"dataframe\">\n",
       "  <thead>\n",
       "    <tr style=\"text-align: right;\">\n",
       "      <th></th>\n",
       "      <th>key_0</th>\n",
       "      <th>doc_id</th>\n",
       "      <th>total_open_amount</th>\n",
       "      <th>invoice_id</th>\n",
       "      <th>delay_days</th>\n",
       "    </tr>\n",
       "  </thead>\n",
       "  <tbody>\n",
       "    <tr>\n",
       "      <th>key_0</th>\n",
       "      <td>1.000000</td>\n",
       "      <td>0.018202</td>\n",
       "      <td>0.010963</td>\n",
       "      <td>0.020877</td>\n",
       "      <td>0.021397</td>\n",
       "    </tr>\n",
       "    <tr>\n",
       "      <th>doc_id</th>\n",
       "      <td>0.018202</td>\n",
       "      <td>1.000000</td>\n",
       "      <td>0.188032</td>\n",
       "      <td>0.962071</td>\n",
       "      <td>-0.143905</td>\n",
       "    </tr>\n",
       "    <tr>\n",
       "      <th>total_open_amount</th>\n",
       "      <td>0.010963</td>\n",
       "      <td>0.188032</td>\n",
       "      <td>1.000000</td>\n",
       "      <td>0.197182</td>\n",
       "      <td>0.005158</td>\n",
       "    </tr>\n",
       "    <tr>\n",
       "      <th>invoice_id</th>\n",
       "      <td>0.020877</td>\n",
       "      <td>0.962071</td>\n",
       "      <td>0.197182</td>\n",
       "      <td>1.000000</td>\n",
       "      <td>-0.133603</td>\n",
       "    </tr>\n",
       "    <tr>\n",
       "      <th>delay_days</th>\n",
       "      <td>0.021397</td>\n",
       "      <td>-0.143905</td>\n",
       "      <td>0.005158</td>\n",
       "      <td>-0.133603</td>\n",
       "      <td>1.000000</td>\n",
       "    </tr>\n",
       "  </tbody>\n",
       "</table>\n",
       "</div>"
      ],
      "text/plain": [
       "                      key_0    doc_id  total_open_amount  invoice_id  \\\n",
       "key_0              1.000000  0.018202           0.010963    0.020877   \n",
       "doc_id             0.018202  1.000000           0.188032    0.962071   \n",
       "total_open_amount  0.010963  0.188032           1.000000    0.197182   \n",
       "invoice_id         0.020877  0.962071           0.197182    1.000000   \n",
       "delay_days         0.021397 -0.143905           0.005158   -0.133603   \n",
       "\n",
       "                   delay_days  \n",
       "key_0                0.021397  \n",
       "doc_id              -0.143905  \n",
       "total_open_amount    0.005158  \n",
       "invoice_id          -0.133603  \n",
       "delay_days           1.000000  "
      ]
     },
     "execution_count": 44,
     "metadata": {},
     "output_type": "execute_result"
    }
   ],
   "source": [
    "d.corr()     #checking the correlation with delay_days also"
   ]
  },
  {
   "cell_type": "code",
   "execution_count": 45,
   "id": "a9b84591",
   "metadata": {},
   "outputs": [
    {
     "name": "stdout",
     "output_type": "stream",
     "text": [
      "<class 'pandas.core.frame.DataFrame'>\n",
      "Int64Index: 26823 entries, 0 to 26822\n",
      "Data columns (total 13 columns):\n",
      " #   Column                  Non-Null Count  Dtype         \n",
      "---  ------                  --------------  -----         \n",
      " 0   business_code           26823 non-null  object        \n",
      " 1   cust_number             26823 non-null  object        \n",
      " 2   name_customer           26823 non-null  object        \n",
      " 3   clear_date              26823 non-null  datetime64[ns]\n",
      " 4   doc_id                  26823 non-null  float64       \n",
      " 5   posting_date            26823 non-null  object        \n",
      " 6   document_create_date.1  26823 non-null  datetime64[ns]\n",
      " 7   due_in_date             26823 non-null  datetime64[ns]\n",
      " 8   invoice_currency        26823 non-null  object        \n",
      " 9   total_open_amount       26823 non-null  float64       \n",
      " 10  baseline_create_date    26823 non-null  datetime64[ns]\n",
      " 11  cust_payment_terms      26823 non-null  object        \n",
      " 12  invoice_id              26823 non-null  float64       \n",
      "dtypes: datetime64[ns](4), float64(3), object(6)\n",
      "memory usage: 2.9+ MB\n"
     ]
    }
   ],
   "source": [
    "x_train.info()"
   ]
  },
  {
   "cell_type": "code",
   "execution_count": 46,
   "id": "df98c381",
   "metadata": {},
   "outputs": [
    {
     "data": {
      "text/plain": [
       "U001    24149\n",
       "CA02     2200\n",
       "U013      368\n",
       "U002       96\n",
       "U005        8\n",
       "U007        2\n",
       "Name: business_code, dtype: int64"
      ]
     },
     "execution_count": 46,
     "metadata": {},
     "output_type": "execute_result"
    }
   ],
   "source": [
    "x_train['business_code'].value_counts()  #counting the values no. of differnt values in train set"
   ]
  },
  {
   "cell_type": "code",
   "execution_count": 47,
   "id": "c3654f3e",
   "metadata": {},
   "outputs": [],
   "source": [
    "# clubbing business_code with low occurance in dataset - to ensure model gets max information\n",
    "x_train['business_code'] = np.where(x_train['business_code'].isin([\"U002\",\n",
    "                                                             \"U005\",\n",
    "                                                             \"U007\"]),\"U013\",x_train['business_code'])"
   ]
  },
  {
   "cell_type": "code",
   "execution_count": 48,
   "id": "601c76e1",
   "metadata": {},
   "outputs": [],
   "source": [
    "#change reflecting in val and test also\n",
    "x_val['business_code'] = np.where(x_val['business_code'].isin([\"U002\",\n",
    "                                                             \"U005\",\n",
    "                                                             \"U007\"]),\"U013\",x_val['business_code'])"
   ]
  },
  {
   "cell_type": "code",
   "execution_count": 49,
   "id": "397619a2",
   "metadata": {},
   "outputs": [],
   "source": [
    "x_test['business_code'] = np.where(x_test['business_code'].isin([\"U002\",\n",
    "                                                             \"U005\",\n",
    "                                                             \"U007\"]),\"U013\",x_test['business_code'])"
   ]
  },
  {
   "cell_type": "code",
   "execution_count": 50,
   "id": "2c35a5f8",
   "metadata": {},
   "outputs": [
    {
     "data": {
      "text/plain": [
       "U001    24149\n",
       "CA02     2200\n",
       "U013      474\n",
       "Name: business_code, dtype: int64"
      ]
     },
     "execution_count": 50,
     "metadata": {},
     "output_type": "execute_result"
    }
   ],
   "source": [
    "x_train['business_code'].value_counts()  #checking the changes"
   ]
  },
  {
   "cell_type": "markdown",
   "id": "605c2f62",
   "metadata": {},
   "source": [
    "# Feature Engineering"
   ]
  },
  {
   "cell_type": "code",
   "execution_count": 51,
   "id": "7119a612",
   "metadata": {},
   "outputs": [],
   "source": [
    "from sklearn.preprocessing import LabelEncoder          #label encoding on business_code\n",
    "business_code_encoder = LabelEncoder()\n",
    "business_code_encoder.fit(x_train['business_code'])\n",
    "x_train['business_code_enc'] = business_code_encoder.transform(x_train['business_code'])"
   ]
  },
  {
   "cell_type": "code",
   "execution_count": 52,
   "id": "b09cc482",
   "metadata": {},
   "outputs": [],
   "source": [
    "#reflecting changes in val and test\n",
    "x_val['business_code_enc'] = business_code_encoder.transform(x_val['business_code'])\n",
    "x_test['business_code_enc'] = business_code_encoder.transform(x_test['business_code'])"
   ]
  },
  {
   "cell_type": "code",
   "execution_count": 53,
   "id": "8bedb82b",
   "metadata": {},
   "outputs": [],
   "source": [
    "# function will delete a column from train , val and test\n",
    "def drop_3_col(col ,traindf = x_train,valdf = x_val,testdf = x_test):\n",
    "    traindf.drop(col, axis =1,inplace=True)\n",
    "    valdf.drop(col,axis=1 , inplace=True)\n",
    "    testdf.drop(col,axis=1 , inplace=True)\n",
    "\n",
    "    return traindf,valdf ,testdf"
   ]
  },
  {
   "cell_type": "code",
   "execution_count": 54,
   "id": "be1355e4",
   "metadata": {},
   "outputs": [
    {
     "data": {
      "text/html": [
       "<div>\n",
       "<style scoped>\n",
       "    .dataframe tbody tr th:only-of-type {\n",
       "        vertical-align: middle;\n",
       "    }\n",
       "\n",
       "    .dataframe tbody tr th {\n",
       "        vertical-align: top;\n",
       "    }\n",
       "\n",
       "    .dataframe thead th {\n",
       "        text-align: right;\n",
       "    }\n",
       "</style>\n",
       "<table border=\"1\" class=\"dataframe\">\n",
       "  <thead>\n",
       "    <tr style=\"text-align: right;\">\n",
       "      <th></th>\n",
       "      <th>business_code</th>\n",
       "      <th>cust_number</th>\n",
       "      <th>name_customer</th>\n",
       "      <th>clear_date</th>\n",
       "      <th>doc_id</th>\n",
       "      <th>posting_date</th>\n",
       "      <th>document_create_date.1</th>\n",
       "      <th>due_in_date</th>\n",
       "      <th>invoice_currency</th>\n",
       "      <th>total_open_amount</th>\n",
       "      <th>baseline_create_date</th>\n",
       "      <th>cust_payment_terms</th>\n",
       "      <th>invoice_id</th>\n",
       "      <th>business_code_enc</th>\n",
       "    </tr>\n",
       "  </thead>\n",
       "  <tbody>\n",
       "    <tr>\n",
       "      <th>0</th>\n",
       "      <td>U001</td>\n",
       "      <td>0200769623</td>\n",
       "      <td>WAL-MAR in</td>\n",
       "      <td>2019-01-15</td>\n",
       "      <td>1.928539e+09</td>\n",
       "      <td>2018-12-30</td>\n",
       "      <td>2018-12-30</td>\n",
       "      <td>2019-01-14</td>\n",
       "      <td>USD</td>\n",
       "      <td>14139.49</td>\n",
       "      <td>2018-12-30</td>\n",
       "      <td>NAH4</td>\n",
       "      <td>1.928539e+09</td>\n",
       "      <td>1</td>\n",
       "    </tr>\n",
       "    <tr>\n",
       "      <th>1</th>\n",
       "      <td>U001</td>\n",
       "      <td>0200769623</td>\n",
       "      <td>WAL-MAR trust</td>\n",
       "      <td>2019-01-09</td>\n",
       "      <td>1.928537e+09</td>\n",
       "      <td>2018-12-30</td>\n",
       "      <td>2018-12-30</td>\n",
       "      <td>2019-01-14</td>\n",
       "      <td>USD</td>\n",
       "      <td>985.41</td>\n",
       "      <td>2018-12-30</td>\n",
       "      <td>NAH4</td>\n",
       "      <td>1.928537e+09</td>\n",
       "      <td>1</td>\n",
       "    </tr>\n",
       "    <tr>\n",
       "      <th>2</th>\n",
       "      <td>U001</td>\n",
       "      <td>0200726979</td>\n",
       "      <td>BJ'S  systems</td>\n",
       "      <td>2019-01-15</td>\n",
       "      <td>1.928537e+09</td>\n",
       "      <td>2018-12-30</td>\n",
       "      <td>2018-12-30</td>\n",
       "      <td>2019-01-14</td>\n",
       "      <td>USD</td>\n",
       "      <td>63.46</td>\n",
       "      <td>2018-12-30</td>\n",
       "      <td>NAA8</td>\n",
       "      <td>1.928537e+09</td>\n",
       "      <td>1</td>\n",
       "    </tr>\n",
       "    <tr>\n",
       "      <th>3</th>\n",
       "      <td>U001</td>\n",
       "      <td>0200769623</td>\n",
       "      <td>WAL-MAR co</td>\n",
       "      <td>2019-01-09</td>\n",
       "      <td>1.928542e+09</td>\n",
       "      <td>2018-12-30</td>\n",
       "      <td>2018-12-30</td>\n",
       "      <td>2019-01-14</td>\n",
       "      <td>USD</td>\n",
       "      <td>28485.61</td>\n",
       "      <td>2018-12-30</td>\n",
       "      <td>NAH4</td>\n",
       "      <td>1.928542e+09</td>\n",
       "      <td>1</td>\n",
       "    </tr>\n",
       "    <tr>\n",
       "      <th>4</th>\n",
       "      <td>U001</td>\n",
       "      <td>0200769623</td>\n",
       "      <td>WAL-MAR in</td>\n",
       "      <td>2019-01-09</td>\n",
       "      <td>1.928541e+09</td>\n",
       "      <td>2018-12-30</td>\n",
       "      <td>2018-12-30</td>\n",
       "      <td>2019-01-14</td>\n",
       "      <td>USD</td>\n",
       "      <td>3840.51</td>\n",
       "      <td>2018-12-30</td>\n",
       "      <td>NAH4</td>\n",
       "      <td>1.928541e+09</td>\n",
       "      <td>1</td>\n",
       "    </tr>\n",
       "  </tbody>\n",
       "</table>\n",
       "</div>"
      ],
      "text/plain": [
       "  business_code cust_number  name_customer clear_date        doc_id  \\\n",
       "0          U001  0200769623     WAL-MAR in 2019-01-15  1.928539e+09   \n",
       "1          U001  0200769623  WAL-MAR trust 2019-01-09  1.928537e+09   \n",
       "2          U001  0200726979  BJ'S  systems 2019-01-15  1.928537e+09   \n",
       "3          U001  0200769623     WAL-MAR co 2019-01-09  1.928542e+09   \n",
       "4          U001  0200769623     WAL-MAR in 2019-01-09  1.928541e+09   \n",
       "\n",
       "  posting_date document_create_date.1 due_in_date invoice_currency  \\\n",
       "0   2018-12-30             2018-12-30  2019-01-14              USD   \n",
       "1   2018-12-30             2018-12-30  2019-01-14              USD   \n",
       "2   2018-12-30             2018-12-30  2019-01-14              USD   \n",
       "3   2018-12-30             2018-12-30  2019-01-14              USD   \n",
       "4   2018-12-30             2018-12-30  2019-01-14              USD   \n",
       "\n",
       "   total_open_amount baseline_create_date cust_payment_terms    invoice_id  \\\n",
       "0           14139.49           2018-12-30               NAH4  1.928539e+09   \n",
       "1             985.41           2018-12-30               NAH4  1.928537e+09   \n",
       "2              63.46           2018-12-30               NAA8  1.928537e+09   \n",
       "3           28485.61           2018-12-30               NAH4  1.928542e+09   \n",
       "4            3840.51           2018-12-30               NAH4  1.928541e+09   \n",
       "\n",
       "   business_code_enc  \n",
       "0                  1  \n",
       "1                  1  \n",
       "2                  1  \n",
       "3                  1  \n",
       "4                  1  "
      ]
     },
     "execution_count": 54,
     "metadata": {},
     "output_type": "execute_result"
    }
   ],
   "source": [
    "x_train.head()"
   ]
  },
  {
   "cell_type": "code",
   "execution_count": 55,
   "id": "f4ef2d64",
   "metadata": {},
   "outputs": [],
   "source": [
    "x_train ,x_val, x_test = drop_3_col(['business_code'])  #dropping business_code"
   ]
  },
  {
   "cell_type": "code",
   "execution_count": 56,
   "id": "8c181a82",
   "metadata": {},
   "outputs": [
    {
     "name": "stdout",
     "output_type": "stream",
     "text": [
      "<class 'pandas.core.frame.DataFrame'>\n",
      "Int64Index: 26823 entries, 0 to 26822\n",
      "Data columns (total 13 columns):\n",
      " #   Column                  Non-Null Count  Dtype         \n",
      "---  ------                  --------------  -----         \n",
      " 0   cust_number             26823 non-null  object        \n",
      " 1   name_customer           26823 non-null  object        \n",
      " 2   clear_date              26823 non-null  datetime64[ns]\n",
      " 3   doc_id                  26823 non-null  float64       \n",
      " 4   posting_date            26823 non-null  object        \n",
      " 5   document_create_date.1  26823 non-null  datetime64[ns]\n",
      " 6   due_in_date             26823 non-null  datetime64[ns]\n",
      " 7   invoice_currency        26823 non-null  object        \n",
      " 8   total_open_amount       26823 non-null  float64       \n",
      " 9   baseline_create_date    26823 non-null  datetime64[ns]\n",
      " 10  cust_payment_terms      26823 non-null  object        \n",
      " 11  invoice_id              26823 non-null  float64       \n",
      " 12  business_code_enc       26823 non-null  int32         \n",
      "dtypes: datetime64[ns](4), float64(3), int32(1), object(5)\n",
      "memory usage: 2.8+ MB\n"
     ]
    }
   ],
   "source": [
    "x_train.info()"
   ]
  },
  {
   "cell_type": "code",
   "execution_count": 57,
   "id": "e946291d",
   "metadata": {},
   "outputs": [],
   "source": [
    "from sklearn.preprocessing import LabelEncoder        #label encoding on cust_number\n",
    "encoder = LabelEncoder()\n",
    "encoder.fit(x_train['cust_number'])\n",
    "x_train['cust_number_enc'] = encoder.transform(x_train['cust_number'])"
   ]
  },
  {
   "cell_type": "code",
   "execution_count": 58,
   "id": "e13a89ef",
   "metadata": {},
   "outputs": [],
   "source": [
    "#reflecting changes in val and test\n",
    "\n",
    "x_val['cust_number_enc'] = encoder.fit_transform(x_val['cust_number'])\n",
    "x_test['cust_number_enc'] = encoder.fit_transform(x_test['cust_number'])"
   ]
  },
  {
   "cell_type": "code",
   "execution_count": 59,
   "id": "291715f7",
   "metadata": {},
   "outputs": [],
   "source": [
    "x_train ,x_val, x_test = drop_3_col(['cust_number'])    #dropping cust_number"
   ]
  },
  {
   "cell_type": "code",
   "execution_count": 60,
   "id": "9767c6ff",
   "metadata": {},
   "outputs": [
    {
     "name": "stdout",
     "output_type": "stream",
     "text": [
      "<class 'pandas.core.frame.DataFrame'>\n",
      "Int64Index: 26823 entries, 0 to 26822\n",
      "Data columns (total 13 columns):\n",
      " #   Column                  Non-Null Count  Dtype         \n",
      "---  ------                  --------------  -----         \n",
      " 0   name_customer           26823 non-null  object        \n",
      " 1   clear_date              26823 non-null  datetime64[ns]\n",
      " 2   doc_id                  26823 non-null  float64       \n",
      " 3   posting_date            26823 non-null  object        \n",
      " 4   document_create_date.1  26823 non-null  datetime64[ns]\n",
      " 5   due_in_date             26823 non-null  datetime64[ns]\n",
      " 6   invoice_currency        26823 non-null  object        \n",
      " 7   total_open_amount       26823 non-null  float64       \n",
      " 8   baseline_create_date    26823 non-null  datetime64[ns]\n",
      " 9   cust_payment_terms      26823 non-null  object        \n",
      " 10  invoice_id              26823 non-null  float64       \n",
      " 11  business_code_enc       26823 non-null  int32         \n",
      " 12  cust_number_enc         26823 non-null  int32         \n",
      "dtypes: datetime64[ns](4), float64(3), int32(2), object(4)\n",
      "memory usage: 2.7+ MB\n"
     ]
    }
   ],
   "source": [
    "x_train.info()"
   ]
  },
  {
   "cell_type": "code",
   "execution_count": 61,
   "id": "fbc7085e",
   "metadata": {},
   "outputs": [
    {
     "data": {
      "text/plain": [
       "3257"
      ]
     },
     "execution_count": 61,
     "metadata": {},
     "output_type": "execute_result"
    }
   ],
   "source": [
    "x_train['name_customer'].nunique()"
   ]
  },
  {
   "cell_type": "code",
   "execution_count": 62,
   "id": "77dec5a3",
   "metadata": {},
   "outputs": [
    {
     "data": {
      "text/plain": [
       "WAL-MAR in             616\n",
       "WAL-MAR                601\n",
       "WAL-MAR trust          597\n",
       "WAL-MAR corporation    591\n",
       "WAL-MAR foundation     589\n",
       "                      ... \n",
       "Y H llc                  1\n",
       "PAPA systems             1\n",
       "DAVISCO                  1\n",
       "FOOD 4 associates        1\n",
       "WEST P corporation       1\n",
       "Name: name_customer, Length: 3257, dtype: int64"
      ]
     },
     "execution_count": 62,
     "metadata": {},
     "output_type": "execute_result"
    }
   ],
   "source": [
    "x_train['name_customer'].value_counts()"
   ]
  },
  {
   "cell_type": "code",
   "execution_count": 63,
   "id": "3bde6e68",
   "metadata": {},
   "outputs": [],
   "source": [
    "#label encoding on name_customer\n",
    "encoder.fit(x_train['name_customer'])\n",
    "x_train['name_customer_enc'] = encoder.transform(x_train['name_customer'])"
   ]
  },
  {
   "cell_type": "code",
   "execution_count": 64,
   "id": "53196346",
   "metadata": {},
   "outputs": [],
   "source": [
    "#reflecting changes in val and test\n",
    "x_val['name_customer_enc'] = encoder.fit_transform(x_val['name_customer'])\n",
    "x_test['name_customer_enc'] = encoder.fit_transform(x_test['name_customer'])"
   ]
  },
  {
   "cell_type": "code",
   "execution_count": 65,
   "id": "1762502a",
   "metadata": {},
   "outputs": [],
   "source": [
    "x_train ,x_val, x_test = drop_3_col(['name_customer'])                  #dropping name_customer"
   ]
  },
  {
   "cell_type": "code",
   "execution_count": 66,
   "id": "21d57e78",
   "metadata": {},
   "outputs": [],
   "source": [
    "encoder = LabelEncoder()                                               #label encoding on cust_payment_terms\n",
    "encoder.fit(x_train['cust_payment_terms'])\n",
    "x_train['cust_payment_terms_enc'] = encoder.transform(x_train['cust_payment_terms'])"
   ]
  },
  {
   "cell_type": "code",
   "execution_count": 67,
   "id": "3416c768",
   "metadata": {},
   "outputs": [],
   "source": [
    "#reflecting changes in val and test\n",
    "x_val['cust_payment_terms_enc'] = encoder.fit_transform(x_val['cust_payment_terms'])\n",
    "x_test['cust_payment_terms_enc'] = encoder.fit_transform(x_test['cust_payment_terms'])"
   ]
  },
  {
   "cell_type": "code",
   "execution_count": 68,
   "id": "0cb923a4",
   "metadata": {},
   "outputs": [],
   "source": [
    "x_train ,x_val, x_test = drop_3_col(['cust_payment_terms'])              #dropping cust_payment_terms"
   ]
  },
  {
   "cell_type": "code",
   "execution_count": 69,
   "id": "7cbb9781",
   "metadata": {},
   "outputs": [
    {
     "data": {
      "text/html": [
       "<div>\n",
       "<style scoped>\n",
       "    .dataframe tbody tr th:only-of-type {\n",
       "        vertical-align: middle;\n",
       "    }\n",
       "\n",
       "    .dataframe tbody tr th {\n",
       "        vertical-align: top;\n",
       "    }\n",
       "\n",
       "    .dataframe thead th {\n",
       "        text-align: right;\n",
       "    }\n",
       "</style>\n",
       "<table border=\"1\" class=\"dataframe\">\n",
       "  <thead>\n",
       "    <tr style=\"text-align: right;\">\n",
       "      <th></th>\n",
       "      <th>invoice_currency_CAD</th>\n",
       "      <th>invoice_currency_USD</th>\n",
       "    </tr>\n",
       "  </thead>\n",
       "  <tbody>\n",
       "    <tr>\n",
       "      <th>32571</th>\n",
       "      <td>0</td>\n",
       "      <td>1</td>\n",
       "    </tr>\n",
       "    <tr>\n",
       "      <th>32572</th>\n",
       "      <td>1</td>\n",
       "      <td>0</td>\n",
       "    </tr>\n",
       "    <tr>\n",
       "      <th>32573</th>\n",
       "      <td>0</td>\n",
       "      <td>1</td>\n",
       "    </tr>\n",
       "    <tr>\n",
       "      <th>32574</th>\n",
       "      <td>0</td>\n",
       "      <td>1</td>\n",
       "    </tr>\n",
       "    <tr>\n",
       "      <th>32575</th>\n",
       "      <td>0</td>\n",
       "      <td>1</td>\n",
       "    </tr>\n",
       "  </tbody>\n",
       "</table>\n",
       "</div>"
      ],
      "text/plain": [
       "       invoice_currency_CAD  invoice_currency_USD\n",
       "32571                     0                     1\n",
       "32572                     1                     0\n",
       "32573                     0                     1\n",
       "32574                     0                     1\n",
       "32575                     0                     1"
      ]
     },
     "execution_count": 69,
     "metadata": {},
     "output_type": "execute_result"
    }
   ],
   "source": [
    "y = pd.get_dummies(x_train.invoice_currency, prefix='invoice_currency')   #one hot encoding on invoice_currency\n",
    "z = pd.get_dummies(x_val.invoice_currency, prefix='invoice_currency')\n",
    "k = pd.get_dummies(x_test.invoice_currency, prefix='invoice_currency')\n",
    "k.head()"
   ]
  },
  {
   "cell_type": "code",
   "execution_count": 70,
   "id": "d77bbfa1",
   "metadata": {},
   "outputs": [
    {
     "name": "stdout",
     "output_type": "stream",
     "text": [
      "<class 'pandas.core.frame.DataFrame'>\n",
      "Int64Index: 26823 entries, 0 to 26822\n",
      "Data columns (total 13 columns):\n",
      " #   Column                  Non-Null Count  Dtype         \n",
      "---  ------                  --------------  -----         \n",
      " 0   clear_date              26823 non-null  datetime64[ns]\n",
      " 1   doc_id                  26823 non-null  float64       \n",
      " 2   posting_date            26823 non-null  object        \n",
      " 3   document_create_date.1  26823 non-null  datetime64[ns]\n",
      " 4   due_in_date             26823 non-null  datetime64[ns]\n",
      " 5   invoice_currency        26823 non-null  object        \n",
      " 6   total_open_amount       26823 non-null  float64       \n",
      " 7   baseline_create_date    26823 non-null  datetime64[ns]\n",
      " 8   invoice_id              26823 non-null  float64       \n",
      " 9   business_code_enc       26823 non-null  int32         \n",
      " 10  cust_number_enc         26823 non-null  int32         \n",
      " 11  name_customer_enc       26823 non-null  int32         \n",
      " 12  cust_payment_terms_enc  26823 non-null  int32         \n",
      "dtypes: datetime64[ns](4), float64(3), int32(4), object(2)\n",
      "memory usage: 2.5+ MB\n"
     ]
    }
   ],
   "source": [
    "x_train.info()"
   ]
  },
  {
   "cell_type": "code",
   "execution_count": 71,
   "id": "572f75b7",
   "metadata": {},
   "outputs": [
    {
     "name": "stdout",
     "output_type": "stream",
     "text": [
      "<class 'pandas.core.frame.DataFrame'>\n",
      "Int64Index: 5748 entries, 26823 to 32570\n",
      "Data columns (total 13 columns):\n",
      " #   Column                  Non-Null Count  Dtype         \n",
      "---  ------                  --------------  -----         \n",
      " 0   clear_date              5748 non-null   datetime64[ns]\n",
      " 1   doc_id                  5748 non-null   float64       \n",
      " 2   posting_date            5748 non-null   object        \n",
      " 3   document_create_date.1  5748 non-null   datetime64[ns]\n",
      " 4   due_in_date             5748 non-null   datetime64[ns]\n",
      " 5   invoice_currency        5748 non-null   object        \n",
      " 6   total_open_amount       5748 non-null   float64       \n",
      " 7   baseline_create_date    5748 non-null   datetime64[ns]\n",
      " 8   invoice_id              5748 non-null   float64       \n",
      " 9   business_code_enc       5748 non-null   int32         \n",
      " 10  cust_number_enc         5748 non-null   int32         \n",
      " 11  name_customer_enc       5748 non-null   int32         \n",
      " 12  cust_payment_terms_enc  5748 non-null   int32         \n",
      "dtypes: datetime64[ns](4), float64(3), int32(4), object(2)\n",
      "memory usage: 538.9+ KB\n"
     ]
    }
   ],
   "source": [
    "x_val.info()"
   ]
  },
  {
   "cell_type": "code",
   "execution_count": 72,
   "id": "0e2c8844",
   "metadata": {},
   "outputs": [],
   "source": [
    "x_train ,x_val, x_test = drop_3_col(['invoice_currency'])                     #dropping invoice_id"
   ]
  },
  {
   "cell_type": "code",
   "execution_count": 73,
   "id": "2659d08c",
   "metadata": {},
   "outputs": [],
   "source": [
    "x_train=x_train.merge(y,on = x_train.index)\n",
    "x_val=x_val.merge(z,on = x_val.index)                                     #merging the CAD and USD column in train,test,val\n",
    "x_test=x_test.merge(k,on = x_test.index)"
   ]
  },
  {
   "cell_type": "code",
   "execution_count": 74,
   "id": "56745ed2",
   "metadata": {},
   "outputs": [
    {
     "name": "stdout",
     "output_type": "stream",
     "text": [
      "<class 'pandas.core.frame.DataFrame'>\n",
      "Int64Index: 26823 entries, 0 to 26822\n",
      "Data columns (total 15 columns):\n",
      " #   Column                  Non-Null Count  Dtype         \n",
      "---  ------                  --------------  -----         \n",
      " 0   key_0                   26823 non-null  int64         \n",
      " 1   clear_date              26823 non-null  datetime64[ns]\n",
      " 2   doc_id                  26823 non-null  float64       \n",
      " 3   posting_date            26823 non-null  object        \n",
      " 4   document_create_date.1  26823 non-null  datetime64[ns]\n",
      " 5   due_in_date             26823 non-null  datetime64[ns]\n",
      " 6   total_open_amount       26823 non-null  float64       \n",
      " 7   baseline_create_date    26823 non-null  datetime64[ns]\n",
      " 8   invoice_id              26823 non-null  float64       \n",
      " 9   business_code_enc       26823 non-null  int32         \n",
      " 10  cust_number_enc         26823 non-null  int32         \n",
      " 11  name_customer_enc       26823 non-null  int32         \n",
      " 12  cust_payment_terms_enc  26823 non-null  int32         \n",
      " 13  invoice_currency_CAD    26823 non-null  uint8         \n",
      " 14  invoice_currency_USD    26823 non-null  uint8         \n",
      "dtypes: datetime64[ns](4), float64(3), int32(4), int64(1), object(1), uint8(2)\n",
      "memory usage: 2.5+ MB\n"
     ]
    }
   ],
   "source": [
    "x_train.info()"
   ]
  },
  {
   "cell_type": "code",
   "execution_count": 75,
   "id": "798dd7fd",
   "metadata": {},
   "outputs": [],
   "source": [
    "x_train['due_day'] = x_train['due_in_date'].dt.day\n",
    "x_train['due_month'] = x_train['due_in_date'].dt.month\n",
    "\n",
    "\n",
    "x_val['due_day'] = x_val['due_in_date'].dt.day                  #Extracting the information from due_in_date\n",
    "x_val['due_month'] = x_val['due_in_date'].dt.month              # day , month\n",
    "\n",
    "\n",
    "\n",
    "x_test['due_day'] = x_test['due_in_date'].dt.day\n",
    "x_test['due_month'] = x_test['due_in_date'].dt.month"
   ]
  },
  {
   "cell_type": "code",
   "execution_count": 76,
   "id": "6b843f8d",
   "metadata": {},
   "outputs": [],
   "source": [
    "x_train ,x_val, x_test = drop_3_col(['due_in_date'])             #dropping due_in_date"
   ]
  },
  {
   "cell_type": "code",
   "execution_count": 77,
   "id": "b5988aca",
   "metadata": {},
   "outputs": [],
   "source": [
    "x_train ,x_val, x_test = drop_3_col(['clear_date'])              #dropping clear_date"
   ]
  },
  {
   "cell_type": "code",
   "execution_count": 78,
   "id": "2fbd3df5",
   "metadata": {},
   "outputs": [
    {
     "data": {
      "text/html": [
       "<div>\n",
       "<style scoped>\n",
       "    .dataframe tbody tr th:only-of-type {\n",
       "        vertical-align: middle;\n",
       "    }\n",
       "\n",
       "    .dataframe tbody tr th {\n",
       "        vertical-align: top;\n",
       "    }\n",
       "\n",
       "    .dataframe thead th {\n",
       "        text-align: right;\n",
       "    }\n",
       "</style>\n",
       "<table border=\"1\" class=\"dataframe\">\n",
       "  <thead>\n",
       "    <tr style=\"text-align: right;\">\n",
       "      <th></th>\n",
       "      <th>document_create_date.1</th>\n",
       "      <th>baseline_create_date</th>\n",
       "    </tr>\n",
       "  </thead>\n",
       "  <tbody>\n",
       "    <tr>\n",
       "      <th>0</th>\n",
       "      <td>2018-12-30</td>\n",
       "      <td>2018-12-30</td>\n",
       "    </tr>\n",
       "    <tr>\n",
       "      <th>1</th>\n",
       "      <td>2018-12-30</td>\n",
       "      <td>2018-12-30</td>\n",
       "    </tr>\n",
       "    <tr>\n",
       "      <th>2</th>\n",
       "      <td>2018-12-30</td>\n",
       "      <td>2018-12-30</td>\n",
       "    </tr>\n",
       "    <tr>\n",
       "      <th>3</th>\n",
       "      <td>2018-12-30</td>\n",
       "      <td>2018-12-30</td>\n",
       "    </tr>\n",
       "    <tr>\n",
       "      <th>4</th>\n",
       "      <td>2018-12-30</td>\n",
       "      <td>2018-12-30</td>\n",
       "    </tr>\n",
       "    <tr>\n",
       "      <th>...</th>\n",
       "      <td>...</td>\n",
       "      <td>...</td>\n",
       "    </tr>\n",
       "    <tr>\n",
       "      <th>26818</th>\n",
       "      <td>2019-10-09</td>\n",
       "      <td>2019-10-09</td>\n",
       "    </tr>\n",
       "    <tr>\n",
       "      <th>26819</th>\n",
       "      <td>2019-10-09</td>\n",
       "      <td>2019-10-09</td>\n",
       "    </tr>\n",
       "    <tr>\n",
       "      <th>26820</th>\n",
       "      <td>2019-10-09</td>\n",
       "      <td>2019-10-09</td>\n",
       "    </tr>\n",
       "    <tr>\n",
       "      <th>26821</th>\n",
       "      <td>2019-10-09</td>\n",
       "      <td>2019-10-09</td>\n",
       "    </tr>\n",
       "    <tr>\n",
       "      <th>26822</th>\n",
       "      <td>2019-10-09</td>\n",
       "      <td>2019-10-09</td>\n",
       "    </tr>\n",
       "  </tbody>\n",
       "</table>\n",
       "<p>26823 rows × 2 columns</p>\n",
       "</div>"
      ],
      "text/plain": [
       "      document_create_date.1 baseline_create_date\n",
       "0                 2018-12-30           2018-12-30\n",
       "1                 2018-12-30           2018-12-30\n",
       "2                 2018-12-30           2018-12-30\n",
       "3                 2018-12-30           2018-12-30\n",
       "4                 2018-12-30           2018-12-30\n",
       "...                      ...                  ...\n",
       "26818             2019-10-09           2019-10-09\n",
       "26819             2019-10-09           2019-10-09\n",
       "26820             2019-10-09           2019-10-09\n",
       "26821             2019-10-09           2019-10-09\n",
       "26822             2019-10-09           2019-10-09\n",
       "\n",
       "[26823 rows x 2 columns]"
      ]
     },
     "execution_count": 78,
     "metadata": {},
     "output_type": "execute_result"
    }
   ],
   "source": [
    "x_train[['document_create_date.1','baseline_create_date']]     #checking similarities between two columns"
   ]
  },
  {
   "cell_type": "code",
   "execution_count": 79,
   "id": "a9ed16c3",
   "metadata": {},
   "outputs": [],
   "source": [
    "x_train ,x_val, x_test = drop_3_col(['document_create_date.1'])   #dropping document_create_date.1"
   ]
  },
  {
   "cell_type": "code",
   "execution_count": 80,
   "id": "b5817e2c",
   "metadata": {},
   "outputs": [],
   "source": [
    "x_train['posting_date']=pd.to_datetime(x_train['posting_date'])  #converting posting_date in datetime\n",
    "x_val['posting_date']=pd.to_datetime(x_val['posting_date'])\n",
    "x_test['posting_date']=pd.to_datetime(x_test['posting_date'])"
   ]
  },
  {
   "cell_type": "code",
   "execution_count": 81,
   "id": "e92705eb",
   "metadata": {},
   "outputs": [
    {
     "data": {
      "text/html": [
       "<div>\n",
       "<style scoped>\n",
       "    .dataframe tbody tr th:only-of-type {\n",
       "        vertical-align: middle;\n",
       "    }\n",
       "\n",
       "    .dataframe tbody tr th {\n",
       "        vertical-align: top;\n",
       "    }\n",
       "\n",
       "    .dataframe thead th {\n",
       "        text-align: right;\n",
       "    }\n",
       "</style>\n",
       "<table border=\"1\" class=\"dataframe\">\n",
       "  <thead>\n",
       "    <tr style=\"text-align: right;\">\n",
       "      <th></th>\n",
       "      <th>posting_date</th>\n",
       "      <th>baseline_create_date</th>\n",
       "    </tr>\n",
       "  </thead>\n",
       "  <tbody>\n",
       "    <tr>\n",
       "      <th>0</th>\n",
       "      <td>2018-12-30</td>\n",
       "      <td>2018-12-30</td>\n",
       "    </tr>\n",
       "    <tr>\n",
       "      <th>1</th>\n",
       "      <td>2018-12-30</td>\n",
       "      <td>2018-12-30</td>\n",
       "    </tr>\n",
       "    <tr>\n",
       "      <th>2</th>\n",
       "      <td>2018-12-30</td>\n",
       "      <td>2018-12-30</td>\n",
       "    </tr>\n",
       "    <tr>\n",
       "      <th>3</th>\n",
       "      <td>2018-12-30</td>\n",
       "      <td>2018-12-30</td>\n",
       "    </tr>\n",
       "    <tr>\n",
       "      <th>4</th>\n",
       "      <td>2018-12-30</td>\n",
       "      <td>2018-12-30</td>\n",
       "    </tr>\n",
       "    <tr>\n",
       "      <th>...</th>\n",
       "      <td>...</td>\n",
       "      <td>...</td>\n",
       "    </tr>\n",
       "    <tr>\n",
       "      <th>26818</th>\n",
       "      <td>2019-10-09</td>\n",
       "      <td>2019-10-09</td>\n",
       "    </tr>\n",
       "    <tr>\n",
       "      <th>26819</th>\n",
       "      <td>2019-10-09</td>\n",
       "      <td>2019-10-09</td>\n",
       "    </tr>\n",
       "    <tr>\n",
       "      <th>26820</th>\n",
       "      <td>2019-10-09</td>\n",
       "      <td>2019-10-09</td>\n",
       "    </tr>\n",
       "    <tr>\n",
       "      <th>26821</th>\n",
       "      <td>2019-10-09</td>\n",
       "      <td>2019-10-09</td>\n",
       "    </tr>\n",
       "    <tr>\n",
       "      <th>26822</th>\n",
       "      <td>2019-10-09</td>\n",
       "      <td>2019-10-09</td>\n",
       "    </tr>\n",
       "  </tbody>\n",
       "</table>\n",
       "<p>26823 rows × 2 columns</p>\n",
       "</div>"
      ],
      "text/plain": [
       "      posting_date baseline_create_date\n",
       "0       2018-12-30           2018-12-30\n",
       "1       2018-12-30           2018-12-30\n",
       "2       2018-12-30           2018-12-30\n",
       "3       2018-12-30           2018-12-30\n",
       "4       2018-12-30           2018-12-30\n",
       "...            ...                  ...\n",
       "26818   2019-10-09           2019-10-09\n",
       "26819   2019-10-09           2019-10-09\n",
       "26820   2019-10-09           2019-10-09\n",
       "26821   2019-10-09           2019-10-09\n",
       "26822   2019-10-09           2019-10-09\n",
       "\n",
       "[26823 rows x 2 columns]"
      ]
     },
     "execution_count": 81,
     "metadata": {},
     "output_type": "execute_result"
    }
   ],
   "source": [
    "x_train[['posting_date','baseline_create_date']]                #checking similarities between two columns"
   ]
  },
  {
   "cell_type": "code",
   "execution_count": 82,
   "id": "6d66af11",
   "metadata": {},
   "outputs": [],
   "source": [
    "x_train ,x_val, x_test = drop_3_col(['baseline_create_date'])   #dropping baseline_create_date"
   ]
  },
  {
   "cell_type": "code",
   "execution_count": 83,
   "id": "4be59ea7",
   "metadata": {},
   "outputs": [],
   "source": [
    "x_train['posting_day'] = x_train['posting_date'].dt.day\n",
    "x_train['posting_month'] = x_train['posting_date'].dt.month\n",
    "\n",
    "x_val['posting_day'] = x_val['posting_date'].dt.day                    ##Extracting the information from due_in_date\n",
    "x_val['posting_month'] = x_val['posting_date'].dt.month                ## day and month\n",
    "\n",
    "x_test['posting_day'] = x_test['posting_date'].dt.day\n",
    "x_test['posting_month'] = x_test['posting_date'].dt.month"
   ]
  },
  {
   "cell_type": "code",
   "execution_count": 84,
   "id": "fb8f36a5",
   "metadata": {},
   "outputs": [],
   "source": [
    "x_train ,x_val, x_test = drop_3_col(['posting_date'])           #dropping posting_date"
   ]
  },
  {
   "cell_type": "code",
   "execution_count": 85,
   "id": "d5b7b1f3",
   "metadata": {},
   "outputs": [
    {
     "data": {
      "text/plain": [
       "((26823, 9), (5748, 9), (5748, 9))"
      ]
     },
     "execution_count": 85,
     "metadata": {},
     "output_type": "execute_result"
    }
   ],
   "source": [
    "x_train.shape ,x_val.shape  ,x_test.shape                  #checking the shape of train ,test and val  (same)"
   ]
  },
  {
   "cell_type": "code",
   "execution_count": 86,
   "id": "50d2bc04",
   "metadata": {},
   "outputs": [
    {
     "name": "stdout",
     "output_type": "stream",
     "text": [
      "<class 'pandas.core.frame.DataFrame'>\n",
      "Int64Index: 5748 entries, 32571 to 38318\n",
      "Data columns (total 9 columns):\n",
      " #   Column                  Non-Null Count  Dtype  \n",
      "---  ------                  --------------  -----  \n",
      " 0   doc_id                  5748 non-null   float64\n",
      " 1   total_open_amount       5748 non-null   float64\n",
      " 2   invoice_id              5748 non-null   float64\n",
      " 3   business_code_enc       5748 non-null   int32  \n",
      " 4   cust_number_enc         5748 non-null   int32  \n",
      " 5   name_customer_enc       5748 non-null   int32  \n",
      " 6   cust_payment_terms_enc  5748 non-null   int32  \n",
      " 7   posting_day             5748 non-null   int64  \n",
      " 8   posting_month           5748 non-null   int64  \n",
      "dtypes: float64(3), int32(4), int64(2)\n",
      "memory usage: 359.2 KB\n"
     ]
    }
   ],
   "source": [
    "x_test.info()"
   ]
  },
  {
   "cell_type": "code",
   "execution_count": 87,
   "id": "60628d96",
   "metadata": {},
   "outputs": [
    {
     "name": "stdout",
     "output_type": "stream",
     "text": [
      "<class 'pandas.core.frame.DataFrame'>\n",
      "Int64Index: 5748 entries, 32571 to 38318\n",
      "Data columns (total 9 columns):\n",
      " #   Column                  Non-Null Count  Dtype  \n",
      "---  ------                  --------------  -----  \n",
      " 0   doc_id                  5748 non-null   float64\n",
      " 1   total_open_amount       5748 non-null   float64\n",
      " 2   invoice_id              5748 non-null   float64\n",
      " 3   business_code_enc       5748 non-null   int32  \n",
      " 4   cust_number_enc         5748 non-null   int32  \n",
      " 5   name_customer_enc       5748 non-null   int32  \n",
      " 6   cust_payment_terms_enc  5748 non-null   int32  \n",
      " 7   posting_day             5748 non-null   int64  \n",
      " 8   posting_month           5748 non-null   int64  \n",
      "dtypes: float64(3), int32(4), int64(2)\n",
      "memory usage: 359.2 KB\n"
     ]
    }
   ],
   "source": [
    "x_test.info()"
   ]
  },
  {
   "cell_type": "code",
   "execution_count": 88,
   "id": "a5e8f1c8",
   "metadata": {},
   "outputs": [
    {
     "data": {
      "text/plain": [
       "9"
      ]
     },
     "execution_count": 88,
     "metadata": {},
     "output_type": "execute_result"
    }
   ],
   "source": [
    "#Passing a value of zero for the parameter will filter all the features with zero variance\n",
    "constant_filter = VarianceThreshold(threshold=0)\n",
    "#we need to simply apply this filter to our training set \n",
    "constant_filter.fit(x_train)\n",
    "#the number of non-constant features.\n",
    "len(x_train.columns[constant_filter.get_support()])"
   ]
  },
  {
   "cell_type": "code",
   "execution_count": 89,
   "id": "6afffc6c",
   "metadata": {},
   "outputs": [
    {
     "name": "stdout",
     "output_type": "stream",
     "text": [
      "0\n"
     ]
    }
   ],
   "source": [
    "constant_columns = [column for column in x_train.columns\n",
    "                    if column not in x_train.columns[constant_filter.get_support()]]   #checking for the constant_column\n",
    "\n",
    "print(len(constant_columns))"
   ]
  },
  {
   "cell_type": "code",
   "execution_count": 90,
   "id": "83de65a7",
   "metadata": {},
   "outputs": [
    {
     "data": {
      "text/plain": [
       "9"
      ]
     },
     "execution_count": 90,
     "metadata": {},
     "output_type": "execute_result"
    }
   ],
   "source": [
    "constant_filter = VarianceThreshold(threshold=0.01)   #0.01 threshold for quasi_constant\n",
    "#we need to simply apply this filter to our training set \n",
    "constant_filter.fit(x_train)\n",
    "#the number of non-constant features.\n",
    "len(x_train.columns[constant_filter.get_support()])"
   ]
  },
  {
   "cell_type": "code",
   "execution_count": 91,
   "id": "0d62871c",
   "metadata": {},
   "outputs": [
    {
     "name": "stdout",
     "output_type": "stream",
     "text": [
      "0\n"
     ]
    }
   ],
   "source": [
    "quasi_constant_columns = [column for column in x_train.columns\n",
    "                    if column not in x_train.columns[constant_filter.get_support()]]\n",
    "\n",
    "print(len(quasi_constant_columns))"
   ]
  },
  {
   "cell_type": "markdown",
   "id": "4e44f839",
   "metadata": {},
   "source": [
    "# FEATURE SELECTION"
   ]
  },
  {
   "cell_type": "markdown",
   "id": "e0f0b483",
   "metadata": {},
   "source": [
    "## correlation matrix"
   ]
  },
  {
   "cell_type": "code",
   "execution_count": 92,
   "id": "dee6dce3",
   "metadata": {},
   "outputs": [
    {
     "data": {
      "text/plain": [
       "<AxesSubplot:>"
      ]
     },
     "execution_count": 92,
     "metadata": {},
     "output_type": "execute_result"
    },
    {
     "data": {
      "image/png": "[encoded data removed]",
      "text/plain": [
       "<Figure size 1008x864 with 2 Axes>"
      ]
     },
     "metadata": {
      "needs_background": "light"
     },
     "output_type": "display_data"
    }
   ],
   "source": [
    "import matplotlib.pyplot as plt\n",
    "colormap = plt.cm.RdBu\n",
    "plt.figure(figsize=(14,12))         \n",
    "da=x_train.merge(y_train,on = x_train.index)\n",
    "sns.heatmap(da.corr(),linewidths=0.1,vmax=1.0, \n",
    "            square=True, cmap=colormap, linecolor='black', annot=True)"
   ]
  },
  {
   "cell_type": "markdown",
   "id": "ff8cf1ad",
   "metadata": {},
   "source": [
    "## SELECTING FEATURE USING EMBEDDED METHOD"
   ]
  },
  {
   "cell_type": "code",
   "execution_count": 93,
   "id": "d5b5c655",
   "metadata": {},
   "outputs": [],
   "source": [
    "def tree_based_feature_importance(x_train,y_train):\n",
    "    from sklearn.ensemble import RandomForestRegressor\n",
    "    # create the random forest model\n",
    "    model = RandomForestRegressor(n_estimators=120)\n",
    "\n",
    "    # fit the model to start training.\n",
    "    model.fit(x_train, y_train)\n",
    "\n",
    "    # get the importance of the resulting features.\n",
    "    importances = model.feature_importances_\n",
    "\n",
    "    # create a data frame for visualization.\n",
    "    final_df = pd.DataFrame({\"Features\": x_train.columns, \"Importances\":importances})\n",
    "    final_df.set_index('Importances')\n",
    "\n",
    "    # sort in descending order \n",
    "    final_df = final_df.sort_values('Importances',ascending=False)\n",
    "    \n",
    "    #visualising feature importance\n",
    "    pd.Series(model.feature_importances_, index=x_train.columns).nlargest(8).plot(kind='barh')  \n",
    "    return final_df"
   ]
  },
  {
   "cell_type": "code",
   "execution_count": 94,
   "id": "22399b39",
   "metadata": {},
   "outputs": [
    {
     "data": {
      "image/png": "[encoded data removed]",
      "text/plain": [
       "<Figure size 432x288 with 1 Axes>"
      ]
     },
     "metadata": {
      "needs_background": "light"
     },
     "output_type": "display_data"
    }
   ],
   "source": [
    "feature_importance=tree_based_feature_importance(x_train,y_train)       #top 8 important feature"
   ]
  },
  {
   "cell_type": "code",
   "execution_count": 95,
   "id": "dc3272c4",
   "metadata": {},
   "outputs": [
    {
     "data": {
      "text/html": [
       "<div>\n",
       "<style scoped>\n",
       "    .dataframe tbody tr th:only-of-type {\n",
       "        vertical-align: middle;\n",
       "    }\n",
       "\n",
       "    .dataframe tbody tr th {\n",
       "        vertical-align: top;\n",
       "    }\n",
       "\n",
       "    .dataframe thead th {\n",
       "        text-align: right;\n",
       "    }\n",
       "</style>\n",
       "<table border=\"1\" class=\"dataframe\">\n",
       "  <thead>\n",
       "    <tr style=\"text-align: right;\">\n",
       "      <th></th>\n",
       "      <th>Features</th>\n",
       "      <th>Importances</th>\n",
       "    </tr>\n",
       "  </thead>\n",
       "  <tbody>\n",
       "    <tr>\n",
       "      <th>6</th>\n",
       "      <td>cust_payment_terms_enc</td>\n",
       "      <td>0.274689</td>\n",
       "    </tr>\n",
       "    <tr>\n",
       "      <th>5</th>\n",
       "      <td>name_customer_enc</td>\n",
       "      <td>0.189162</td>\n",
       "    </tr>\n",
       "    <tr>\n",
       "      <th>1</th>\n",
       "      <td>total_open_amount</td>\n",
       "      <td>0.169577</td>\n",
       "    </tr>\n",
       "    <tr>\n",
       "      <th>4</th>\n",
       "      <td>cust_number_enc</td>\n",
       "      <td>0.106641</td>\n",
       "    </tr>\n",
       "    <tr>\n",
       "      <th>0</th>\n",
       "      <td>doc_id</td>\n",
       "      <td>0.091665</td>\n",
       "    </tr>\n",
       "    <tr>\n",
       "      <th>7</th>\n",
       "      <td>posting_day</td>\n",
       "      <td>0.083411</td>\n",
       "    </tr>\n",
       "    <tr>\n",
       "      <th>2</th>\n",
       "      <td>invoice_id</td>\n",
       "      <td>0.067457</td>\n",
       "    </tr>\n",
       "    <tr>\n",
       "      <th>8</th>\n",
       "      <td>posting_month</td>\n",
       "      <td>0.016136</td>\n",
       "    </tr>\n",
       "    <tr>\n",
       "      <th>3</th>\n",
       "      <td>business_code_enc</td>\n",
       "      <td>0.001262</td>\n",
       "    </tr>\n",
       "  </tbody>\n",
       "</table>\n",
       "</div>"
      ],
      "text/plain": [
       "                 Features  Importances\n",
       "6  cust_payment_terms_enc     0.274689\n",
       "5       name_customer_enc     0.189162\n",
       "1       total_open_amount     0.169577\n",
       "4         cust_number_enc     0.106641\n",
       "0                  doc_id     0.091665\n",
       "7             posting_day     0.083411\n",
       "2              invoice_id     0.067457\n",
       "8           posting_month     0.016136\n",
       "3       business_code_enc     0.001262"
      ]
     },
     "execution_count": 95,
     "metadata": {},
     "output_type": "execute_result"
    }
   ],
   "source": [
    "feature_importance"
   ]
  },
  {
   "cell_type": "code",
   "execution_count": 96,
   "id": "2b9844fb",
   "metadata": {},
   "outputs": [],
   "source": [
    "#SELECTING THE IMPORTANT FEATURE \n",
    "selected_train=x_train[['cust_payment_terms_enc','name_customer_enc','total_open_amount','cust_number_enc','doc_id','invoice_id','business_code_enc']]#,'clear_day','clear_month'\n",
    "selected_val=x_val[['cust_payment_terms_enc','name_customer_enc','total_open_amount','cust_number_enc','doc_id','invoice_id','business_code_enc']]\n",
    "selected_test=x_test[['cust_payment_terms_enc','name_customer_enc','total_open_amount','cust_number_enc','doc_id','invoice_id','business_code_enc']]\n"
   ]
  },
  {
   "cell_type": "markdown",
   "id": "e6c07f1c",
   "metadata": {},
   "source": [
    "# Experimenting on different models"
   ]
  },
  {
   "cell_type": "code",
   "execution_count": 97,
   "id": "a4b5fc06",
   "metadata": {},
   "outputs": [],
   "source": [
    "MSE_Score = []\n",
    "R2_Score = []\n",
    "Algorithm = []"
   ]
  },
  {
   "cell_type": "code",
   "execution_count": 98,
   "id": "566fab42",
   "metadata": {},
   "outputs": [],
   "source": [
    "from sklearn.linear_model import LinearRegression\n",
    "from sklearn.svm import SVR\n",
    "from sklearn.tree import DecisionTreeRegressor\n",
    "from sklearn.ensemble import RandomForestRegressor\n",
    "import xgboost as xgb\n",
    "from sklearn.metrics import mean_squared_error\n",
    "from sklearn.metrics import r2_score"
   ]
  },
  {
   "cell_type": "markdown",
   "id": "f39d019b",
   "metadata": {},
   "source": [
    "# Linear Regression"
   ]
  },
  {
   "cell_type": "code",
   "execution_count": 99,
   "id": "04df2243",
   "metadata": {},
   "outputs": [],
   "source": [
    "Algorithm.append('Linear Regression_val')\n",
    "linearR = LinearRegression()\n",
    "linearR.fit(selected_train, y_train)\n",
    "\n",
    "# Predicting the Test Set Results\n",
    "predicted = linearR.predict(selected_val)"
   ]
  },
  {
   "cell_type": "code",
   "execution_count": 100,
   "id": "51af1fd3",
   "metadata": {},
   "outputs": [],
   "source": [
    "MSE_Score.append(mean_squared_error(y_val, predicted,squared=False))\n",
    "R2_Score.append(r2_score(y_val, predicted))"
   ]
  },
  {
   "cell_type": "code",
   "execution_count": 101,
   "id": "89f7043c",
   "metadata": {},
   "outputs": [],
   "source": [
    "Algorithm.append('Linear Regression_test')\n",
    "linearR = LinearRegression()\n",
    "linearR.fit(selected_train, y_train)\n",
    "\n",
    "# Predicting the Test Set Results\n",
    "predicted = linearR.predict(selected_test)"
   ]
  },
  {
   "cell_type": "code",
   "execution_count": 102,
   "id": "76c7c257",
   "metadata": {},
   "outputs": [],
   "source": [
    "MSE_Score.append(mean_squared_error(y_test, predicted,squared=False))\n",
    "R2_Score.append(r2_score(y_test, predicted))"
   ]
  },
  {
   "cell_type": "markdown",
   "id": "99a076ce",
   "metadata": {},
   "source": [
    "# Decision Tree Regressor"
   ]
  },
  {
   "cell_type": "code",
   "execution_count": 103,
   "id": "366ddb49",
   "metadata": {},
   "outputs": [],
   "source": [
    "Algorithm.append('Decision Tree Regressor_val')\n",
    "DecisionTR = DecisionTreeRegressor(random_state=0,max_depth=4) \n",
    "DecisionTR.fit(selected_train, y_train)\n",
    "\n",
    "# Predicting the Test Set Results\n",
    "predicted = DecisionTR.predict(selected_val)"
   ]
  },
  {
   "cell_type": "code",
   "execution_count": 104,
   "id": "cb3ab4a5",
   "metadata": {},
   "outputs": [],
   "source": [
    "# Appending the Scores For Visualisation at a Later Part\n",
    "MSE_Score.append(mean_squared_error(y_val, predicted,squared=False))\n",
    "R2_Score.append(r2_score(y_val, predicted))"
   ]
  },
  {
   "cell_type": "code",
   "execution_count": 105,
   "id": "7ac54670",
   "metadata": {},
   "outputs": [],
   "source": [
    "Algorithm.append('Decision Tree Regressor_test')\n",
    "DecisionTR = DecisionTreeRegressor(random_state=0,max_depth=4 )\n",
    "DecisionTR.fit(selected_train, y_train)\n",
    "\n",
    "# Predicting the Test Set Results\n",
    "predicted = DecisionTR.predict(selected_test)"
   ]
  },
  {
   "cell_type": "code",
   "execution_count": 106,
   "id": "f2784086",
   "metadata": {},
   "outputs": [],
   "source": [
    "MSE_Score.append(mean_squared_error(y_test, predicted,squared=False))\n",
    "R2_Score.append(r2_score(y_test, predicted))"
   ]
  },
  {
   "cell_type": "markdown",
   "id": "c3d1c7c0",
   "metadata": {},
   "source": [
    "# Support Vector Regression"
   ]
  },
  {
   "cell_type": "code",
   "execution_count": 107,
   "id": "8c4e03c1",
   "metadata": {},
   "outputs": [],
   "source": [
    "#Algorithm.append('Support Vector Regression')\n",
    "Algorithm.append('Support Vector Regression_val')\n",
    "clf = SVR()\n",
    "clf.fit(selected_train, y_train)\n",
    "\n",
    "# Predicting the Test Set Results\n",
    "predicted = clf.predict(selected_val)"
   ]
  },
  {
   "cell_type": "code",
   "execution_count": 108,
   "id": "306e2ac2",
   "metadata": {},
   "outputs": [],
   "source": [
    "MSE_Score.append(mean_squared_error(y_val, predicted,squared=False))\n",
    "R2_Score.append(r2_score(y_val, predicted))"
   ]
  },
  {
   "cell_type": "code",
   "execution_count": 109,
   "id": "bd9c5aa9",
   "metadata": {},
   "outputs": [],
   "source": [
    "Algorithm.append('Support Vector Regression_test')\n",
    "clf = SVR()\n",
    "clf.fit(selected_train, y_train)\n",
    "\n",
    "# Predicting the Test Set Results\n",
    "predicted = clf.predict(selected_test)"
   ]
  },
  {
   "cell_type": "code",
   "execution_count": 110,
   "id": "acccb567",
   "metadata": {},
   "outputs": [],
   "source": [
    "MSE_Score.append(mean_squared_error(y_test, predicted,squared=False))\n",
    "R2_Score.append(r2_score(y_test, predicted))"
   ]
  },
  {
   "cell_type": "markdown",
   "id": "257c6630",
   "metadata": {},
   "source": [
    "# Random Forest Regressor"
   ]
  },
  {
   "cell_type": "code",
   "execution_count": 111,
   "id": "f3cbedb0",
   "metadata": {},
   "outputs": [],
   "source": [
    "# Fitting Random Forest Regressor Tree to the Training Set\n",
    "Algorithm.append('Random Forest Regressor_val')\n",
    "RandonFR = RandomForestRegressor()\n",
    "RandonFR.fit(selected_train, y_train)\n",
    "\n",
    "# Predicting the Test Set Results\n",
    "predicted = RandonFR.predict(selected_val)"
   ]
  },
  {
   "cell_type": "code",
   "execution_count": 112,
   "id": "0595c9c6",
   "metadata": {},
   "outputs": [],
   "source": [
    "# Appending the Scores For Visualisation at a Later Part\n",
    "MSE_Score.append(mean_squared_error(y_val, predicted,squared=False))\n",
    "R2_Score.append(r2_score(y_val, predicted))"
   ]
  },
  {
   "cell_type": "code",
   "execution_count": 113,
   "id": "6d5290e6",
   "metadata": {},
   "outputs": [],
   "source": [
    "# Fitting Random Forest Regressor Tree to the Training Set\n",
    "Algorithm.append('Random Forest Regressor_test')\n",
    "RandonFR = RandomForestRegressor()\n",
    "RandonFR.fit(selected_train, y_train)\n",
    "\n",
    "# Predicting the Test Set Results\n",
    "predicted = RandonFR.predict(selected_test)"
   ]
  },
  {
   "cell_type": "code",
   "execution_count": 114,
   "id": "54963064",
   "metadata": {},
   "outputs": [],
   "source": [
    "# Appending the Scores For Visualisation at a Later Part\n",
    "MSE_Score.append(mean_squared_error(y_test, predicted,squared=False))\n",
    "R2_Score.append(r2_score(y_test, predicted))"
   ]
  },
  {
   "cell_type": "markdown",
   "id": "3506eb9c",
   "metadata": {},
   "source": [
    "# XGB Regressor"
   ]
  },
  {
   "cell_type": "code",
   "execution_count": 115,
   "id": "26ee47f5",
   "metadata": {},
   "outputs": [],
   "source": [
    "import xgboost as xgb\n",
    "# Fitting Random Forest Regressor Tree to the Training Set\n",
    "Algorithm.append('XGB Regressor_val')\n",
    "XGBR = xgb.XGBRegressor()\n",
    "XGBR.fit(selected_train, y_train)\n",
    "\n",
    "# Predicting the Test Set Results\n",
    "predicted = XGBR.predict(selected_val)"
   ]
  },
  {
   "cell_type": "code",
   "execution_count": 116,
   "id": "a44a00e8",
   "metadata": {},
   "outputs": [],
   "source": [
    "# Appending the Scores For Visualisation at a Later Part\n",
    "MSE_Score.append(mean_squared_error(y_val, predicted,squared=False))\n",
    "R2_Score.append(r2_score(y_val, predicted))"
   ]
  },
  {
   "cell_type": "code",
   "execution_count": 117,
   "id": "835b491a",
   "metadata": {},
   "outputs": [],
   "source": [
    "\n",
    "# Fitting Random Forest Regressor Tree to the Training Set\n",
    "Algorithm.append('XGB Regressor_test')\n",
    "XGBR = xgb.XGBRegressor()\n",
    "XGBR.fit(selected_train, y_train)\n",
    "\n",
    "# Predicting the Test Set Results\n",
    "predicted = XGBR.predict(selected_test)"
   ]
  },
  {
   "cell_type": "code",
   "execution_count": 118,
   "id": "aed765c2",
   "metadata": {},
   "outputs": [],
   "source": [
    "# Appending the Scores For Visualisation at a Later Part\n",
    "MSE_Score.append(mean_squared_error(y_test, predicted,squared=False))\n",
    "R2_Score.append(r2_score(y_test, predicted))"
   ]
  },
  {
   "cell_type": "markdown",
   "id": "d900bed0",
   "metadata": {},
   "source": [
    "# Appending the Scores For Visualisation at a Later Part\n",
    "MSE_Score.append(mean_squared_error(y_test, predicted))\n",
    "R2_Score.append(r2_score(y_test, predicted))"
   ]
  },
  {
   "cell_type": "code",
   "execution_count": 119,
   "id": "f7ecd6ca",
   "metadata": {},
   "outputs": [],
   "source": [
    "Comparison = pd.DataFrame(list(zip(Algorithm, MSE_Score, R2_Score)), columns = ['Algorithm', 'MSE_Score', 'R2_Score'])"
   ]
  },
  {
   "cell_type": "code",
   "execution_count": 120,
   "id": "a33b48be",
   "metadata": {},
   "outputs": [
    {
     "data": {
      "text/html": [
       "<div>\n",
       "<style scoped>\n",
       "    .dataframe tbody tr th:only-of-type {\n",
       "        vertical-align: middle;\n",
       "    }\n",
       "\n",
       "    .dataframe tbody tr th {\n",
       "        vertical-align: top;\n",
       "    }\n",
       "\n",
       "    .dataframe thead th {\n",
       "        text-align: right;\n",
       "    }\n",
       "</style>\n",
       "<table border=\"1\" class=\"dataframe\">\n",
       "  <thead>\n",
       "    <tr style=\"text-align: right;\">\n",
       "      <th></th>\n",
       "      <th>Algorithm</th>\n",
       "      <th>MSE_Score</th>\n",
       "      <th>R2_Score</th>\n",
       "    </tr>\n",
       "  </thead>\n",
       "  <tbody>\n",
       "    <tr>\n",
       "      <th>0</th>\n",
       "      <td>Linear Regression_val</td>\n",
       "      <td>7.711944</td>\n",
       "      <td>-0.217746</td>\n",
       "    </tr>\n",
       "    <tr>\n",
       "      <th>1</th>\n",
       "      <td>Linear Regression_test</td>\n",
       "      <td>10.908954</td>\n",
       "      <td>-0.026570</td>\n",
       "    </tr>\n",
       "    <tr>\n",
       "      <th>2</th>\n",
       "      <td>Decision Tree Regressor_val</td>\n",
       "      <td>7.363843</td>\n",
       "      <td>-0.110294</td>\n",
       "    </tr>\n",
       "    <tr>\n",
       "      <th>3</th>\n",
       "      <td>Decision Tree Regressor_test</td>\n",
       "      <td>11.464300</td>\n",
       "      <td>-0.133751</td>\n",
       "    </tr>\n",
       "    <tr>\n",
       "      <th>4</th>\n",
       "      <td>Support Vector Regression_val</td>\n",
       "      <td>6.922584</td>\n",
       "      <td>0.018783</td>\n",
       "    </tr>\n",
       "    <tr>\n",
       "      <th>5</th>\n",
       "      <td>Support Vector Regression_test</td>\n",
       "      <td>10.619134</td>\n",
       "      <td>0.027251</td>\n",
       "    </tr>\n",
       "    <tr>\n",
       "      <th>6</th>\n",
       "      <td>Random Forest Regressor_val</td>\n",
       "      <td>11.600728</td>\n",
       "      <td>-1.755493</td>\n",
       "    </tr>\n",
       "    <tr>\n",
       "      <th>7</th>\n",
       "      <td>Random Forest Regressor_test</td>\n",
       "      <td>16.588125</td>\n",
       "      <td>-1.373652</td>\n",
       "    </tr>\n",
       "    <tr>\n",
       "      <th>8</th>\n",
       "      <td>XGB Regressor_val</td>\n",
       "      <td>9.335774</td>\n",
       "      <td>-0.784553</td>\n",
       "    </tr>\n",
       "    <tr>\n",
       "      <th>9</th>\n",
       "      <td>XGB Regressor_test</td>\n",
       "      <td>12.290767</td>\n",
       "      <td>-0.303108</td>\n",
       "    </tr>\n",
       "  </tbody>\n",
       "</table>\n",
       "</div>"
      ],
      "text/plain": [
       "                        Algorithm  MSE_Score  R2_Score\n",
       "0           Linear Regression_val   7.711944 -0.217746\n",
       "1          Linear Regression_test  10.908954 -0.026570\n",
       "2     Decision Tree Regressor_val   7.363843 -0.110294\n",
       "3    Decision Tree Regressor_test  11.464300 -0.133751\n",
       "4   Support Vector Regression_val   6.922584  0.018783\n",
       "5  Support Vector Regression_test  10.619134  0.027251\n",
       "6     Random Forest Regressor_val  11.600728 -1.755493\n",
       "7    Random Forest Regressor_test  16.588125 -1.373652\n",
       "8               XGB Regressor_val   9.335774 -0.784553\n",
       "9              XGB Regressor_test  12.290767 -0.303108"
      ]
     },
     "execution_count": 120,
     "metadata": {},
     "output_type": "execute_result"
    }
   ],
   "source": [
    "Comparison"
   ]
  },
  {
   "cell_type": "markdown",
   "id": "e7cc859d",
   "metadata": {},
   "source": [
    "# As we can see that Support Vector Regression is doing best for us among all these other regression model . So we will be using Support Vector Regression for prediction of our real_test"
   ]
  },
  {
   "cell_type": "markdown",
   "id": "6b87ae33",
   "metadata": {},
   "source": [
    "# Making the changes of real_test same as train set so that it can match the feature for prediction "
   ]
  },
  {
   "cell_type": "code",
   "execution_count": 121,
   "id": "c435d461",
   "metadata": {},
   "outputs": [
    {
     "data": {
      "text/plain": [
       "['clear_date']"
      ]
     },
     "execution_count": 121,
     "metadata": {},
     "output_type": "execute_result"
    }
   ],
   "source": [
    "[col for col in real_test.columns if real_test[col].isnull().sum() > 0]  #Checking if there any NULL values "
   ]
  },
  {
   "cell_type": "code",
   "execution_count": 122,
   "id": "0ffb35de",
   "metadata": {},
   "outputs": [
    {
     "data": {
      "text/plain": [
       "(9368, 15)"
      ]
     },
     "execution_count": 122,
     "metadata": {},
     "output_type": "execute_result"
    }
   ],
   "source": [
    "real_test.drop_duplicates(keep=False,inplace=True)    #dropping the duplicate value from real_test\n",
    "real_test.shape "
   ]
  },
  {
   "cell_type": "code",
   "execution_count": 123,
   "id": "71e2b9cf",
   "metadata": {},
   "outputs": [],
   "source": [
    "TEST=real_test.drop(['clear_date'],axis=1)             # making another dataset TEST for prediction by removing clear_date from real_test\n"
   ]
  },
  {
   "cell_type": "code",
   "execution_count": 124,
   "id": "c4084018",
   "metadata": {},
   "outputs": [],
   "source": [
    "real_test=real_test.drop(['clear_date'],axis=1)             #dropping clear date from real_test"
   ]
  },
  {
   "cell_type": "code",
   "execution_count": 125,
   "id": "8d5f30f7",
   "metadata": {},
   "outputs": [
    {
     "data": {
      "text/html": [
       "<div>\n",
       "<style scoped>\n",
       "    .dataframe tbody tr th:only-of-type {\n",
       "        vertical-align: middle;\n",
       "    }\n",
       "\n",
       "    .dataframe tbody tr th {\n",
       "        vertical-align: top;\n",
       "    }\n",
       "\n",
       "    .dataframe thead th {\n",
       "        text-align: right;\n",
       "    }\n",
       "</style>\n",
       "<table border=\"1\" class=\"dataframe\">\n",
       "  <thead>\n",
       "    <tr style=\"text-align: right;\">\n",
       "      <th></th>\n",
       "      <th>business_code</th>\n",
       "      <th>cust_number</th>\n",
       "      <th>name_customer</th>\n",
       "      <th>buisness_year</th>\n",
       "      <th>doc_id</th>\n",
       "      <th>posting_date</th>\n",
       "      <th>document_create_date.1</th>\n",
       "      <th>due_in_date</th>\n",
       "      <th>invoice_currency</th>\n",
       "      <th>total_open_amount</th>\n",
       "      <th>baseline_create_date</th>\n",
       "      <th>cust_payment_terms</th>\n",
       "      <th>invoice_id</th>\n",
       "      <th>isOpen</th>\n",
       "    </tr>\n",
       "  </thead>\n",
       "  <tbody>\n",
       "    <tr>\n",
       "      <th>2</th>\n",
       "      <td>U001</td>\n",
       "      <td>0200769623</td>\n",
       "      <td>WAL-MAR systems</td>\n",
       "      <td>2020.0</td>\n",
       "      <td>1.930676e+09</td>\n",
       "      <td>2020-03-21</td>\n",
       "      <td>2020-03-21</td>\n",
       "      <td>2020-04-05</td>\n",
       "      <td>USD</td>\n",
       "      <td>16497.30</td>\n",
       "      <td>2020-03-21</td>\n",
       "      <td>NAH4</td>\n",
       "      <td>1.930676e+09</td>\n",
       "      <td>1</td>\n",
       "    </tr>\n",
       "    <tr>\n",
       "      <th>9</th>\n",
       "      <td>U001</td>\n",
       "      <td>0200920735</td>\n",
       "      <td>ALBERT trust</td>\n",
       "      <td>2020.0</td>\n",
       "      <td>1.930605e+09</td>\n",
       "      <td>2020-03-05</td>\n",
       "      <td>2020-03-05</td>\n",
       "      <td>2020-03-20</td>\n",
       "      <td>USD</td>\n",
       "      <td>136153.34</td>\n",
       "      <td>2020-03-05</td>\n",
       "      <td>NAA8</td>\n",
       "      <td>1.930605e+09</td>\n",
       "      <td>1</td>\n",
       "    </tr>\n",
       "    <tr>\n",
       "      <th>26</th>\n",
       "      <td>U001</td>\n",
       "      <td>0200723794</td>\n",
       "      <td>MID MO llc</td>\n",
       "      <td>2020.0</td>\n",
       "      <td>1.930576e+09</td>\n",
       "      <td>2020-02-27</td>\n",
       "      <td>2020-02-27</td>\n",
       "      <td>2020-03-13</td>\n",
       "      <td>USD</td>\n",
       "      <td>124685.91</td>\n",
       "      <td>2020-02-27</td>\n",
       "      <td>NAA8</td>\n",
       "      <td>1.930576e+09</td>\n",
       "      <td>1</td>\n",
       "    </tr>\n",
       "    <tr>\n",
       "      <th>30</th>\n",
       "      <td>U001</td>\n",
       "      <td>0200726979</td>\n",
       "      <td>BJ'S</td>\n",
       "      <td>2020.0</td>\n",
       "      <td>1.930572e+09</td>\n",
       "      <td>2020-02-27</td>\n",
       "      <td>2020-02-27</td>\n",
       "      <td>2020-03-13</td>\n",
       "      <td>USD</td>\n",
       "      <td>627.46</td>\n",
       "      <td>2020-02-27</td>\n",
       "      <td>NAA8</td>\n",
       "      <td>1.930572e+09</td>\n",
       "      <td>1</td>\n",
       "    </tr>\n",
       "    <tr>\n",
       "      <th>47</th>\n",
       "      <td>U001</td>\n",
       "      <td>0100021540</td>\n",
       "      <td>MASTER in</td>\n",
       "      <td>2020.0</td>\n",
       "      <td>1.930855e+09</td>\n",
       "      <td>2020-05-04</td>\n",
       "      <td>2020-05-04</td>\n",
       "      <td>2020-05-14</td>\n",
       "      <td>USD</td>\n",
       "      <td>2885.54</td>\n",
       "      <td>2020-05-04</td>\n",
       "      <td>NA10</td>\n",
       "      <td>1.930855e+09</td>\n",
       "      <td>1</td>\n",
       "    </tr>\n",
       "    <tr>\n",
       "      <th>...</th>\n",
       "      <td>...</td>\n",
       "      <td>...</td>\n",
       "      <td>...</td>\n",
       "      <td>...</td>\n",
       "      <td>...</td>\n",
       "      <td>...</td>\n",
       "      <td>...</td>\n",
       "      <td>...</td>\n",
       "      <td>...</td>\n",
       "      <td>...</td>\n",
       "      <td>...</td>\n",
       "      <td>...</td>\n",
       "      <td>...</td>\n",
       "      <td>...</td>\n",
       "    </tr>\n",
       "    <tr>\n",
       "      <th>49980</th>\n",
       "      <td>U001</td>\n",
       "      <td>0200769623</td>\n",
       "      <td>WAL-MAR foundation</td>\n",
       "      <td>2020.0</td>\n",
       "      <td>1.930613e+09</td>\n",
       "      <td>2020-03-06</td>\n",
       "      <td>2020-03-06</td>\n",
       "      <td>2020-03-21</td>\n",
       "      <td>USD</td>\n",
       "      <td>50972.52</td>\n",
       "      <td>2020-03-06</td>\n",
       "      <td>NAH4</td>\n",
       "      <td>1.930613e+09</td>\n",
       "      <td>1</td>\n",
       "    </tr>\n",
       "    <tr>\n",
       "      <th>49983</th>\n",
       "      <td>U001</td>\n",
       "      <td>0200769623</td>\n",
       "      <td>WAL-MAR us</td>\n",
       "      <td>2020.0</td>\n",
       "      <td>1.930620e+09</td>\n",
       "      <td>2020-03-07</td>\n",
       "      <td>2020-03-07</td>\n",
       "      <td>2020-03-22</td>\n",
       "      <td>USD</td>\n",
       "      <td>26842.88</td>\n",
       "      <td>2020-03-07</td>\n",
       "      <td>NAH4</td>\n",
       "      <td>1.930620e+09</td>\n",
       "      <td>1</td>\n",
       "    </tr>\n",
       "    <tr>\n",
       "      <th>49988</th>\n",
       "      <td>U001</td>\n",
       "      <td>0200152991</td>\n",
       "      <td>JET in</td>\n",
       "      <td>2020.0</td>\n",
       "      <td>1.930847e+09</td>\n",
       "      <td>2020-05-01</td>\n",
       "      <td>2020-05-01</td>\n",
       "      <td>2020-05-16</td>\n",
       "      <td>USD</td>\n",
       "      <td>7087.06</td>\n",
       "      <td>2020-05-01</td>\n",
       "      <td>NAA8</td>\n",
       "      <td>1.930847e+09</td>\n",
       "      <td>1</td>\n",
       "    </tr>\n",
       "    <tr>\n",
       "      <th>49989</th>\n",
       "      <td>U001</td>\n",
       "      <td>0200782669</td>\n",
       "      <td>SYGMA co</td>\n",
       "      <td>2020.0</td>\n",
       "      <td>1.930774e+09</td>\n",
       "      <td>2020-04-15</td>\n",
       "      <td>2020-04-15</td>\n",
       "      <td>2020-05-05</td>\n",
       "      <td>USD</td>\n",
       "      <td>11614.23</td>\n",
       "      <td>2020-04-15</td>\n",
       "      <td>NAD1</td>\n",
       "      <td>1.930774e+09</td>\n",
       "      <td>1</td>\n",
       "    </tr>\n",
       "    <tr>\n",
       "      <th>49990</th>\n",
       "      <td>U001</td>\n",
       "      <td>0200759878</td>\n",
       "      <td>SA co</td>\n",
       "      <td>2020.0</td>\n",
       "      <td>1.930724e+09</td>\n",
       "      <td>2020-04-02</td>\n",
       "      <td>2020-04-02</td>\n",
       "      <td>2020-04-17</td>\n",
       "      <td>USD</td>\n",
       "      <td>44234.94</td>\n",
       "      <td>2020-04-02</td>\n",
       "      <td>NAH4</td>\n",
       "      <td>1.930724e+09</td>\n",
       "      <td>1</td>\n",
       "    </tr>\n",
       "  </tbody>\n",
       "</table>\n",
       "<p>9368 rows × 14 columns</p>\n",
       "</div>"
      ],
      "text/plain": [
       "      business_code cust_number       name_customer  buisness_year  \\\n",
       "2              U001  0200769623     WAL-MAR systems         2020.0   \n",
       "9              U001  0200920735        ALBERT trust         2020.0   \n",
       "26             U001  0200723794          MID MO llc         2020.0   \n",
       "30             U001  0200726979              BJ'S           2020.0   \n",
       "47             U001  0100021540           MASTER in         2020.0   \n",
       "...             ...         ...                 ...            ...   \n",
       "49980          U001  0200769623  WAL-MAR foundation         2020.0   \n",
       "49983          U001  0200769623          WAL-MAR us         2020.0   \n",
       "49988          U001  0200152991              JET in         2020.0   \n",
       "49989          U001  0200782669            SYGMA co         2020.0   \n",
       "49990          U001  0200759878               SA co         2020.0   \n",
       "\n",
       "             doc_id posting_date document_create_date.1 due_in_date  \\\n",
       "2      1.930676e+09   2020-03-21             2020-03-21  2020-04-05   \n",
       "9      1.930605e+09   2020-03-05             2020-03-05  2020-03-20   \n",
       "26     1.930576e+09   2020-02-27             2020-02-27  2020-03-13   \n",
       "30     1.930572e+09   2020-02-27             2020-02-27  2020-03-13   \n",
       "47     1.930855e+09   2020-05-04             2020-05-04  2020-05-14   \n",
       "...             ...          ...                    ...         ...   \n",
       "49980  1.930613e+09   2020-03-06             2020-03-06  2020-03-21   \n",
       "49983  1.930620e+09   2020-03-07             2020-03-07  2020-03-22   \n",
       "49988  1.930847e+09   2020-05-01             2020-05-01  2020-05-16   \n",
       "49989  1.930774e+09   2020-04-15             2020-04-15  2020-05-05   \n",
       "49990  1.930724e+09   2020-04-02             2020-04-02  2020-04-17   \n",
       "\n",
       "      invoice_currency  total_open_amount baseline_create_date  \\\n",
       "2                  USD           16497.30           2020-03-21   \n",
       "9                  USD          136153.34           2020-03-05   \n",
       "26                 USD          124685.91           2020-02-27   \n",
       "30                 USD             627.46           2020-02-27   \n",
       "47                 USD            2885.54           2020-05-04   \n",
       "...                ...                ...                  ...   \n",
       "49980              USD           50972.52           2020-03-06   \n",
       "49983              USD           26842.88           2020-03-07   \n",
       "49988              USD            7087.06           2020-05-01   \n",
       "49989              USD           11614.23           2020-04-15   \n",
       "49990              USD           44234.94           2020-04-02   \n",
       "\n",
       "      cust_payment_terms    invoice_id  isOpen  \n",
       "2                   NAH4  1.930676e+09       1  \n",
       "9                   NAA8  1.930605e+09       1  \n",
       "26                  NAA8  1.930576e+09       1  \n",
       "30                  NAA8  1.930572e+09       1  \n",
       "47                  NA10  1.930855e+09       1  \n",
       "...                  ...           ...     ...  \n",
       "49980               NAH4  1.930613e+09       1  \n",
       "49983               NAH4  1.930620e+09       1  \n",
       "49988               NAA8  1.930847e+09       1  \n",
       "49989               NAD1  1.930774e+09       1  \n",
       "49990               NAH4  1.930724e+09       1  \n",
       "\n",
       "[9368 rows x 14 columns]"
      ]
     },
     "execution_count": 125,
     "metadata": {},
     "output_type": "execute_result"
    }
   ],
   "source": [
    "TEST"
   ]
  },
  {
   "cell_type": "code",
   "execution_count": 126,
   "id": "a263fa91",
   "metadata": {},
   "outputs": [
    {
     "data": {
      "text/plain": [
       "(9368, 14)"
      ]
     },
     "execution_count": 126,
     "metadata": {},
     "output_type": "execute_result"
    }
   ],
   "source": [
    "TEST.shape"
   ]
  },
  {
   "cell_type": "code",
   "execution_count": 127,
   "id": "dc055f56",
   "metadata": {},
   "outputs": [
    {
     "data": {
      "text/plain": [
       "(9368, 14)"
      ]
     },
     "execution_count": 127,
     "metadata": {},
     "output_type": "execute_result"
    }
   ],
   "source": [
    "TEST.drop_duplicates(keep=False,inplace=True)        # Dropping the duplicate values\n",
    "TEST.shape "
   ]
  },
  {
   "cell_type": "code",
   "execution_count": 128,
   "id": "677af5d8",
   "metadata": {},
   "outputs": [],
   "source": [
    "TEST=TEST.drop(['isOpen','buisness_year'],axis=1)    # Dropping isOpen and buisness_year column"
   ]
  },
  {
   "cell_type": "code",
   "execution_count": 129,
   "id": "2a02bbd1",
   "metadata": {},
   "outputs": [],
   "source": [
    "TEST['business_code'] = np.where(TEST['business_code'].isin([\"U002\",\n",
    "                                                             \"U005\",    #Clubbing the business code column variables\n",
    "                                                             \"U007\"]),\"U013\",TEST['business_code'])"
   ]
  },
  {
   "cell_type": "code",
   "execution_count": 130,
   "id": "18d75b33",
   "metadata": {},
   "outputs": [],
   "source": [
    "TEST['business_code_enc'] = encoder.fit_transform(TEST['business_code'])   # label encoding on business_code"
   ]
  },
  {
   "cell_type": "code",
   "execution_count": 131,
   "id": "8109e1cd",
   "metadata": {},
   "outputs": [],
   "source": [
    "TEST=TEST.drop(['business_code'],axis=1)                                             # dropping business_code"
   ]
  },
  {
   "cell_type": "code",
   "execution_count": 132,
   "id": "54940b55",
   "metadata": {},
   "outputs": [],
   "source": [
    "TEST['cust_number_enc'] = encoder.fit_transform(TEST['cust_number'])     # label encoding on cust_number"
   ]
  },
  {
   "cell_type": "code",
   "execution_count": 133,
   "id": "f62f6f6e",
   "metadata": {},
   "outputs": [],
   "source": [
    "TEST=TEST.drop(['cust_number'],axis=1)                                                 # dropping cust_number"
   ]
  },
  {
   "cell_type": "code",
   "execution_count": 134,
   "id": "c7d9f47a",
   "metadata": {},
   "outputs": [],
   "source": [
    "TEST['name_customer_enc'] = encoder.fit_transform(TEST['name_customer'])  # label encoding on name_customer"
   ]
  },
  {
   "cell_type": "code",
   "execution_count": 135,
   "id": "067b70f5",
   "metadata": {},
   "outputs": [],
   "source": [
    "TEST=TEST.drop(['name_customer'],axis=1)                                               # dropping name_customer"
   ]
  },
  {
   "cell_type": "code",
   "execution_count": 136,
   "id": "1c186cf1",
   "metadata": {},
   "outputs": [],
   "source": [
    "TEST['cust_payment_terms_enc'] = encoder.fit_transform(TEST['cust_payment_terms'])    # label encoding on cust_payment_terms\n"
   ]
  },
  {
   "cell_type": "code",
   "execution_count": 137,
   "id": "dcf81542",
   "metadata": {},
   "outputs": [],
   "source": [
    "TEST=TEST.drop(['cust_payment_terms'],axis=1)                                        # dropping cust_payment_terms"
   ]
  },
  {
   "cell_type": "code",
   "execution_count": 138,
   "id": "d38e9b27",
   "metadata": {},
   "outputs": [],
   "source": [
    "TEST=TEST.drop(['invoice_currency'],axis=1)                                          # dropping invoice_currency"
   ]
  },
  {
   "cell_type": "code",
   "execution_count": 139,
   "id": "e18e4dfc",
   "metadata": {},
   "outputs": [],
   "source": [
    "TEST['due_day'] = TEST['due_in_date'].dt.day\n",
    "TEST['due_month'] = TEST['due_in_date'].dt.month                                      # extracting day and month from due_date"
   ]
  },
  {
   "cell_type": "code",
   "execution_count": 140,
   "id": "bf4091a0",
   "metadata": {},
   "outputs": [],
   "source": [
    "TEST=TEST.drop(['due_in_date'],axis=1)                                                # dropping due_in_date"
   ]
  },
  {
   "cell_type": "code",
   "execution_count": 141,
   "id": "21fa0eb1",
   "metadata": {},
   "outputs": [],
   "source": [
    "TEST['posting_date']=pd.to_datetime(TEST['posting_date'])                           # extracting day and month from posting_date\n",
    "TEST['posting_day'] = TEST['posting_date'].dt.day\n",
    "TEST['posting_month'] = TEST['posting_date'].dt.month\n"
   ]
  },
  {
   "cell_type": "code",
   "execution_count": 142,
   "id": "824fadac",
   "metadata": {},
   "outputs": [],
   "source": [
    "TEST=TEST.drop(['posting_date'],axis=1)                                            # dropping posting_date"
   ]
  },
  {
   "cell_type": "code",
   "execution_count": 143,
   "id": "e7d3f195",
   "metadata": {},
   "outputs": [],
   "source": [
    "TEST=TEST.drop(['baseline_create_date','document_create_date.1'],axis=1)           # dropping baseline_create_date and document_create.1"
   ]
  },
  {
   "cell_type": "markdown",
   "id": "3d04845b",
   "metadata": {},
   "source": [
    "## Checking and selecting the faetures from TEST same as x_train "
   ]
  },
  {
   "cell_type": "code",
   "execution_count": 144,
   "id": "e5834859",
   "metadata": {},
   "outputs": [
    {
     "data": {
      "text/plain": [
       "Index(['doc_id', 'total_open_amount', 'invoice_id', 'business_code_enc',\n",
       "       'cust_number_enc', 'name_customer_enc', 'cust_payment_terms_enc',\n",
       "       'due_day', 'due_month', 'posting_day', 'posting_month'],\n",
       "      dtype='object')"
      ]
     },
     "execution_count": 144,
     "metadata": {},
     "output_type": "execute_result"
    }
   ],
   "source": [
    "TEST.columns                                                  #checking columns of TEST"
   ]
  },
  {
   "cell_type": "code",
   "execution_count": 145,
   "id": "c54e4810",
   "metadata": {},
   "outputs": [
    {
     "data": {
      "text/plain": [
       "Index(['doc_id', 'total_open_amount', 'invoice_id', 'business_code_enc',\n",
       "       'cust_number_enc', 'name_customer_enc', 'cust_payment_terms_enc',\n",
       "       'posting_day', 'posting_month'],\n",
       "      dtype='object')"
      ]
     },
     "execution_count": 145,
     "metadata": {},
     "output_type": "execute_result"
    }
   ],
   "source": [
    "x_train.columns                                              # checking columns of x_train"
   ]
  },
  {
   "cell_type": "code",
   "execution_count": 146,
   "id": "e65a8a7e",
   "metadata": {},
   "outputs": [],
   "source": [
    "# selecting feature from TEST\n",
    "selected_TEST=TEST[['cust_payment_terms_enc','name_customer_enc','total_open_amount','cust_number_enc','doc_id','invoice_id','business_code_enc']]"
   ]
  },
  {
   "cell_type": "markdown",
   "id": "31a85bc8",
   "metadata": {},
   "source": [
    "# Predicting delay_days on the TEST  using Support Vector Regression"
   ]
  },
  {
   "cell_type": "code",
   "execution_count": 147,
   "id": "eb4ad73f",
   "metadata": {},
   "outputs": [],
   "source": [
    "final_result = clf.predict(selected_TEST)    #predicting on selected_TEST"
   ]
  },
  {
   "cell_type": "code",
   "execution_count": 148,
   "id": "8109c97e",
   "metadata": {},
   "outputs": [],
   "source": [
    "final_result = pd.Series(final_result,name='delay')      #converting final_result into series\n"
   ]
  },
  {
   "cell_type": "code",
   "execution_count": 149,
   "id": "b71e6df7",
   "metadata": {},
   "outputs": [
    {
     "data": {
      "text/plain": [
       "0      -0.103516\n",
       "1      -0.103189\n",
       "2      -0.103056\n",
       "3      -0.103034\n",
       "4      -0.104353\n",
       "          ...   \n",
       "9363   -0.103224\n",
       "9364   -0.103259\n",
       "9365   -0.104312\n",
       "9366   -0.103973\n",
       "9367   -0.103741\n",
       "Name: delay, Length: 9368, dtype: float64"
      ]
     },
     "execution_count": 149,
     "metadata": {},
     "output_type": "execute_result"
    }
   ],
   "source": [
    "final_result"
   ]
  },
  {
   "cell_type": "code",
   "execution_count": 150,
   "id": "931bfb85",
   "metadata": {},
   "outputs": [
    {
     "data": {
      "text/plain": [
       "0"
      ]
     },
     "execution_count": 150,
     "metadata": {},
     "output_type": "execute_result"
    }
   ],
   "source": [
    "final_result.isnull().sum()       #checking for the null values"
   ]
  },
  {
   "cell_type": "code",
   "execution_count": 151,
   "id": "c3843293",
   "metadata": {},
   "outputs": [],
   "source": [
    "real_test.reset_index(drop=True,inplace=True)   #reseting the index of real_test\n"
   ]
  },
  {
   "cell_type": "code",
   "execution_count": 152,
   "id": "7e8fea33",
   "metadata": {},
   "outputs": [],
   "source": [
    "real_test['delay_days']=final_result            #appending the predicted result in real_test in column delay day"
   ]
  },
  {
   "cell_type": "code",
   "execution_count": 153,
   "id": "ff2f0326",
   "metadata": {},
   "outputs": [
    {
     "data": {
      "text/plain": [
       "[]"
      ]
     },
     "execution_count": 153,
     "metadata": {},
     "output_type": "execute_result"
    }
   ],
   "source": [
    "[col for col in real_test.columns if real_test[col].isnull().sum() > 0]  #Checking if there any NULL values "
   ]
  },
  {
   "cell_type": "code",
   "execution_count": 154,
   "id": "a6681e64",
   "metadata": {},
   "outputs": [
    {
     "data": {
      "text/html": [
       "<div>\n",
       "<style scoped>\n",
       "    .dataframe tbody tr th:only-of-type {\n",
       "        vertical-align: middle;\n",
       "    }\n",
       "\n",
       "    .dataframe tbody tr th {\n",
       "        vertical-align: top;\n",
       "    }\n",
       "\n",
       "    .dataframe thead th {\n",
       "        text-align: right;\n",
       "    }\n",
       "</style>\n",
       "<table border=\"1\" class=\"dataframe\">\n",
       "  <thead>\n",
       "    <tr style=\"text-align: right;\">\n",
       "      <th></th>\n",
       "      <th>business_code</th>\n",
       "      <th>cust_number</th>\n",
       "      <th>name_customer</th>\n",
       "      <th>buisness_year</th>\n",
       "      <th>doc_id</th>\n",
       "      <th>posting_date</th>\n",
       "      <th>document_create_date.1</th>\n",
       "      <th>due_in_date</th>\n",
       "      <th>invoice_currency</th>\n",
       "      <th>total_open_amount</th>\n",
       "      <th>baseline_create_date</th>\n",
       "      <th>cust_payment_terms</th>\n",
       "      <th>invoice_id</th>\n",
       "      <th>isOpen</th>\n",
       "      <th>delay_days</th>\n",
       "    </tr>\n",
       "  </thead>\n",
       "  <tbody>\n",
       "    <tr>\n",
       "      <th>0</th>\n",
       "      <td>U001</td>\n",
       "      <td>0200769623</td>\n",
       "      <td>WAL-MAR systems</td>\n",
       "      <td>2020.0</td>\n",
       "      <td>1.930676e+09</td>\n",
       "      <td>2020-03-21</td>\n",
       "      <td>2020-03-21</td>\n",
       "      <td>2020-04-05</td>\n",
       "      <td>USD</td>\n",
       "      <td>16497.30</td>\n",
       "      <td>2020-03-21</td>\n",
       "      <td>NAH4</td>\n",
       "      <td>1.930676e+09</td>\n",
       "      <td>1</td>\n",
       "      <td>-0.103516</td>\n",
       "    </tr>\n",
       "    <tr>\n",
       "      <th>1</th>\n",
       "      <td>U001</td>\n",
       "      <td>0200920735</td>\n",
       "      <td>ALBERT trust</td>\n",
       "      <td>2020.0</td>\n",
       "      <td>1.930605e+09</td>\n",
       "      <td>2020-03-05</td>\n",
       "      <td>2020-03-05</td>\n",
       "      <td>2020-03-20</td>\n",
       "      <td>USD</td>\n",
       "      <td>136153.34</td>\n",
       "      <td>2020-03-05</td>\n",
       "      <td>NAA8</td>\n",
       "      <td>1.930605e+09</td>\n",
       "      <td>1</td>\n",
       "      <td>-0.103189</td>\n",
       "    </tr>\n",
       "    <tr>\n",
       "      <th>2</th>\n",
       "      <td>U001</td>\n",
       "      <td>0200723794</td>\n",
       "      <td>MID MO llc</td>\n",
       "      <td>2020.0</td>\n",
       "      <td>1.930576e+09</td>\n",
       "      <td>2020-02-27</td>\n",
       "      <td>2020-02-27</td>\n",
       "      <td>2020-03-13</td>\n",
       "      <td>USD</td>\n",
       "      <td>124685.91</td>\n",
       "      <td>2020-02-27</td>\n",
       "      <td>NAA8</td>\n",
       "      <td>1.930576e+09</td>\n",
       "      <td>1</td>\n",
       "      <td>-0.103056</td>\n",
       "    </tr>\n",
       "    <tr>\n",
       "      <th>3</th>\n",
       "      <td>U001</td>\n",
       "      <td>0200726979</td>\n",
       "      <td>BJ'S</td>\n",
       "      <td>2020.0</td>\n",
       "      <td>1.930572e+09</td>\n",
       "      <td>2020-02-27</td>\n",
       "      <td>2020-02-27</td>\n",
       "      <td>2020-03-13</td>\n",
       "      <td>USD</td>\n",
       "      <td>627.46</td>\n",
       "      <td>2020-02-27</td>\n",
       "      <td>NAA8</td>\n",
       "      <td>1.930572e+09</td>\n",
       "      <td>1</td>\n",
       "      <td>-0.103034</td>\n",
       "    </tr>\n",
       "    <tr>\n",
       "      <th>4</th>\n",
       "      <td>U001</td>\n",
       "      <td>0100021540</td>\n",
       "      <td>MASTER in</td>\n",
       "      <td>2020.0</td>\n",
       "      <td>1.930855e+09</td>\n",
       "      <td>2020-05-04</td>\n",
       "      <td>2020-05-04</td>\n",
       "      <td>2020-05-14</td>\n",
       "      <td>USD</td>\n",
       "      <td>2885.54</td>\n",
       "      <td>2020-05-04</td>\n",
       "      <td>NA10</td>\n",
       "      <td>1.930855e+09</td>\n",
       "      <td>1</td>\n",
       "      <td>-0.104353</td>\n",
       "    </tr>\n",
       "  </tbody>\n",
       "</table>\n",
       "</div>"
      ],
      "text/plain": [
       "  business_code cust_number    name_customer  buisness_year        doc_id  \\\n",
       "0          U001  0200769623  WAL-MAR systems         2020.0  1.930676e+09   \n",
       "1          U001  0200920735     ALBERT trust         2020.0  1.930605e+09   \n",
       "2          U001  0200723794       MID MO llc         2020.0  1.930576e+09   \n",
       "3          U001  0200726979           BJ'S           2020.0  1.930572e+09   \n",
       "4          U001  0100021540        MASTER in         2020.0  1.930855e+09   \n",
       "\n",
       "  posting_date document_create_date.1 due_in_date invoice_currency  \\\n",
       "0   2020-03-21             2020-03-21  2020-04-05              USD   \n",
       "1   2020-03-05             2020-03-05  2020-03-20              USD   \n",
       "2   2020-02-27             2020-02-27  2020-03-13              USD   \n",
       "3   2020-02-27             2020-02-27  2020-03-13              USD   \n",
       "4   2020-05-04             2020-05-04  2020-05-14              USD   \n",
       "\n",
       "   total_open_amount baseline_create_date cust_payment_terms    invoice_id  \\\n",
       "0           16497.30           2020-03-21               NAH4  1.930676e+09   \n",
       "1          136153.34           2020-03-05               NAA8  1.930605e+09   \n",
       "2          124685.91           2020-02-27               NAA8  1.930576e+09   \n",
       "3             627.46           2020-02-27               NAA8  1.930572e+09   \n",
       "4            2885.54           2020-05-04               NA10  1.930855e+09   \n",
       "\n",
       "   isOpen  delay_days  \n",
       "0       1   -0.103516  \n",
       "1       1   -0.103189  \n",
       "2       1   -0.103056  \n",
       "3       1   -0.103034  \n",
       "4       1   -0.104353  "
      ]
     },
     "execution_count": 154,
     "metadata": {},
     "output_type": "execute_result"
    }
   ],
   "source": [
    "real_test.head()   #checking the dataset"
   ]
  },
  {
   "cell_type": "code",
   "execution_count": 155,
   "id": "0369065c",
   "metadata": {},
   "outputs": [],
   "source": [
    "# Function to make buckets of the delay_days\n",
    "def delay_buckets(x):\n",
    "    if (x < 16): return '0-15'\n",
    "    elif (x>15 or x<31): return '15-30' \n",
    "    elif (x>30 or x<46): return '30-45'  \n",
    "    else: return '45+'"
   ]
  },
  {
   "cell_type": "code",
   "execution_count": 156,
   "id": "f68cef9f",
   "metadata": {},
   "outputs": [],
   "source": [
    "# Appending the buckets of delay_days in real_test in column delay_bucket\n",
    "real_test['delay_bucket'] = real_test.delay_days.apply(delay_buckets)"
   ]
  },
  {
   "cell_type": "code",
   "execution_count": 157,
   "id": "30d446d0",
   "metadata": {},
   "outputs": [],
   "source": [
    "# Making the new column Payment_day_predicted (that is = due_date + delay_days)\n",
    "import datetime\n",
    "real_test['due_in_date'] = pd.to_datetime(real_test['due_in_date'])\n",
    "real_test['delay_days'] = pd.to_timedelta(real_test['delay_days'],'d')\n",
    "real_test['Payment_day_predicted'] = real_test['due_in_date'] + real_test['delay_days']"
   ]
  },
  {
   "cell_type": "code",
   "execution_count": 158,
   "id": "2c95e503",
   "metadata": {},
   "outputs": [
    {
     "data": {
      "text/html": [
       "<div>\n",
       "<style scoped>\n",
       "    .dataframe tbody tr th:only-of-type {\n",
       "        vertical-align: middle;\n",
       "    }\n",
       "\n",
       "    .dataframe tbody tr th {\n",
       "        vertical-align: top;\n",
       "    }\n",
       "\n",
       "    .dataframe thead th {\n",
       "        text-align: right;\n",
       "    }\n",
       "</style>\n",
       "<table border=\"1\" class=\"dataframe\">\n",
       "  <thead>\n",
       "    <tr style=\"text-align: right;\">\n",
       "      <th></th>\n",
       "      <th>business_code</th>\n",
       "      <th>cust_number</th>\n",
       "      <th>name_customer</th>\n",
       "      <th>buisness_year</th>\n",
       "      <th>doc_id</th>\n",
       "      <th>posting_date</th>\n",
       "      <th>document_create_date.1</th>\n",
       "      <th>due_in_date</th>\n",
       "      <th>invoice_currency</th>\n",
       "      <th>total_open_amount</th>\n",
       "      <th>baseline_create_date</th>\n",
       "      <th>cust_payment_terms</th>\n",
       "      <th>invoice_id</th>\n",
       "      <th>isOpen</th>\n",
       "      <th>delay_days</th>\n",
       "      <th>delay_bucket</th>\n",
       "      <th>Payment_day_predicted</th>\n",
       "    </tr>\n",
       "  </thead>\n",
       "  <tbody>\n",
       "    <tr>\n",
       "      <th>0</th>\n",
       "      <td>U001</td>\n",
       "      <td>0200769623</td>\n",
       "      <td>WAL-MAR systems</td>\n",
       "      <td>2020.0</td>\n",
       "      <td>1.930676e+09</td>\n",
       "      <td>2020-03-21</td>\n",
       "      <td>2020-03-21</td>\n",
       "      <td>2020-04-05</td>\n",
       "      <td>USD</td>\n",
       "      <td>16497.30</td>\n",
       "      <td>2020-03-21</td>\n",
       "      <td>NAH4</td>\n",
       "      <td>1.930676e+09</td>\n",
       "      <td>1</td>\n",
       "      <td>-1 days +21:30:56.184681600</td>\n",
       "      <td>0-15</td>\n",
       "      <td>2020-04-04 21:30:56.184681600</td>\n",
       "    </tr>\n",
       "    <tr>\n",
       "      <th>1</th>\n",
       "      <td>U001</td>\n",
       "      <td>0200920735</td>\n",
       "      <td>ALBERT trust</td>\n",
       "      <td>2020.0</td>\n",
       "      <td>1.930605e+09</td>\n",
       "      <td>2020-03-05</td>\n",
       "      <td>2020-03-05</td>\n",
       "      <td>2020-03-20</td>\n",
       "      <td>USD</td>\n",
       "      <td>136153.34</td>\n",
       "      <td>2020-03-05</td>\n",
       "      <td>NAA8</td>\n",
       "      <td>1.930605e+09</td>\n",
       "      <td>1</td>\n",
       "      <td>-1 days +21:31:24.441456</td>\n",
       "      <td>0-15</td>\n",
       "      <td>2020-03-19 21:31:24.441456000</td>\n",
       "    </tr>\n",
       "    <tr>\n",
       "      <th>2</th>\n",
       "      <td>U001</td>\n",
       "      <td>0200723794</td>\n",
       "      <td>MID MO llc</td>\n",
       "      <td>2020.0</td>\n",
       "      <td>1.930576e+09</td>\n",
       "      <td>2020-02-27</td>\n",
       "      <td>2020-02-27</td>\n",
       "      <td>2020-03-13</td>\n",
       "      <td>USD</td>\n",
       "      <td>124685.91</td>\n",
       "      <td>2020-02-27</td>\n",
       "      <td>NAA8</td>\n",
       "      <td>1.930576e+09</td>\n",
       "      <td>1</td>\n",
       "      <td>-1 days +21:31:35.979916800</td>\n",
       "      <td>0-15</td>\n",
       "      <td>2020-03-12 21:31:35.979916800</td>\n",
       "    </tr>\n",
       "    <tr>\n",
       "      <th>3</th>\n",
       "      <td>U001</td>\n",
       "      <td>0200726979</td>\n",
       "      <td>BJ'S</td>\n",
       "      <td>2020.0</td>\n",
       "      <td>1.930572e+09</td>\n",
       "      <td>2020-02-27</td>\n",
       "      <td>2020-02-27</td>\n",
       "      <td>2020-03-13</td>\n",
       "      <td>USD</td>\n",
       "      <td>627.46</td>\n",
       "      <td>2020-02-27</td>\n",
       "      <td>NAA8</td>\n",
       "      <td>1.930572e+09</td>\n",
       "      <td>1</td>\n",
       "      <td>-1 days +21:31:37.881235200</td>\n",
       "      <td>0-15</td>\n",
       "      <td>2020-03-12 21:31:37.881235200</td>\n",
       "    </tr>\n",
       "    <tr>\n",
       "      <th>4</th>\n",
       "      <td>U001</td>\n",
       "      <td>0100021540</td>\n",
       "      <td>MASTER in</td>\n",
       "      <td>2020.0</td>\n",
       "      <td>1.930855e+09</td>\n",
       "      <td>2020-05-04</td>\n",
       "      <td>2020-05-04</td>\n",
       "      <td>2020-05-14</td>\n",
       "      <td>USD</td>\n",
       "      <td>2885.54</td>\n",
       "      <td>2020-05-04</td>\n",
       "      <td>NA10</td>\n",
       "      <td>1.930855e+09</td>\n",
       "      <td>1</td>\n",
       "      <td>-1 days +21:29:43.916611200</td>\n",
       "      <td>0-15</td>\n",
       "      <td>2020-05-13 21:29:43.916611200</td>\n",
       "    </tr>\n",
       "    <tr>\n",
       "      <th>...</th>\n",
       "      <td>...</td>\n",
       "      <td>...</td>\n",
       "      <td>...</td>\n",
       "      <td>...</td>\n",
       "      <td>...</td>\n",
       "      <td>...</td>\n",
       "      <td>...</td>\n",
       "      <td>...</td>\n",
       "      <td>...</td>\n",
       "      <td>...</td>\n",
       "      <td>...</td>\n",
       "      <td>...</td>\n",
       "      <td>...</td>\n",
       "      <td>...</td>\n",
       "      <td>...</td>\n",
       "      <td>...</td>\n",
       "      <td>...</td>\n",
       "    </tr>\n",
       "    <tr>\n",
       "      <th>9363</th>\n",
       "      <td>U001</td>\n",
       "      <td>0200769623</td>\n",
       "      <td>WAL-MAR foundation</td>\n",
       "      <td>2020.0</td>\n",
       "      <td>1.930613e+09</td>\n",
       "      <td>2020-03-06</td>\n",
       "      <td>2020-03-06</td>\n",
       "      <td>2020-03-21</td>\n",
       "      <td>USD</td>\n",
       "      <td>50972.52</td>\n",
       "      <td>2020-03-06</td>\n",
       "      <td>NAH4</td>\n",
       "      <td>1.930613e+09</td>\n",
       "      <td>1</td>\n",
       "      <td>-1 days +21:31:21.415123200</td>\n",
       "      <td>0-15</td>\n",
       "      <td>2020-03-20 21:31:21.415123200</td>\n",
       "    </tr>\n",
       "    <tr>\n",
       "      <th>9364</th>\n",
       "      <td>U001</td>\n",
       "      <td>0200769623</td>\n",
       "      <td>WAL-MAR us</td>\n",
       "      <td>2020.0</td>\n",
       "      <td>1.930620e+09</td>\n",
       "      <td>2020-03-07</td>\n",
       "      <td>2020-03-07</td>\n",
       "      <td>2020-03-22</td>\n",
       "      <td>USD</td>\n",
       "      <td>26842.88</td>\n",
       "      <td>2020-03-07</td>\n",
       "      <td>NAH4</td>\n",
       "      <td>1.930620e+09</td>\n",
       "      <td>1</td>\n",
       "      <td>-1 days +21:31:18.456441600</td>\n",
       "      <td>0-15</td>\n",
       "      <td>2020-03-21 21:31:18.456441600</td>\n",
       "    </tr>\n",
       "    <tr>\n",
       "      <th>9365</th>\n",
       "      <td>U001</td>\n",
       "      <td>0200152991</td>\n",
       "      <td>JET in</td>\n",
       "      <td>2020.0</td>\n",
       "      <td>1.930847e+09</td>\n",
       "      <td>2020-05-01</td>\n",
       "      <td>2020-05-01</td>\n",
       "      <td>2020-05-16</td>\n",
       "      <td>USD</td>\n",
       "      <td>7087.06</td>\n",
       "      <td>2020-05-01</td>\n",
       "      <td>NAA8</td>\n",
       "      <td>1.930847e+09</td>\n",
       "      <td>1</td>\n",
       "      <td>-1 days +21:29:47.445187200</td>\n",
       "      <td>0-15</td>\n",
       "      <td>2020-05-15 21:29:47.445187200</td>\n",
       "    </tr>\n",
       "    <tr>\n",
       "      <th>9366</th>\n",
       "      <td>U001</td>\n",
       "      <td>0200782669</td>\n",
       "      <td>SYGMA co</td>\n",
       "      <td>2020.0</td>\n",
       "      <td>1.930774e+09</td>\n",
       "      <td>2020-04-15</td>\n",
       "      <td>2020-04-15</td>\n",
       "      <td>2020-05-05</td>\n",
       "      <td>USD</td>\n",
       "      <td>11614.23</td>\n",
       "      <td>2020-04-15</td>\n",
       "      <td>NAD1</td>\n",
       "      <td>1.930774e+09</td>\n",
       "      <td>1</td>\n",
       "      <td>-1 days +21:30:16.755609600</td>\n",
       "      <td>0-15</td>\n",
       "      <td>2020-05-04 21:30:16.755609600</td>\n",
       "    </tr>\n",
       "    <tr>\n",
       "      <th>9367</th>\n",
       "      <td>U001</td>\n",
       "      <td>0200759878</td>\n",
       "      <td>SA co</td>\n",
       "      <td>2020.0</td>\n",
       "      <td>1.930724e+09</td>\n",
       "      <td>2020-04-02</td>\n",
       "      <td>2020-04-02</td>\n",
       "      <td>2020-04-17</td>\n",
       "      <td>USD</td>\n",
       "      <td>44234.94</td>\n",
       "      <td>2020-04-02</td>\n",
       "      <td>NAH4</td>\n",
       "      <td>1.930724e+09</td>\n",
       "      <td>1</td>\n",
       "      <td>-1 days +21:30:36.763171200</td>\n",
       "      <td>0-15</td>\n",
       "      <td>2020-04-16 21:30:36.763171200</td>\n",
       "    </tr>\n",
       "  </tbody>\n",
       "</table>\n",
       "<p>9368 rows × 17 columns</p>\n",
       "</div>"
      ],
      "text/plain": [
       "     business_code cust_number       name_customer  buisness_year  \\\n",
       "0             U001  0200769623     WAL-MAR systems         2020.0   \n",
       "1             U001  0200920735        ALBERT trust         2020.0   \n",
       "2             U001  0200723794          MID MO llc         2020.0   \n",
       "3             U001  0200726979              BJ'S           2020.0   \n",
       "4             U001  0100021540           MASTER in         2020.0   \n",
       "...            ...         ...                 ...            ...   \n",
       "9363          U001  0200769623  WAL-MAR foundation         2020.0   \n",
       "9364          U001  0200769623          WAL-MAR us         2020.0   \n",
       "9365          U001  0200152991              JET in         2020.0   \n",
       "9366          U001  0200782669            SYGMA co         2020.0   \n",
       "9367          U001  0200759878               SA co         2020.0   \n",
       "\n",
       "            doc_id posting_date document_create_date.1 due_in_date  \\\n",
       "0     1.930676e+09   2020-03-21             2020-03-21  2020-04-05   \n",
       "1     1.930605e+09   2020-03-05             2020-03-05  2020-03-20   \n",
       "2     1.930576e+09   2020-02-27             2020-02-27  2020-03-13   \n",
       "3     1.930572e+09   2020-02-27             2020-02-27  2020-03-13   \n",
       "4     1.930855e+09   2020-05-04             2020-05-04  2020-05-14   \n",
       "...            ...          ...                    ...         ...   \n",
       "9363  1.930613e+09   2020-03-06             2020-03-06  2020-03-21   \n",
       "9364  1.930620e+09   2020-03-07             2020-03-07  2020-03-22   \n",
       "9365  1.930847e+09   2020-05-01             2020-05-01  2020-05-16   \n",
       "9366  1.930774e+09   2020-04-15             2020-04-15  2020-05-05   \n",
       "9367  1.930724e+09   2020-04-02             2020-04-02  2020-04-17   \n",
       "\n",
       "     invoice_currency  total_open_amount baseline_create_date  \\\n",
       "0                 USD           16497.30           2020-03-21   \n",
       "1                 USD          136153.34           2020-03-05   \n",
       "2                 USD          124685.91           2020-02-27   \n",
       "3                 USD             627.46           2020-02-27   \n",
       "4                 USD            2885.54           2020-05-04   \n",
       "...               ...                ...                  ...   \n",
       "9363              USD           50972.52           2020-03-06   \n",
       "9364              USD           26842.88           2020-03-07   \n",
       "9365              USD            7087.06           2020-05-01   \n",
       "9366              USD           11614.23           2020-04-15   \n",
       "9367              USD           44234.94           2020-04-02   \n",
       "\n",
       "     cust_payment_terms    invoice_id  isOpen                  delay_days  \\\n",
       "0                  NAH4  1.930676e+09       1 -1 days +21:30:56.184681600   \n",
       "1                  NAA8  1.930605e+09       1    -1 days +21:31:24.441456   \n",
       "2                  NAA8  1.930576e+09       1 -1 days +21:31:35.979916800   \n",
       "3                  NAA8  1.930572e+09       1 -1 days +21:31:37.881235200   \n",
       "4                  NA10  1.930855e+09       1 -1 days +21:29:43.916611200   \n",
       "...                 ...           ...     ...                         ...   \n",
       "9363               NAH4  1.930613e+09       1 -1 days +21:31:21.415123200   \n",
       "9364               NAH4  1.930620e+09       1 -1 days +21:31:18.456441600   \n",
       "9365               NAA8  1.930847e+09       1 -1 days +21:29:47.445187200   \n",
       "9366               NAD1  1.930774e+09       1 -1 days +21:30:16.755609600   \n",
       "9367               NAH4  1.930724e+09       1 -1 days +21:30:36.763171200   \n",
       "\n",
       "     delay_bucket         Payment_day_predicted  \n",
       "0            0-15 2020-04-04 21:30:56.184681600  \n",
       "1            0-15 2020-03-19 21:31:24.441456000  \n",
       "2            0-15 2020-03-12 21:31:35.979916800  \n",
       "3            0-15 2020-03-12 21:31:37.881235200  \n",
       "4            0-15 2020-05-13 21:29:43.916611200  \n",
       "...           ...                           ...  \n",
       "9363         0-15 2020-03-20 21:31:21.415123200  \n",
       "9364         0-15 2020-03-21 21:31:18.456441600  \n",
       "9365         0-15 2020-05-15 21:29:47.445187200  \n",
       "9366         0-15 2020-05-04 21:30:16.755609600  \n",
       "9367         0-15 2020-04-16 21:30:36.763171200  \n",
       "\n",
       "[9368 rows x 17 columns]"
      ]
     },
     "execution_count": 158,
     "metadata": {},
     "output_type": "execute_result"
    }
   ],
   "source": [
    "real_test"
   ]
  },
  {
   "cell_type": "code",
   "execution_count": 159,
   "id": "2a6bfa29",
   "metadata": {},
   "outputs": [
    {
     "data": {
      "text/html": [
       "<div>\n",
       "<style scoped>\n",
       "    .dataframe tbody tr th:only-of-type {\n",
       "        vertical-align: middle;\n",
       "    }\n",
       "\n",
       "    .dataframe tbody tr th {\n",
       "        vertical-align: top;\n",
       "    }\n",
       "\n",
       "    .dataframe thead th {\n",
       "        text-align: right;\n",
       "    }\n",
       "</style>\n",
       "<table border=\"1\" class=\"dataframe\">\n",
       "  <thead>\n",
       "    <tr style=\"text-align: right;\">\n",
       "      <th></th>\n",
       "      <th>business_code</th>\n",
       "      <th>cust_number</th>\n",
       "      <th>name_customer</th>\n",
       "      <th>buisness_year</th>\n",
       "      <th>doc_id</th>\n",
       "      <th>posting_date</th>\n",
       "      <th>document_create_date.1</th>\n",
       "      <th>due_in_date</th>\n",
       "      <th>invoice_currency</th>\n",
       "      <th>total_open_amount</th>\n",
       "      <th>baseline_create_date</th>\n",
       "      <th>cust_payment_terms</th>\n",
       "      <th>invoice_id</th>\n",
       "      <th>isOpen</th>\n",
       "      <th>delay_days</th>\n",
       "      <th>delay_bucket</th>\n",
       "      <th>Payment_day_predicted</th>\n",
       "    </tr>\n",
       "  </thead>\n",
       "  <tbody>\n",
       "    <tr>\n",
       "      <th>0</th>\n",
       "      <td>U001</td>\n",
       "      <td>0200769623</td>\n",
       "      <td>WAL-MAR systems</td>\n",
       "      <td>2020.0</td>\n",
       "      <td>1.930676e+09</td>\n",
       "      <td>2020-03-21</td>\n",
       "      <td>2020-03-21</td>\n",
       "      <td>2020-04-05</td>\n",
       "      <td>USD</td>\n",
       "      <td>16497.30</td>\n",
       "      <td>2020-03-21</td>\n",
       "      <td>NAH4</td>\n",
       "      <td>1.930676e+09</td>\n",
       "      <td>1</td>\n",
       "      <td>-1 days +21:30:56.184681600</td>\n",
       "      <td>0-15</td>\n",
       "      <td>2020-04-04 21:30:56.184681600</td>\n",
       "    </tr>\n",
       "    <tr>\n",
       "      <th>1</th>\n",
       "      <td>U001</td>\n",
       "      <td>0200920735</td>\n",
       "      <td>ALBERT trust</td>\n",
       "      <td>2020.0</td>\n",
       "      <td>1.930605e+09</td>\n",
       "      <td>2020-03-05</td>\n",
       "      <td>2020-03-05</td>\n",
       "      <td>2020-03-20</td>\n",
       "      <td>USD</td>\n",
       "      <td>136153.34</td>\n",
       "      <td>2020-03-05</td>\n",
       "      <td>NAA8</td>\n",
       "      <td>1.930605e+09</td>\n",
       "      <td>1</td>\n",
       "      <td>-1 days +21:31:24.441456</td>\n",
       "      <td>0-15</td>\n",
       "      <td>2020-03-19 21:31:24.441456000</td>\n",
       "    </tr>\n",
       "    <tr>\n",
       "      <th>2</th>\n",
       "      <td>U001</td>\n",
       "      <td>0200723794</td>\n",
       "      <td>MID MO llc</td>\n",
       "      <td>2020.0</td>\n",
       "      <td>1.930576e+09</td>\n",
       "      <td>2020-02-27</td>\n",
       "      <td>2020-02-27</td>\n",
       "      <td>2020-03-13</td>\n",
       "      <td>USD</td>\n",
       "      <td>124685.91</td>\n",
       "      <td>2020-02-27</td>\n",
       "      <td>NAA8</td>\n",
       "      <td>1.930576e+09</td>\n",
       "      <td>1</td>\n",
       "      <td>-1 days +21:31:35.979916800</td>\n",
       "      <td>0-15</td>\n",
       "      <td>2020-03-12 21:31:35.979916800</td>\n",
       "    </tr>\n",
       "    <tr>\n",
       "      <th>3</th>\n",
       "      <td>U001</td>\n",
       "      <td>0200726979</td>\n",
       "      <td>BJ'S</td>\n",
       "      <td>2020.0</td>\n",
       "      <td>1.930572e+09</td>\n",
       "      <td>2020-02-27</td>\n",
       "      <td>2020-02-27</td>\n",
       "      <td>2020-03-13</td>\n",
       "      <td>USD</td>\n",
       "      <td>627.46</td>\n",
       "      <td>2020-02-27</td>\n",
       "      <td>NAA8</td>\n",
       "      <td>1.930572e+09</td>\n",
       "      <td>1</td>\n",
       "      <td>-1 days +21:31:37.881235200</td>\n",
       "      <td>0-15</td>\n",
       "      <td>2020-03-12 21:31:37.881235200</td>\n",
       "    </tr>\n",
       "    <tr>\n",
       "      <th>4</th>\n",
       "      <td>U001</td>\n",
       "      <td>0100021540</td>\n",
       "      <td>MASTER in</td>\n",
       "      <td>2020.0</td>\n",
       "      <td>1.930855e+09</td>\n",
       "      <td>2020-05-04</td>\n",
       "      <td>2020-05-04</td>\n",
       "      <td>2020-05-14</td>\n",
       "      <td>USD</td>\n",
       "      <td>2885.54</td>\n",
       "      <td>2020-05-04</td>\n",
       "      <td>NA10</td>\n",
       "      <td>1.930855e+09</td>\n",
       "      <td>1</td>\n",
       "      <td>-1 days +21:29:43.916611200</td>\n",
       "      <td>0-15</td>\n",
       "      <td>2020-05-13 21:29:43.916611200</td>\n",
       "    </tr>\n",
       "  </tbody>\n",
       "</table>\n",
       "</div>"
      ],
      "text/plain": [
       "  business_code cust_number    name_customer  buisness_year        doc_id  \\\n",
       "0          U001  0200769623  WAL-MAR systems         2020.0  1.930676e+09   \n",
       "1          U001  0200920735     ALBERT trust         2020.0  1.930605e+09   \n",
       "2          U001  0200723794       MID MO llc         2020.0  1.930576e+09   \n",
       "3          U001  0200726979           BJ'S           2020.0  1.930572e+09   \n",
       "4          U001  0100021540        MASTER in         2020.0  1.930855e+09   \n",
       "\n",
       "  posting_date document_create_date.1 due_in_date invoice_currency  \\\n",
       "0   2020-03-21             2020-03-21  2020-04-05              USD   \n",
       "1   2020-03-05             2020-03-05  2020-03-20              USD   \n",
       "2   2020-02-27             2020-02-27  2020-03-13              USD   \n",
       "3   2020-02-27             2020-02-27  2020-03-13              USD   \n",
       "4   2020-05-04             2020-05-04  2020-05-14              USD   \n",
       "\n",
       "   total_open_amount baseline_create_date cust_payment_terms    invoice_id  \\\n",
       "0           16497.30           2020-03-21               NAH4  1.930676e+09   \n",
       "1          136153.34           2020-03-05               NAA8  1.930605e+09   \n",
       "2          124685.91           2020-02-27               NAA8  1.930576e+09   \n",
       "3             627.46           2020-02-27               NAA8  1.930572e+09   \n",
       "4            2885.54           2020-05-04               NA10  1.930855e+09   \n",
       "\n",
       "   isOpen                  delay_days delay_bucket  \\\n",
       "0       1 -1 days +21:30:56.184681600         0-15   \n",
       "1       1    -1 days +21:31:24.441456         0-15   \n",
       "2       1 -1 days +21:31:35.979916800         0-15   \n",
       "3       1 -1 days +21:31:37.881235200         0-15   \n",
       "4       1 -1 days +21:29:43.916611200         0-15   \n",
       "\n",
       "          Payment_day_predicted  \n",
       "0 2020-04-04 21:30:56.184681600  \n",
       "1 2020-03-19 21:31:24.441456000  \n",
       "2 2020-03-12 21:31:35.979916800  \n",
       "3 2020-03-12 21:31:37.881235200  \n",
       "4 2020-05-13 21:29:43.916611200  "
      ]
     },
     "execution_count": 159,
     "metadata": {},
     "output_type": "execute_result"
    }
   ],
   "source": [
    "real_test.head()   # checking the head of dataset\n"
   ]
  },
  {
   "cell_type": "code",
   "execution_count": 160,
   "id": "94145370",
   "metadata": {
    "scrolled": true
   },
   "outputs": [
    {
     "data": {
      "text/html": [
       "<div>\n",
       "<style scoped>\n",
       "    .dataframe tbody tr th:only-of-type {\n",
       "        vertical-align: middle;\n",
       "    }\n",
       "\n",
       "    .dataframe tbody tr th {\n",
       "        vertical-align: top;\n",
       "    }\n",
       "\n",
       "    .dataframe thead th {\n",
       "        text-align: right;\n",
       "    }\n",
       "</style>\n",
       "<table border=\"1\" class=\"dataframe\">\n",
       "  <thead>\n",
       "    <tr style=\"text-align: right;\">\n",
       "      <th></th>\n",
       "      <th>due_in_date</th>\n",
       "      <th>Payment_day_predicted</th>\n",
       "    </tr>\n",
       "  </thead>\n",
       "  <tbody>\n",
       "    <tr>\n",
       "      <th>0</th>\n",
       "      <td>2020-04-05</td>\n",
       "      <td>2020-04-04 21:30:56.184681600</td>\n",
       "    </tr>\n",
       "    <tr>\n",
       "      <th>1</th>\n",
       "      <td>2020-03-20</td>\n",
       "      <td>2020-03-19 21:31:24.441456000</td>\n",
       "    </tr>\n",
       "    <tr>\n",
       "      <th>2</th>\n",
       "      <td>2020-03-13</td>\n",
       "      <td>2020-03-12 21:31:35.979916800</td>\n",
       "    </tr>\n",
       "    <tr>\n",
       "      <th>3</th>\n",
       "      <td>2020-03-13</td>\n",
       "      <td>2020-03-12 21:31:37.881235200</td>\n",
       "    </tr>\n",
       "    <tr>\n",
       "      <th>4</th>\n",
       "      <td>2020-05-14</td>\n",
       "      <td>2020-05-13 21:29:43.916611200</td>\n",
       "    </tr>\n",
       "    <tr>\n",
       "      <th>...</th>\n",
       "      <td>...</td>\n",
       "      <td>...</td>\n",
       "    </tr>\n",
       "    <tr>\n",
       "      <th>9363</th>\n",
       "      <td>2020-03-21</td>\n",
       "      <td>2020-03-20 21:31:21.415123200</td>\n",
       "    </tr>\n",
       "    <tr>\n",
       "      <th>9364</th>\n",
       "      <td>2020-03-22</td>\n",
       "      <td>2020-03-21 21:31:18.456441600</td>\n",
       "    </tr>\n",
       "    <tr>\n",
       "      <th>9365</th>\n",
       "      <td>2020-05-16</td>\n",
       "      <td>2020-05-15 21:29:47.445187200</td>\n",
       "    </tr>\n",
       "    <tr>\n",
       "      <th>9366</th>\n",
       "      <td>2020-05-05</td>\n",
       "      <td>2020-05-04 21:30:16.755609600</td>\n",
       "    </tr>\n",
       "    <tr>\n",
       "      <th>9367</th>\n",
       "      <td>2020-04-17</td>\n",
       "      <td>2020-04-16 21:30:36.763171200</td>\n",
       "    </tr>\n",
       "  </tbody>\n",
       "</table>\n",
       "<p>9368 rows × 2 columns</p>\n",
       "</div>"
      ],
      "text/plain": [
       "     due_in_date         Payment_day_predicted\n",
       "0     2020-04-05 2020-04-04 21:30:56.184681600\n",
       "1     2020-03-20 2020-03-19 21:31:24.441456000\n",
       "2     2020-03-13 2020-03-12 21:31:35.979916800\n",
       "3     2020-03-13 2020-03-12 21:31:37.881235200\n",
       "4     2020-05-14 2020-05-13 21:29:43.916611200\n",
       "...          ...                           ...\n",
       "9363  2020-03-21 2020-03-20 21:31:21.415123200\n",
       "9364  2020-03-22 2020-03-21 21:31:18.456441600\n",
       "9365  2020-05-16 2020-05-15 21:29:47.445187200\n",
       "9366  2020-05-05 2020-05-04 21:30:16.755609600\n",
       "9367  2020-04-17 2020-04-16 21:30:36.763171200\n",
       "\n",
       "[9368 rows x 2 columns]"
      ]
     },
     "execution_count": 160,
     "metadata": {},
     "output_type": "execute_result"
    }
   ],
   "source": [
    "real_test[['due_in_date','Payment_day_predicted']]  #checking the predicted payment date with due_date"
   ]
  },
  {
   "cell_type": "markdown",
   "id": "c3eef5fe",
   "metadata": {},
   "source": [
    "# Making the final dataset with Payment_day_predicted"
   ]
  },
  {
   "cell_type": "code",
   "execution_count": 161,
   "id": "771d3e68",
   "metadata": {},
   "outputs": [],
   "source": [
    "FINAL_DATA=real_test[['cust_number','name_customer','invoice_id','due_in_date','delay_days','delay_bucket','Payment_day_predicted']]"
   ]
  },
  {
   "cell_type": "code",
   "execution_count": 162,
   "id": "d6677221",
   "metadata": {},
   "outputs": [
    {
     "data": {
      "text/html": [
       "<div>\n",
       "<style scoped>\n",
       "    .dataframe tbody tr th:only-of-type {\n",
       "        vertical-align: middle;\n",
       "    }\n",
       "\n",
       "    .dataframe tbody tr th {\n",
       "        vertical-align: top;\n",
       "    }\n",
       "\n",
       "    .dataframe thead th {\n",
       "        text-align: right;\n",
       "    }\n",
       "</style>\n",
       "<table border=\"1\" class=\"dataframe\">\n",
       "  <thead>\n",
       "    <tr style=\"text-align: right;\">\n",
       "      <th></th>\n",
       "      <th>cust_number</th>\n",
       "      <th>name_customer</th>\n",
       "      <th>invoice_id</th>\n",
       "      <th>due_in_date</th>\n",
       "      <th>delay_days</th>\n",
       "      <th>delay_bucket</th>\n",
       "      <th>Payment_day_predicted</th>\n",
       "    </tr>\n",
       "  </thead>\n",
       "  <tbody>\n",
       "    <tr>\n",
       "      <th>0</th>\n",
       "      <td>0200769623</td>\n",
       "      <td>WAL-MAR systems</td>\n",
       "      <td>1.930676e+09</td>\n",
       "      <td>2020-04-05</td>\n",
       "      <td>-1 days +21:30:56.184681600</td>\n",
       "      <td>0-15</td>\n",
       "      <td>2020-04-04 21:30:56.184681600</td>\n",
       "    </tr>\n",
       "    <tr>\n",
       "      <th>1</th>\n",
       "      <td>0200920735</td>\n",
       "      <td>ALBERT trust</td>\n",
       "      <td>1.930605e+09</td>\n",
       "      <td>2020-03-20</td>\n",
       "      <td>-1 days +21:31:24.441456</td>\n",
       "      <td>0-15</td>\n",
       "      <td>2020-03-19 21:31:24.441456000</td>\n",
       "    </tr>\n",
       "    <tr>\n",
       "      <th>2</th>\n",
       "      <td>0200723794</td>\n",
       "      <td>MID MO llc</td>\n",
       "      <td>1.930576e+09</td>\n",
       "      <td>2020-03-13</td>\n",
       "      <td>-1 days +21:31:35.979916800</td>\n",
       "      <td>0-15</td>\n",
       "      <td>2020-03-12 21:31:35.979916800</td>\n",
       "    </tr>\n",
       "    <tr>\n",
       "      <th>3</th>\n",
       "      <td>0200726979</td>\n",
       "      <td>BJ'S</td>\n",
       "      <td>1.930572e+09</td>\n",
       "      <td>2020-03-13</td>\n",
       "      <td>-1 days +21:31:37.881235200</td>\n",
       "      <td>0-15</td>\n",
       "      <td>2020-03-12 21:31:37.881235200</td>\n",
       "    </tr>\n",
       "    <tr>\n",
       "      <th>4</th>\n",
       "      <td>0100021540</td>\n",
       "      <td>MASTER in</td>\n",
       "      <td>1.930855e+09</td>\n",
       "      <td>2020-05-14</td>\n",
       "      <td>-1 days +21:29:43.916611200</td>\n",
       "      <td>0-15</td>\n",
       "      <td>2020-05-13 21:29:43.916611200</td>\n",
       "    </tr>\n",
       "  </tbody>\n",
       "</table>\n",
       "</div>"
      ],
      "text/plain": [
       "  cust_number    name_customer    invoice_id due_in_date  \\\n",
       "0  0200769623  WAL-MAR systems  1.930676e+09  2020-04-05   \n",
       "1  0200920735     ALBERT trust  1.930605e+09  2020-03-20   \n",
       "2  0200723794       MID MO llc  1.930576e+09  2020-03-13   \n",
       "3  0200726979           BJ'S    1.930572e+09  2020-03-13   \n",
       "4  0100021540        MASTER in  1.930855e+09  2020-05-14   \n",
       "\n",
       "                   delay_days delay_bucket         Payment_day_predicted  \n",
       "0 -1 days +21:30:56.184681600         0-15 2020-04-04 21:30:56.184681600  \n",
       "1    -1 days +21:31:24.441456         0-15 2020-03-19 21:31:24.441456000  \n",
       "2 -1 days +21:31:35.979916800         0-15 2020-03-12 21:31:35.979916800  \n",
       "3 -1 days +21:31:37.881235200         0-15 2020-03-12 21:31:37.881235200  \n",
       "4 -1 days +21:29:43.916611200         0-15 2020-05-13 21:29:43.916611200  "
      ]
     },
     "execution_count": 162,
     "metadata": {},
     "output_type": "execute_result"
    }
   ],
   "source": [
    "FINAL_DATA.head()"
   ]
  },
  {
   "cell_type": "code",
   "execution_count": 163,
   "id": "98753963",
   "metadata": {},
   "outputs": [],
   "source": [
    "invoice_list=real_test[['name_customer','cust_number','invoice_id','total_open_amount','due_in_date','Payment_day_predicted','delay_bucket']]"
   ]
  },
  {
   "cell_type": "code",
   "execution_count": 164,
   "id": "60762aed",
   "metadata": {},
   "outputs": [
    {
     "data": {
      "text/html": [
       "<div>\n",
       "<style scoped>\n",
       "    .dataframe tbody tr th:only-of-type {\n",
       "        vertical-align: middle;\n",
       "    }\n",
       "\n",
       "    .dataframe tbody tr th {\n",
       "        vertical-align: top;\n",
       "    }\n",
       "\n",
       "    .dataframe thead th {\n",
       "        text-align: right;\n",
       "    }\n",
       "</style>\n",
       "<table border=\"1\" class=\"dataframe\">\n",
       "  <thead>\n",
       "    <tr style=\"text-align: right;\">\n",
       "      <th></th>\n",
       "      <th>name_customer</th>\n",
       "      <th>cust_number</th>\n",
       "      <th>invoice_id</th>\n",
       "      <th>total_open_amount</th>\n",
       "      <th>due_in_date</th>\n",
       "      <th>Payment_day_predicted</th>\n",
       "      <th>delay_bucket</th>\n",
       "    </tr>\n",
       "  </thead>\n",
       "  <tbody>\n",
       "    <tr>\n",
       "      <th>0</th>\n",
       "      <td>WAL-MAR systems</td>\n",
       "      <td>0200769623</td>\n",
       "      <td>1.930676e+09</td>\n",
       "      <td>16497.30</td>\n",
       "      <td>2020-04-05</td>\n",
       "      <td>2020-04-04 21:30:56.184681600</td>\n",
       "      <td>0-15</td>\n",
       "    </tr>\n",
       "    <tr>\n",
       "      <th>1</th>\n",
       "      <td>ALBERT trust</td>\n",
       "      <td>0200920735</td>\n",
       "      <td>1.930605e+09</td>\n",
       "      <td>136153.34</td>\n",
       "      <td>2020-03-20</td>\n",
       "      <td>2020-03-19 21:31:24.441456000</td>\n",
       "      <td>0-15</td>\n",
       "    </tr>\n",
       "    <tr>\n",
       "      <th>2</th>\n",
       "      <td>MID MO llc</td>\n",
       "      <td>0200723794</td>\n",
       "      <td>1.930576e+09</td>\n",
       "      <td>124685.91</td>\n",
       "      <td>2020-03-13</td>\n",
       "      <td>2020-03-12 21:31:35.979916800</td>\n",
       "      <td>0-15</td>\n",
       "    </tr>\n",
       "    <tr>\n",
       "      <th>3</th>\n",
       "      <td>BJ'S</td>\n",
       "      <td>0200726979</td>\n",
       "      <td>1.930572e+09</td>\n",
       "      <td>627.46</td>\n",
       "      <td>2020-03-13</td>\n",
       "      <td>2020-03-12 21:31:37.881235200</td>\n",
       "      <td>0-15</td>\n",
       "    </tr>\n",
       "    <tr>\n",
       "      <th>4</th>\n",
       "      <td>MASTER in</td>\n",
       "      <td>0100021540</td>\n",
       "      <td>1.930855e+09</td>\n",
       "      <td>2885.54</td>\n",
       "      <td>2020-05-14</td>\n",
       "      <td>2020-05-13 21:29:43.916611200</td>\n",
       "      <td>0-15</td>\n",
       "    </tr>\n",
       "  </tbody>\n",
       "</table>\n",
       "</div>"
      ],
      "text/plain": [
       "     name_customer cust_number    invoice_id  total_open_amount due_in_date  \\\n",
       "0  WAL-MAR systems  0200769623  1.930676e+09           16497.30  2020-04-05   \n",
       "1     ALBERT trust  0200920735  1.930605e+09          136153.34  2020-03-20   \n",
       "2       MID MO llc  0200723794  1.930576e+09          124685.91  2020-03-13   \n",
       "3           BJ'S    0200726979  1.930572e+09             627.46  2020-03-13   \n",
       "4        MASTER in  0100021540  1.930855e+09            2885.54  2020-05-14   \n",
       "\n",
       "          Payment_day_predicted delay_bucket  \n",
       "0 2020-04-04 21:30:56.184681600         0-15  \n",
       "1 2020-03-19 21:31:24.441456000         0-15  \n",
       "2 2020-03-12 21:31:35.979916800         0-15  \n",
       "3 2020-03-12 21:31:37.881235200         0-15  \n",
       "4 2020-05-13 21:29:43.916611200         0-15  "
      ]
     },
     "execution_count": 164,
     "metadata": {},
     "output_type": "execute_result"
    }
   ],
   "source": [
    "invoice_list.head()"
   ]
  },
  {
   "cell_type": "code",
   "execution_count": 165,
   "id": "258a7d93",
   "metadata": {},
   "outputs": [],
   "source": [
    "invoice_list['Payment_day_predicted'] = pd.to_datetime(invoice_list['Payment_day_predicted']).dt.date"
   ]
  },
  {
   "cell_type": "code",
   "execution_count": 166,
   "id": "8c9780de",
   "metadata": {},
   "outputs": [
    {
     "data": {
      "text/html": [
       "<div>\n",
       "<style scoped>\n",
       "    .dataframe tbody tr th:only-of-type {\n",
       "        vertical-align: middle;\n",
       "    }\n",
       "\n",
       "    .dataframe tbody tr th {\n",
       "        vertical-align: top;\n",
       "    }\n",
       "\n",
       "    .dataframe thead th {\n",
       "        text-align: right;\n",
       "    }\n",
       "</style>\n",
       "<table border=\"1\" class=\"dataframe\">\n",
       "  <thead>\n",
       "    <tr style=\"text-align: right;\">\n",
       "      <th></th>\n",
       "      <th>name_customer</th>\n",
       "      <th>cust_number</th>\n",
       "      <th>invoice_id</th>\n",
       "      <th>total_open_amount</th>\n",
       "      <th>due_in_date</th>\n",
       "      <th>Payment_day_predicted</th>\n",
       "      <th>delay_bucket</th>\n",
       "    </tr>\n",
       "  </thead>\n",
       "  <tbody>\n",
       "    <tr>\n",
       "      <th>0</th>\n",
       "      <td>WAL-MAR systems</td>\n",
       "      <td>0200769623</td>\n",
       "      <td>1.930676e+09</td>\n",
       "      <td>16497.30</td>\n",
       "      <td>2020-04-05</td>\n",
       "      <td>2020-04-04</td>\n",
       "      <td>0-15</td>\n",
       "    </tr>\n",
       "    <tr>\n",
       "      <th>1</th>\n",
       "      <td>ALBERT trust</td>\n",
       "      <td>0200920735</td>\n",
       "      <td>1.930605e+09</td>\n",
       "      <td>136153.34</td>\n",
       "      <td>2020-03-20</td>\n",
       "      <td>2020-03-19</td>\n",
       "      <td>0-15</td>\n",
       "    </tr>\n",
       "    <tr>\n",
       "      <th>2</th>\n",
       "      <td>MID MO llc</td>\n",
       "      <td>0200723794</td>\n",
       "      <td>1.930576e+09</td>\n",
       "      <td>124685.91</td>\n",
       "      <td>2020-03-13</td>\n",
       "      <td>2020-03-12</td>\n",
       "      <td>0-15</td>\n",
       "    </tr>\n",
       "    <tr>\n",
       "      <th>3</th>\n",
       "      <td>BJ'S</td>\n",
       "      <td>0200726979</td>\n",
       "      <td>1.930572e+09</td>\n",
       "      <td>627.46</td>\n",
       "      <td>2020-03-13</td>\n",
       "      <td>2020-03-12</td>\n",
       "      <td>0-15</td>\n",
       "    </tr>\n",
       "    <tr>\n",
       "      <th>4</th>\n",
       "      <td>MASTER in</td>\n",
       "      <td>0100021540</td>\n",
       "      <td>1.930855e+09</td>\n",
       "      <td>2885.54</td>\n",
       "      <td>2020-05-14</td>\n",
       "      <td>2020-05-13</td>\n",
       "      <td>0-15</td>\n",
       "    </tr>\n",
       "  </tbody>\n",
       "</table>\n",
       "</div>"
      ],
      "text/plain": [
       "     name_customer cust_number    invoice_id  total_open_amount due_in_date  \\\n",
       "0  WAL-MAR systems  0200769623  1.930676e+09           16497.30  2020-04-05   \n",
       "1     ALBERT trust  0200920735  1.930605e+09          136153.34  2020-03-20   \n",
       "2       MID MO llc  0200723794  1.930576e+09          124685.91  2020-03-13   \n",
       "3           BJ'S    0200726979  1.930572e+09             627.46  2020-03-13   \n",
       "4        MASTER in  0100021540  1.930855e+09            2885.54  2020-05-14   \n",
       "\n",
       "  Payment_day_predicted delay_bucket  \n",
       "0            2020-04-04         0-15  \n",
       "1            2020-03-19         0-15  \n",
       "2            2020-03-12         0-15  \n",
       "3            2020-03-12         0-15  \n",
       "4            2020-05-13         0-15  "
      ]
     },
     "execution_count": 166,
     "metadata": {},
     "output_type": "execute_result"
    }
   ],
   "source": [
    "invoice_list.head()"
   ]
  },
  {
   "cell_type": "code",
   "execution_count": 167,
   "id": "2a901741",
   "metadata": {},
   "outputs": [],
   "source": [
    "#invoice_list.to_csv(\"DBdata.csv\",index=False)"
   ]
  },
  {
   "cell_type": "code",
   "execution_count": 168,
   "id": "067cc270",
   "metadata": {},
   "outputs": [],
   "source": [
    "groups = invoice_list.groupby('cust_number')"
   ]
  },
  {
   "cell_type": "code",
   "execution_count": 169,
   "id": "638e2906",
   "metadata": {},
   "outputs": [
    {
     "data": {
      "text/html": [
       "<div>\n",
       "<style scoped>\n",
       "    .dataframe tbody tr th:only-of-type {\n",
       "        vertical-align: middle;\n",
       "    }\n",
       "\n",
       "    .dataframe tbody tr th {\n",
       "        vertical-align: top;\n",
       "    }\n",
       "\n",
       "    .dataframe thead th {\n",
       "        text-align: right;\n",
       "    }\n",
       "</style>\n",
       "<table border=\"1\" class=\"dataframe\">\n",
       "  <thead>\n",
       "    <tr style=\"text-align: right;\">\n",
       "      <th></th>\n",
       "      <th>name_customer</th>\n",
       "      <th>cust_number</th>\n",
       "      <th>invoice_id</th>\n",
       "      <th>total_open_amount</th>\n",
       "      <th>due_in_date</th>\n",
       "      <th>Payment_day_predicted</th>\n",
       "      <th>delay_bucket</th>\n",
       "    </tr>\n",
       "  </thead>\n",
       "  <tbody>\n",
       "    <tr>\n",
       "      <th>0</th>\n",
       "      <td>WAL-MAR systems</td>\n",
       "      <td>0200769623</td>\n",
       "      <td>1.930676e+09</td>\n",
       "      <td>16497.30</td>\n",
       "      <td>2020-04-05</td>\n",
       "      <td>2020-04-04</td>\n",
       "      <td>0-15</td>\n",
       "    </tr>\n",
       "    <tr>\n",
       "      <th>1</th>\n",
       "      <td>ALBERT trust</td>\n",
       "      <td>0200920735</td>\n",
       "      <td>1.930605e+09</td>\n",
       "      <td>136153.34</td>\n",
       "      <td>2020-03-20</td>\n",
       "      <td>2020-03-19</td>\n",
       "      <td>0-15</td>\n",
       "    </tr>\n",
       "    <tr>\n",
       "      <th>2</th>\n",
       "      <td>MID MO llc</td>\n",
       "      <td>0200723794</td>\n",
       "      <td>1.930576e+09</td>\n",
       "      <td>124685.91</td>\n",
       "      <td>2020-03-13</td>\n",
       "      <td>2020-03-12</td>\n",
       "      <td>0-15</td>\n",
       "    </tr>\n",
       "    <tr>\n",
       "      <th>3</th>\n",
       "      <td>BJ'S</td>\n",
       "      <td>0200726979</td>\n",
       "      <td>1.930572e+09</td>\n",
       "      <td>627.46</td>\n",
       "      <td>2020-03-13</td>\n",
       "      <td>2020-03-12</td>\n",
       "      <td>0-15</td>\n",
       "    </tr>\n",
       "    <tr>\n",
       "      <th>4</th>\n",
       "      <td>MASTER in</td>\n",
       "      <td>0100021540</td>\n",
       "      <td>1.930855e+09</td>\n",
       "      <td>2885.54</td>\n",
       "      <td>2020-05-14</td>\n",
       "      <td>2020-05-13</td>\n",
       "      <td>0-15</td>\n",
       "    </tr>\n",
       "    <tr>\n",
       "      <th>...</th>\n",
       "      <td>...</td>\n",
       "      <td>...</td>\n",
       "      <td>...</td>\n",
       "      <td>...</td>\n",
       "      <td>...</td>\n",
       "      <td>...</td>\n",
       "      <td>...</td>\n",
       "    </tr>\n",
       "    <tr>\n",
       "      <th>9277</th>\n",
       "      <td>MAINES systems</td>\n",
       "      <td>200765011</td>\n",
       "      <td>1.930915e+09</td>\n",
       "      <td>16099.20</td>\n",
       "      <td>2020-06-02</td>\n",
       "      <td>2020-06-01</td>\n",
       "      <td>0-15</td>\n",
       "    </tr>\n",
       "    <tr>\n",
       "      <th>9289</th>\n",
       "      <td>IND</td>\n",
       "      <td>0100011958</td>\n",
       "      <td>1.991840e+09</td>\n",
       "      <td>26639.20</td>\n",
       "      <td>2020-05-11</td>\n",
       "      <td>2020-05-10</td>\n",
       "      <td>0-15</td>\n",
       "    </tr>\n",
       "    <tr>\n",
       "      <th>9299</th>\n",
       "      <td>CO corp</td>\n",
       "      <td>200561861</td>\n",
       "      <td>1.930647e+09</td>\n",
       "      <td>30906.69</td>\n",
       "      <td>2020-04-03</td>\n",
       "      <td>2020-04-02</td>\n",
       "      <td>0-15</td>\n",
       "    </tr>\n",
       "    <tr>\n",
       "      <th>9352</th>\n",
       "      <td>PJ</td>\n",
       "      <td>0100046480</td>\n",
       "      <td>1.991842e+09</td>\n",
       "      <td>13901.00</td>\n",
       "      <td>2020-04-24</td>\n",
       "      <td>2020-04-23</td>\n",
       "      <td>0-15</td>\n",
       "    </tr>\n",
       "    <tr>\n",
       "      <th>9356</th>\n",
       "      <td>SHAM foundation</td>\n",
       "      <td>0200708411</td>\n",
       "      <td>1.930606e+09</td>\n",
       "      <td>56280.42</td>\n",
       "      <td>2020-03-20</td>\n",
       "      <td>2020-03-19</td>\n",
       "      <td>0-15</td>\n",
       "    </tr>\n",
       "  </tbody>\n",
       "</table>\n",
       "<p>1779 rows × 7 columns</p>\n",
       "</div>"
      ],
      "text/plain": [
       "        name_customer cust_number    invoice_id  total_open_amount  \\\n",
       "0     WAL-MAR systems  0200769623  1.930676e+09           16497.30   \n",
       "1        ALBERT trust  0200920735  1.930605e+09          136153.34   \n",
       "2          MID MO llc  0200723794  1.930576e+09          124685.91   \n",
       "3              BJ'S    0200726979  1.930572e+09             627.46   \n",
       "4           MASTER in  0100021540  1.930855e+09            2885.54   \n",
       "...               ...         ...           ...                ...   \n",
       "9277   MAINES systems   200765011  1.930915e+09           16099.20   \n",
       "9289             IND   0100011958  1.991840e+09           26639.20   \n",
       "9299          CO corp   200561861  1.930647e+09           30906.69   \n",
       "9352             PJ    0100046480  1.991842e+09           13901.00   \n",
       "9356  SHAM foundation  0200708411  1.930606e+09           56280.42   \n",
       "\n",
       "     due_in_date Payment_day_predicted delay_bucket  \n",
       "0     2020-04-05            2020-04-04         0-15  \n",
       "1     2020-03-20            2020-03-19         0-15  \n",
       "2     2020-03-13            2020-03-12         0-15  \n",
       "3     2020-03-13            2020-03-12         0-15  \n",
       "4     2020-05-14            2020-05-13         0-15  \n",
       "...          ...                   ...          ...  \n",
       "9277  2020-06-02            2020-06-01         0-15  \n",
       "9289  2020-05-11            2020-05-10         0-15  \n",
       "9299  2020-04-03            2020-04-02         0-15  \n",
       "9352  2020-04-24            2020-04-23         0-15  \n",
       "9356  2020-03-20            2020-03-19         0-15  \n",
       "\n",
       "[1779 rows x 7 columns]"
      ]
     },
     "execution_count": 169,
     "metadata": {},
     "output_type": "execute_result"
    }
   ],
   "source": [
    "groups.head()\n"
   ]
  },
  {
   "cell_type": "code",
   "execution_count": null,
   "id": "8ff478bf",
   "metadata": {},
   "outputs": [],
   "source": []
  }
 ],
 "metadata": {
  "kernelspec": {
   "display_name": "Python 3",
   "language": "python",
   "name": "python3"
  },
  "language_info": {
   "codemirror_mode": {
    "name": "ipython",
    "version": 3
   },
   "file_extension": ".py",
   "mimetype": "text/x-python",
   "name": "python",
   "nbconvert_exporter": "python",
   "pygments_lexer": "ipython3",
   "version": "3.9.5"
  }
 },
 "nbformat": 4,
 "nbformat_minor": 5
}
